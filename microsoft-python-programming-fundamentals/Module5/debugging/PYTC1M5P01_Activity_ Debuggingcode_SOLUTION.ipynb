{
 "cells": [
  {
   "cell_type": "markdown",
   "id": "7c08abb1-801e-4216-b9a0-e116a5717676",
   "metadata": {
    "id": "7c08abb1-801e-4216-b9a0-e116a5717676"
   },
   "source": [
    "## How to Interact with this Jupyter Notebook\n",
    "\n",
    "In this activity, you will use a Jupyter Notebook, which integrates both text and code. The gray boxes contain executable code, which you will run in order to view its output. The text in between the code provides instructions."
   ]
  },
  {
   "cell_type": "markdown",
   "id": "7959d98f-427c-4e9c-8033-a81e614c87b5",
   "metadata": {
    "id": "7959d98f-427c-4e9c-8033-a81e614c87b5"
   },
   "source": [
    "## Scenario: Bug Squashing 101: Debugging Python Code\n",
    "\n",
    "You've just been hired as a data analyst at a renowned insect collection company. Your first task is to clean up their extensive insect database, which has unfortunately been plagued by some pesky data entry errors (and maybe a few actual bugs!).\n",
    "\n",
    "Through a series of interactive exercises, you'll learn how to identify and fix common data inconsistencies and errors using Python. You'll analyze error messages, strategically use print statements, and apply your Python skills to ensure the accuracy and integrity of the insect collection data. By the end of this activity, you'll be a bug-squashing champion, ready to tackle any messy dataset with confidence and precision!\n",
    "\n",
    "### Project Summary:\n",
    "You'll encounter and learn how to resolve common errors that can occur when working with data, such as:\n",
    "\n",
    "* FileNotFoundError: Troubleshoot issues related to missing or inaccessible data files, ensuring your scripts can locate and read the crucial insect collection records.\n",
    "\n",
    "* TypeError: Navigate through type-related errors, ensuring that you're performing operations on compatible data types (like numerical measurements and species names) and converting them when necessary.\n",
    "\n",
    "* IndexError: Master list indexing and avoid accessing insect records beyond their valid range, preventing unexpected crashes in your data cleaning scripts.\n",
    "\n",
    "* KeyError: Confidently work with insect data dictionaries, ensuring that you're accessing existing keys (like 'species' or 'leg count') and handling missing keys gracefully.\n",
    "\n",
    "* AttributeError: Understand the distinction between different data types and their available methods, avoiding attempts to use incompatible operations on insect data.\n",
    "\n",
    "* ZeroDivisionError: Prevent division by zero errors by implementing checks and providing alternative solutions when encountering such scenarios, especially when calculating ratios or proportions based on insect attributes."
   ]
  },
  {
   "cell_type": "markdown",
   "id": "e0083ee5-2327-4194-9518-4feaf5824610",
   "metadata": {
    "id": "e0083ee5-2327-4194-9518-4feaf5824610"
   },
   "source": [
    "#### **The FileNotFoundError**\n",
    "\n",
    "You'll start with a common error you might encounter when working with files: the `FileNotFoundError`. This error occurs when Python can't find the file you're trying to access.\n",
    "\n",
    "***First, run the cell below and review the error.***\n",
    "\n",
    "##### **Debugging Tips**\n",
    "\n",
    "* **Understanding the Error:** The error message clearly states that the file `'insects.csv'` doesn't exist in the expected location.\n",
    "* Read the error message carefully: It often points directly to the problem.\n",
    "* Check file names and paths: Typos are common culprits.\n",
    "* Use print statements: Print the filename or path before trying to access it to confirm its correctness.\n",
    "* Verify file existence: Make sure the file is where you think it is.\n",
    "\n",
    "##### **Still Stuck?**\n",
    "* If you are still stuck, uncomment the code below the following line to resolve the error: `# Correct approach (commented out for reference)`"
   ]
  },
  {
   "cell_type": "code",
   "execution_count": null,
   "id": "18a3309a-5a66-45df-8198-2ea5be078adc",
   "metadata": {
    "id": "18a3309a-5a66-45df-8198-2ea5be078adc"
   },
   "outputs": [],
   "source": [
    "# Import a powerful tool called \"pandas\" that you'll use to work with and organize data easily\n",
    "import pandas as pd\n",
    "\n",
    "# Deliberate Error: Incorrect filename\n",
    "insects_df = pd.read_csv('insects.csv')\n",
    "\n",
    "# Correct approach (commented out for reference)\n",
    "#insects_df = pd.read_csv('insect_collection.csv')"
   ]
  },
  {
   "cell_type": "markdown",
   "id": "bce3f3b9-bc99-446c-9f29-f2c6514795fe",
   "metadata": {
    "id": "bce3f3b9-bc99-446c-9f29-f2c6514795fe"
   },
   "source": [
    "Great debugging skills!\n",
    "\n",
    "***In the next cell, there is no error.***\n",
    "\n",
    "Please run the cell, which reads the CSV file into a Pandas DataFrame, converts this DataFrame into a list of dictionaries named `all_insects_data` using the `to_dict()` method, and prints `all_insects_data`.\n",
    "\n",
    "Note that each dictionary in the list represents a row (an insect) from the CSV file, with the column names as keys and their corresponding values."
   ]
  },
  {
   "cell_type": "code",
   "execution_count": null,
   "id": "37f999c0-d4e5-40c0-b310-4a64b5979826",
   "metadata": {
    "id": "37f999c0-d4e5-40c0-b310-4a64b5979826"
   },
   "outputs": [],
   "source": [
    "# Convert the DataFrame to a list of dictionaries\n",
    "all_insects_data = insects_df.to_dict(orient='records')\n",
    "\n",
    "# Print the list of dictionaries\n",
    "print(all_insects_data)"
   ]
  },
  {
   "cell_type": "markdown",
   "id": "8e89a1c9-bfe9-46c0-935a-f8e056c79e8e",
   "metadata": {
    "id": "8e89a1c9-bfe9-46c0-935a-f8e056c79e8e"
   },
   "source": [
    "#### **The TypeError - Integers**\n",
    "\n",
    "Next, you'll explore how to access specific information within your insect dictionaries. You'll try to retrieve the first digit of the number of legs an insect has. Remember, dictionaries use keys to access their values.\n",
    "\n",
    "***First, run the cell below and review the error.***\n",
    "\n",
    "##### **Debugging Tips**\n",
    "\n",
    "* **Understanding the Error:** The `TypeError` indicates you're trying to use the subscript operator [] (used for accessing elements within sequences like lists or strings) on an integer, which isn't allowed.\n",
    "* Check Data Types: Use the `type()` function to confirm the data type of a variable if you're unsure.\n",
    "* Think Logically: Integers represent single numerical values, so trying to access an \"element\" within them doesn't make sense.\n",
    "* Review Your Code: Carefully examine the line causing the error and consider what you're trying to achieve. Are you using the right approach for the data type you're working with?\n",
    "\n",
    "##### **Still Stuck?**\n",
    "* If you are still stuck, uncomment the code below the following line to resolve the error: `# Correct approach (commented out for reference)`"
   ]
  },
  {
   "cell_type": "code",
   "execution_count": null,
   "id": "bd7e1168-6ec9-4b92-b201-a955d9c29484",
   "metadata": {
    "id": "bd7e1168-6ec9-4b92-b201-a955d9c29484"
   },
   "outputs": [],
   "source": [
    "# Deliberate Error: Trying to access an element within an integer\n",
    "first_insect = all_insects_data[0]\n",
    "first_digit_of_legs = first_insect['legs'][0]\n",
    "\n",
    "# Correct approach (commented out for reference)\n",
    "# first_digit_of_legs = str(first_insect['legs'])[0]\n",
    "\n",
    "print(f\"The first digit of the number of legs the {first_insect['name']} has is: {first_digit_of_legs}\")"
   ]
  },
  {
   "cell_type": "markdown",
   "id": "ef0ab4ac-bf1d-4d9d-afa9-55453377317b",
   "metadata": {
    "id": "ef0ab4ac-bf1d-4d9d-afa9-55453377317b"
   },
   "source": [
    "##### **Why the Correct Approach Works**\n",
    "\n",
    "The corrected approach works because it addresses the core issue of the TypeError. Here's a breakdown:\n",
    "\n",
    "* Type Conversion: We use str(first_insect['legs']) to convert the integer value representing the number of legs into a string. This is crucial because strings are sequences of characters, allowing us to access individual characters using indexing.\n",
    "\n",
    "* Indexing: Once we have a string representation of the number of legs, we can use [0] to access its first character, which corresponds to the first digit of the original number.\n",
    "\n",
    "In essence, we're leveraging the sequence-like nature of strings to extract the desired information from a numerical value.\n",
    "\n",
    "This technique is handy whenever you need to manipulate or analyze individual digits within a number. Remember, understanding data types and their capabilities is key to effective debugging and problem-solving in Python."
   ]
  },
  {
   "cell_type": "markdown",
   "id": "da9803ea-f564-4e79-a492-b41f14b2edbd",
   "metadata": {
    "id": "da9803ea-f564-4e79-a492-b41f14b2edbd"
   },
   "source": [
    "#### **The TypeError - Strings**\n",
    "\n",
    "In this cell, you'll explore another kind of `TypeError` while working with strings.\n",
    "\n",
    "***First, run the cell below and review the error.***\n",
    "\n",
    "##### **Debugging Tips**\n",
    "\n",
    "* **Understanding the Error:** The `TypeError` says you're trying to combine (concatenate) a string and an integer directly using the + operator, which isn't allowed in Python.\n",
    "* Type Conversion: Convert the integer to a string using str() before concatenation.\n",
    "* f-strings: Consider using f-strings (formatted string literals) for a more concise and readable way to embed variables within strings.\n",
    "\n",
    "##### **Still Stuck?**\n",
    "* If you are still stuck, uncomment the code below the following line to resolve the error: `# Correct approach (commented out for reference)`"
   ]
  },
  {
   "cell_type": "code",
   "execution_count": null,
   "id": "afefb505-d46f-4224-92be-8351e6c097b5",
   "metadata": {
    "id": "afefb505-d46f-4224-92be-8351e6c097b5"
   },
   "outputs": [],
   "source": [
    "# Deliberate Error: Trying to concatenate a string and an integer directly\n",
    "first_insect = all_insects_data[0]\n",
    "sentence = \"The \" + first_insect['name'] + \" has \" + first_insect['legs'] + \" legs.\"\n",
    "\n",
    "# Correct approach (commented out for reference)\n",
    "# sentence = f\"The {first_insect['name']} has {first_insect['legs']} legs.\"\n",
    "\n",
    "print(sentence)"
   ]
  },
  {
   "cell_type": "markdown",
   "id": "27a01fa0-d40b-4147-a1c6-d909667fc1b7",
   "metadata": {
    "id": "27a01fa0-d40b-4147-a1c6-d909667fc1b7"
   },
   "source": [
    "##### **Why the Correct Approach Works**\n",
    "\n",
    "The corrected approach, `sentence = f\"The {first_insect['name']} has {first_insect['legs']} legs.\"`, works seamlessly because it leverages the power of f-strings (formatted string literals) in Python.\n",
    "\n",
    "* F-strings for Elegant String Formatting: F-strings provide a concise and readable way to embed variables directly within strings. By enclosing variables within curly braces {}, their values are automatically converted to strings and inserted into the final string.\n",
    "\n",
    "* Implicit Type Conversion: In our example, the integer value `first_insect['legs']` is implicitly converted to a string when included within the f-string. This eliminates the need for explicit type conversion using `str()`, making the code cleaner and less prone to errors."
   ]
  },
  {
   "cell_type": "markdown",
   "id": "2d8c1c2e-1ce0-4c3a-b921-88b33c48cb22",
   "metadata": {
    "id": "2d8c1c2e-1ce0-4c3a-b921-88b33c48cb22"
   },
   "source": [
    "#### Accessing Elements in a List - The IndexError\n",
    "\n",
    "Next, you'll try to access information about an insect at a specific position (index) within your list of insect dictionaries `all_insects_data`. You'll deliberately try to access an index that is out of bounds.\n",
    "\n",
    "***First, run the cell below and review the error.***\n",
    "\n",
    "##### **Debugging Tips**\n",
    "* **Understanding the Error:** The `IndexError` indicates you're trying to access an element at an index that doesn't exist within the list.\n",
    "* Check List Length: Use the `len()` function to get the number of elements in a list. Remember, list indices start at 0, so the last valid index is `len(list) - 1`.\n",
    "* Use Conditional Statements: Before accessing an element at a specific index, check if the index is within the valid range using an if statement\n",
    "\n",
    "##### **Still Stuck?**\n",
    "* If you are still stuck, uncomment the code below the following line to resolve the error: `# Correct approach (commented out for reference)`"
   ]
  },
  {
   "cell_type": "code",
   "execution_count": null,
   "id": "2c176806-cfa2-42ac-a717-1c836f5223d4",
   "metadata": {
    "id": "2c176806-cfa2-42ac-a717-1c836f5223d4"
   },
   "outputs": [],
   "source": [
    "# Deliberate Error: Accessing an index that's out of bounds\n",
    "tenth_insect = all_insects_data[10]\n",
    "\n",
    "# Correct approach (commented out for reference)\n",
    "# if len(all_insects_data) > 9:  # Check if the 10th insect exists\n",
    "#     tenth_insect = all_insects_data[9]  # Access the 10th insect (index 9)\n",
    "# else:\n",
    "#     print(\"There are not enough insects in the collection.\")\n",
    "\n",
    "print(tenth_insect)"
   ]
  },
  {
   "cell_type": "markdown",
   "id": "c8b64d96-bc66-4831-8af3-624c13662063",
   "metadata": {
    "id": "c8b64d96-bc66-4831-8af3-624c13662063"
   },
   "source": [
    "##### **Why the Correct Approach Works**\n",
    "\n",
    "The corrected approach, which includes an if condition to check the list length before accessing an element, prevents the IndexError by ensuring we only attempt to access elements within the valid range of the list.\n",
    "\n",
    "* `len()` for List Length: The `len(all_insects_data)` function returns the total number of elements (insect dictionaries) in the list.\n",
    "\n",
    "* Zero-Based Indexing: Python lists use zero-based indexing, meaning the first element is at index 0, the second at index 1, and so on. The last valid index is `len(list) - 1`.\n",
    "\n",
    "* Conditional Access: The if `len(all_insects_data) > 9` condition checks if there are at least 10 elements in the list. If so, it safely accesses the 10th element (at index 9). Otherwise, it prints an informative message indicating that the requested insect doesn't exist."
   ]
  },
  {
   "cell_type": "markdown",
   "id": "67fbfb24-8fac-4ac2-83d6-aad18ea0e9f8",
   "metadata": {
    "id": "67fbfb24-8fac-4ac2-83d6-aad18ea0e9f8"
   },
   "source": [
    "#### Accessing Dictionary Values - The KeyError\n",
    "\n",
    "In the following cell, you'll try to access the color of an insect, even though this information isn't present in your insect dictionaries.\n",
    "\n",
    "***First, run the cell below and review the error.***\n",
    "\n",
    "##### **Debugging Tips**\n",
    "\n",
    "* **Understand the Error:** The `KeyError` says you're trying to access a key that doesn't exist in the dictionary.\n",
    "* Check for Key Existence:\n",
    "    * Use the in operator: if 'key_name' in dictionary:\n",
    "    * Use the .get() method: value = dictionary.get('key_name', default_value) (returns default_value if the key doesn't exist)\n",
    "* Handle Missing Keys Gracefully: Provide informative messages or default values when keys are missing, instead of letting your code crash.\n",
    "\n",
    "##### **Still Stuck?**\n",
    "* If you are still stuck, uncomment the code below the following line to resolve the error: `# Correct approach (commented out for reference)`"
   ]
  },
  {
   "cell_type": "code",
   "execution_count": null,
   "id": "114359e2-4216-4331-bba5-e79b4d7fe442",
   "metadata": {
    "id": "114359e2-4216-4331-bba5-e79b4d7fe442"
   },
   "outputs": [],
   "source": [
    "# Deliberate Error: Accessing a non-existent key\n",
    "first_insect = all_insects_data[0]\n",
    "color = first_insect['color']\n",
    "\n",
    "# Correct approach (commented out for reference)\n",
    "# if 'color' in first_insect:\n",
    "#     color = first_insect['color']\n",
    "# else:\n",
    "#     print(\"Color information is not available for this insect.\")\n",
    "\n",
    "print(f\"The color of the {first_insect['name']} is: {color}\")"
   ]
  },
  {
   "cell_type": "markdown",
   "id": "08a93971-a4ad-418a-abb2-13e078b2eeee",
   "metadata": {
    "id": "08a93971-a4ad-418a-abb2-13e078b2eeee"
   },
   "source": [
    "##### **Why the Correct Approach Works**\n",
    "\n",
    "The corrected approach, using the in operator to check for key existence, prevents the `KeyError` by ensuring we only try to access the 'color' key if it's present in the `first_insect` dictionary.\n",
    "\n",
    "* `in` Operator for Key Membership: The expression 'color' in `first_insect` checks if the key 'color' exists within the `first_insect` dictionary. It returns `True` if the key is found, and `False` otherwise.\n",
    "\n",
    "* Conditional Access: The `if` 'color' in `first_insect` condition allows us to execute the code to access the 'color' value only if the key is present. If the key is missing, we print an informative message instead of encountering an error."
   ]
  },
  {
   "cell_type": "markdown",
   "id": "b9fcd6dd-0533-4014-a44b-3653dc89b8ab",
   "metadata": {
    "id": "b9fcd6dd-0533-4014-a44b-3653dc89b8ab"
   },
   "source": [
    "#### Adding New Information - The AttributeError\n",
    "\n",
    "Next, you'll try to add the color 'brown' to your `first_insect` dictionary. You'll mistakenly try to use the `.append()` method, which is designed for lists, not dictionaries.\n",
    "\n",
    "***First, run the cell below and review the error.***\n",
    "\n",
    "##### **Debugging Tips**\n",
    "\n",
    "* **Understand the Error:** The `AttributeError` says you're trying to use a method (`.append()`) that doesn't exist for the dictionary data type\n",
    "* Know Your Data Structures:\n",
    "    * Dictionaries use key-value pairs. To add a new key-value pair, simply assign a value to a new key: `dictionary['new_key'] = new_value`\n",
    "    * Lists are ordered collections of items. To add an item to the end of a list, use the `.append()` method: `list.append(new_item)`\n",
    "    * Review Documentation: If you're unsure about the available methods for a particular data type, consult the official Python documentation"
   ]
  },
  {
   "cell_type": "code",
   "execution_count": null,
   "id": "fb051c40-b072-41ad-bb7e-de1612d862eb",
   "metadata": {
    "id": "fb051c40-b072-41ad-bb7e-de1612d862eb"
   },
   "outputs": [],
   "source": [
    "# Deliberate Error: Trying to use .append() on a dictionary\n",
    "first_insect = all_insects_data[0]\n",
    "first_insect.append('color', 'brown')\n",
    "\n",
    "# Correct approach (commented out for reference)\n",
    "# first_insect['color'] = 'brown'\n",
    "\n",
    "print(first_insect)"
   ]
  },
  {
   "cell_type": "markdown",
   "id": "3ce9f545-41ec-44d9-8125-b5d074b9a43c",
   "metadata": {
    "id": "3ce9f545-41ec-44d9-8125-b5d074b9a43c"
   },
   "source": [
    "##### **Why the Correct Approach Works**\n",
    "\n",
    "The corrected approach, `first_insect['color'] = 'brown'`, successfully adds the 'color' key with the value 'brown' to the `first_insect` dictionary because it uses the correct syntax for assigning values to dictionary keys.\n",
    "\n",
    "* Key-Value Assignment: In Python dictionaries, you can add a new key-value pair or update an existing one using the assignment operator `=`. The syntax is `dictionary[key] = value`.\n",
    "\n",
    "* Dynamic Nature of Dictionaries: Dictionaries are mutable, meaning you can modify them by adding, updating, or removing key-value pairs after they've been created."
   ]
  },
  {
   "cell_type": "markdown",
   "id": "da3d3eb2-0397-4556-9547-9f5c913a285d",
   "metadata": {
    "id": "da3d3eb2-0397-4556-9547-9f5c913a285d"
   },
   "source": [
    "#### Handling Division by Zero - The ZeroDivisionError\n",
    "\n",
    "Lastly, you'll calculate the ratio of legs to wings for each insect. You'll need to be careful about insects with zero wings to avoid division by zero errors.\n",
    "\n",
    "***First, run the cell below and review the error.***\n",
    "\n",
    "##### **Debugging Tips**\n",
    "* **Understand the Error:** The `ZeroDivisionError` occurs when you try to divide a number by zero.\n",
    "* Check for Zero Before Dividing: Use an `if` statement to ensure the divisor is not zero before performing the division\n",
    "* Handle the Zero Case Gracefully: Provide an appropriate message or alternative calculation when division by zero is encountered"
   ]
  },
  {
   "cell_type": "code",
   "execution_count": null,
   "id": "31035d9a-5c7c-4e42-9b88-c42628773381",
   "metadata": {
    "id": "31035d9a-5c7c-4e42-9b88-c42628773381"
   },
   "outputs": [],
   "source": [
    "# Deliberate Error: Potential division by zero\n",
    "for insect in all_insects_data:\n",
    "    leg_to_wing_ratio = insect['legs'] / insect['wings']\n",
    "\n",
    "    # Correct approach (commented out for reference)\n",
    "    # if insect['wings'] != 0:\n",
    "    #     leg_to_wing_ratio = insect['legs'] / insect['wings']\n",
    "    # else:\n",
    "    #     leg_to_wing_ratio = \"N/A (Insect has no wings)\"\n",
    "\n",
    "    print(f\"The leg-to-wing ratio for the {insect['name']} is: {leg_to_wing_ratio}\")"
   ]
  },
  {
   "cell_type": "markdown",
   "id": "3c4f5941-ffd5-4e52-8d9a-22bce67fa5cb",
   "metadata": {
    "id": "3c4f5941-ffd5-4e52-8d9a-22bce67fa5cb"
   },
   "source": [
    "##### **Why the Correct Approach Works**\n",
    "\n",
    "The corrected approach, which includes an `if` condition to check for zero wings, prevents the `ZeroDivisionError` by avoiding division by zero.\n",
    "\n",
    "* Zero Check: The condition `if insect['wings'] != 0` checks if the number of wings is not zero.\n",
    "\n",
    "* Conditional Calculation: If the number of wings is not zero, the leg-to-wing ratio is calculated and printed.\n",
    "\n",
    "* Handling Zero Wings: If the number of wings is zero, a message `\"N/A (Insect has no wings)\"` is printed instead of performing the division, gracefully handling the scenario where the calculation is not possible."
   ]
  },
  {
   "cell_type": "markdown",
   "id": "7905959a-fc8d-4e12-beca-7ff2b5b75fca",
   "metadata": {
    "id": "7905959a-fc8d-4e12-beca-7ff2b5b75fca"
   },
   "source": [
    "## Activity Recap: Cleaning the Insect Collection Database\n",
    "\n",
    "Congratulations on completing your first task as a data analyst at the insect collection company! You've successfully applied your Python debugging skills to identify and resolve various errors, ensuring the accuracy and integrity of the insect collection database. Let's recap what you've learned:\n",
    "\n",
    "* FileNotFoundError: You've learned how to troubleshoot issues related to missing or inaccessible data files, ensuring your scripts can locate and read the crucial insect collection records.\n",
    "\n",
    "* TypeError: You've navigated through type-related errors, ensuring that you're performing operations on compatible data types (like numerical measurements and species names) and converting them when necessary.\n",
    "\n",
    "* IndexError: You've mastered list indexing and learned how to avoid accessing insect records beyond their valid range, preventing unexpected crashes in your data cleaning scripts.\n",
    "\n",
    "* KeyError: You've gained confidence in working with insect data dictionaries, ensuring that you're accessing existing keys (like 'species' or 'leg count') and handling missing keys gracefully.\n",
    "\n",
    "* AttributeError: You now understand the distinction between different data types and their available methods, avoiding attempts to use incompatible operations on insect data.\n",
    "\n",
    "* ZeroDivisionError: You've learned how to prevent division by zero errors by implementing checks and providing alternative solutions when encountering such scenarios, especially when calculating ratios or proportions based on insect attributes.\n",
    "\n",
    "**Remember:**\n",
    "\n",
    "* Debugging is an essential part of programming. It's about systematically identifying and fixing errors in your code. Don't get discouraged if you encounter errors; it's a natural part of the learning process!"
   ]
  },
  {
   "cell_type": "code",
   "execution_count": null,
   "id": "660c4946-35a8-4406-9afb-a728c6ae1a26",
   "metadata": {
    "id": "660c4946-35a8-4406-9afb-a728c6ae1a26"
   },
   "outputs": [],
   "source": []
  }
 ],
 "metadata": {
  "colab": {
   "provenance": []
  },
  "kernelspec": {
   "display_name": "Python 3 (ipykernel)",
   "language": "python",
   "name": "python3"
  },
  "language_info": {
   "codemirror_mode": {
    "name": "ipython",
    "version": 3
   },
   "file_extension": ".py",
   "mimetype": "text/x-python",
   "name": "python",
   "nbconvert_exporter": "python",
   "pygments_lexer": "ipython3",
   "version": "3.12.4"
  }
 },
 "nbformat": 4,
 "nbformat_minor": 5
}
