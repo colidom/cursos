{
 "cells": [
  {
   "cell_type": "markdown",
   "metadata": {},
   "source": [
    "# Ficheros JSON\n",
    "\n",
    "#### Notación de objeto de JavaScript (javascript object notation)\n",
    "\n",
    "Documentación: https://docs.python.org/3/library/json.html"
   ]
  },
  {
   "cell_type": "code",
   "execution_count": 13,
   "metadata": {},
   "outputs": [],
   "source": [
    "import json\n",
    "\n",
    "contactos = [\n",
    "    (\"Manuel\", \"Desarrollador Web\", \"manuel@ejemplo.com\"),\n",
    "    (\"Lorena\", \"Gestora de proyectos\", \"lorena@ejemplo.com\"),\n",
    "    (\"Javier\", \"Analista de datos\", \"javier@ejemplo.com\"),\n",
    "    (\"Marta\", \"Experta en Python\", \"marta@ejemplo.com\")\n",
    "]\n",
    "\n",
    "datos = []\n",
    "\n",
    "for nombre, empleo, email in contactos:\n",
    "    datos.append({\"nombre\":nombre, \"empleo\":empleo, \"email\":email})"
   ]
  },
  {
   "cell_type": "code",
   "execution_count": 14,
   "metadata": {},
   "outputs": [
    {
     "data": {
      "text/plain": [
       "[{'nombre': 'Manuel',\n",
       "  'empleo': 'Desarrollador Web',\n",
       "  'email': 'manuel@ejemplo.com'},\n",
       " {'nombre': 'Lorena',\n",
       "  'empleo': 'Gestora de proyectos',\n",
       "  'email': 'lorena@ejemplo.com'},\n",
       " {'nombre': 'Javier',\n",
       "  'empleo': 'Analista de datos',\n",
       "  'email': 'javier@ejemplo.com'},\n",
       " {'nombre': 'Marta',\n",
       "  'empleo': 'Experta en Python',\n",
       "  'email': 'marta@ejemplo.com'}]"
      ]
     },
     "execution_count": 14,
     "metadata": {},
     "output_type": "execute_result"
    }
   ],
   "source": [
    "datos"
   ]
  },
  {
   "cell_type": "code",
   "execution_count": 15,
   "metadata": {},
   "outputs": [],
   "source": [
    "with open(\"contactos.json\", \"w\") as jsonfile:\n",
    "    json.dump(datos, jsonfile)"
   ]
  },
  {
   "cell_type": "code",
   "execution_count": 16,
   "metadata": {},
   "outputs": [],
   "source": [
    "datos = None"
   ]
  },
  {
   "cell_type": "code",
   "execution_count": 17,
   "metadata": {},
   "outputs": [
    {
     "name": "stdout",
     "output_type": "stream",
     "text": [
      "Manuel Desarrollador Web manuel@ejemplo.com\n",
      "Lorena Gestora de proyectos lorena@ejemplo.com\n",
      "Javier Analista de datos javier@ejemplo.com\n",
      "Marta Experta en Python marta@ejemplo.com\n"
     ]
    }
   ],
   "source": [
    "with open(\"contactos.json\") as jsonfile:\n",
    "    datos = json.load(jsonfile)\n",
    "    for contacto in datos:\n",
    "        print(contacto[\"nombre\"], contacto[\"empleo\"], contacto[\"email\"])"
   ]
  }
 ],
 "metadata": {
  "kernelspec": {
   "display_name": "Python 3",
   "language": "python",
   "name": "python3"
  },
  "language_info": {
   "codemirror_mode": {
    "name": "ipython",
    "version": 3
   },
   "file_extension": ".py",
   "mimetype": "text/x-python",
   "name": "python",
   "nbconvert_exporter": "python",
   "pygments_lexer": "ipython3",
   "version": "3.9.1"
  }
 },
 "nbformat": 4,
 "nbformat_minor": 4
}
