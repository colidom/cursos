{
 "cells": [
  {
   "cell_type": "markdown",
   "metadata": {},
   "source": [
    "# Ficheros CSV\n",
    "\n",
    "#### Valores separados por comas (comma-separated values)\n",
    "\n",
    "Documentación: https://docs.python.org/3/library/csv.html"
   ]
  },
  {
   "cell_type": "code",
   "execution_count": 1,
   "metadata": {},
   "outputs": [],
   "source": [
    "import csv"
   ]
  },
  {
   "cell_type": "code",
   "execution_count": 2,
   "metadata": {},
   "outputs": [],
   "source": [
    "contactos = [\n",
    "    (\"Manuel\", \"Desarrollador Web\", \"manuel@ejemplo.com\"),\n",
    "    (\"Lorena\", \"Gestora de proyectos\", \"lorena@ejemplo.com\"),\n",
    "    (\"Javier\", \"Analista de datos\", \"javier@ejemplo.com\"),\n",
    "    (\"Marta\", \"Experta en Python\", \"marta@ejemplo.com\")\n",
    "]"
   ]
  },
  {
   "cell_type": "code",
   "execution_count": 3,
   "metadata": {},
   "outputs": [],
   "source": [
    "with open(\"contactos.csv\", \"w\", newline=\"\\n\") as csvfile:\n",
    "    writer = csv.writer(csvfile, delimiter=\",\")\n",
    "    for contacto in contactos:\n",
    "        writer.writerow(contacto)"
   ]
  },
  {
   "cell_type": "code",
   "execution_count": 5,
   "metadata": {},
   "outputs": [
    {
     "name": "stdout",
     "output_type": "stream",
     "text": [
      "Manuel Desarrollador Web manuel@ejemplo.com\n",
      "Lorena Gestora de proyectos lorena@ejemplo.com\n",
      "Javier Analista de datos javier@ejemplo.com\n",
      "Marta Experta en Python marta@ejemplo.com\n"
     ]
    }
   ],
   "source": [
    "with open(\"contactos.csv\", newline=\"\\n\") as csvfile:\n",
    "    reader = csv.reader(csvfile, delimiter=\",\")\n",
    "    for nombre, empleo, email in reader:\n",
    "        print(nombre, empleo, email)"
   ]
  },
  {
   "cell_type": "code",
   "execution_count": 6,
   "metadata": {},
   "outputs": [],
   "source": [
    "contactos = [\n",
    "    (\"Manuel\", \"Desarrollador Web\", \"manuel@ejemplo.com\"),\n",
    "    (\"Lorena\", \"Gestora de proyectos\", \"lorena@ejemplo.com\"),\n",
    "    (\"Javier\", \"Analista de datos\", \"javier@ejemplo.com\"),\n",
    "    (\"Marta\", \"Experta en Python\", \"marta@ejemplo.com\")\n",
    "]"
   ]
  },
  {
   "cell_type": "code",
   "execution_count": 8,
   "metadata": {},
   "outputs": [],
   "source": [
    "with open(\"contactos.csv\", \"w\", newline=\"\\n\") as csvfile:\n",
    "    campos = [\"nombre\", \"empleo\", \"email\"]\n",
    "    writer = csv.DictWriter(csvfile, fieldnames=campos)\n",
    "    writer.writeheader()\n",
    "    for nombre, empleo, email in contactos:\n",
    "        writer.writerow({\n",
    "            \"nombre\": nombre, \"empleo\": empleo, \"email\": email \n",
    "        })"
   ]
  },
  {
   "cell_type": "code",
   "execution_count": 9,
   "metadata": {},
   "outputs": [
    {
     "name": "stdout",
     "output_type": "stream",
     "text": [
      "Manuel Desarrollador Web manuel@ejemplo.com\n",
      "Lorena Gestora de proyectos lorena@ejemplo.com\n",
      "Javier Analista de datos javier@ejemplo.com\n",
      "Marta Experta en Python marta@ejemplo.com\n"
     ]
    }
   ],
   "source": [
    "with open(\"contactos.csv\", newline=\"\\n\") as csvfile:\n",
    "    reader = csv.DictReader(csvfile)\n",
    "    for contacto in reader:\n",
    "        print(contacto[\"nombre\"], contacto[\"empleo\"], contacto[\"email\"])"
   ]
  }
 ],
 "metadata": {
  "kernelspec": {
   "display_name": "Python 3",
   "language": "python",
   "name": "python3"
  },
  "language_info": {
   "codemirror_mode": {
    "name": "ipython",
    "version": 3
   },
   "file_extension": ".py",
   "mimetype": "text/x-python",
   "name": "python",
   "nbconvert_exporter": "python",
   "pygments_lexer": "ipython3",
   "version": "3.9.1"
  }
 },
 "nbformat": 4,
 "nbformat_minor": 4
}
