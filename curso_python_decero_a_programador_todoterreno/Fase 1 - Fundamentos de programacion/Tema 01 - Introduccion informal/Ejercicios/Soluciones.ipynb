{
 "cells": [
  {
   "cell_type": "markdown",
   "metadata": {},
   "source": [
    "# Tema 01: Introducción informal (Soluciones)\n",
    "*Nota: Estos ejercicios son optativos para hacer al final de la unidad y están pensados para apoyar tu aprendizaje*."
   ]
  },
  {
   "cell_type": "markdown",
   "metadata": {},
   "source": [
    "**1) Identifica el tipo de dato (int, float, string o list) de los siguientes valores literales**\n",
    "```python\n",
    "\"Hola Mundo\"        # string\n",
    "[1, 10, 100]        # list\n",
    "-25                 # int\n",
    "1.167               # float\n",
    "[\"Hola\", \"Mundo\"]   # list\n",
    "' '                 # string\n",
    "```"
   ]
  },
  {
   "cell_type": "markdown",
   "metadata": {},
   "source": [
    "**2) Determina mentalmente (sin programar) el resultado que aparecerá por pantalla a partir de las siguientes variables:**\n",
    "```python\n",
    "a = 10\n",
    "b = -5\n",
    "c = \"Hola \"\n",
    "d = [1, 2, 3]\n",
    "```\n",
    "\n",
    "```python\n",
    "print(a * 5)         # 50\n",
    "print(a - b)         # 15\n",
    "print(c + \"Mundo\")   # Hola Mundo\n",
    "print(c * 2)         # Hola Hola \n",
    "print(c[-1])         # 3\n",
    "print(c[1:])         # [2, 3]\n",
    "print(d + d)         # [1, 2, 3, 1, 2, 3]\n",
    "```"
   ]
  },
  {
   "cell_type": "markdown",
   "metadata": {},
   "source": [
    "**3) El siguiente código pretende realizar una media entre 3 números, pero no funciona correctamente. ¿Eres capaz de identificar el problema y solucionarlo?**"
   ]
  },
  {
   "cell_type": "code",
   "execution_count": 3,
   "metadata": {
    "collapsed": false
   },
   "outputs": [
    {
     "name": "stdout",
     "output_type": "stream",
     "text": [
      "La nota media es 6.0\n"
     ]
    }
   ],
   "source": [
    "numero_1 = 9\n",
    "numero_2 = 3\n",
    "numero_3 = 6\n",
    "\n",
    "media = (numero_1 + numero_2 + numero_3) / 3  # Hay que realizar primero la suma de los 3 números antes de dividir\n",
    "print(\"La nota media es\", media)"
   ]
  },
  {
   "cell_type": "markdown",
   "metadata": {},
   "source": [
    "**4) A partir del ejercicio anterior, vamos a suponer que cada número es una nota, y lo que queremos es obtener la nota final. El problema es que cada nota tiene un valor porcentual: **\n",
    "\n",
    "* La primera nota vale un 15% del total\n",
    "* La segunda nota vale un 35% del total\n",
    "* La tercera nota vale un 50% del total\n",
    "\n",
    "**Desarrolla un programa para calcular perfectamente la nota final.**"
   ]
  },
  {
   "cell_type": "code",
   "execution_count": 7,
   "metadata": {
    "collapsed": false
   },
   "outputs": [
    {
     "name": "stdout",
     "output_type": "stream",
     "text": [
      "La nota media es 5.3999999999999995\n"
     ]
    }
   ],
   "source": [
    "nota_1 = 10\n",
    "nota_2 = 7\n",
    "nota_3 = 4\n",
    "\n",
    "# Completa el ejercicio aquí\n",
    "media = numero_1 * 0.15 + numero_2 * 0.35 + numero_3 * 0.50  # Podemos multiplicar en tanto por 1 cada nota y sumarlas\n",
    "print(\"La nota media es\", media)"
   ]
  },
  {
   "cell_type": "markdown",
   "metadata": {},
   "source": [
    "**5) La siguiente matriz (o lista con listas anidadas) debe cumplir una condición, y es que en cada fila, el cuarto elemento siempre debe ser el resultado de sumar los tres primeros. ¿Eres capaz de modificar las sumas incorrectas utilizando la técnica del slicing?**\n",
    "\n",
    "*Ayuda: La función llamada sum(lista) devuelve una suma de todos los elementos de la lista ¡Pruébalo!*"
   ]
  },
  {
   "cell_type": "code",
   "execution_count": 10,
   "metadata": {
    "collapsed": false
   },
   "outputs": [
    {
     "name": "stdout",
     "output_type": "stream",
     "text": [
      "[[1, 1, 1, 3], [2, 2, 2, 6], [3, 3, 3, 9], [4, 4, 4, 12]]\n"
     ]
    }
   ],
   "source": [
    "matriz = [ \n",
    "    [1, 1, 1, 3],\n",
    "    [2, 2, 2, 7],\n",
    "    [3, 3, 3, 9],\n",
    "    [4, 4, 4, 13]\n",
    "]\n",
    "\n",
    "# Completa el ejercicio aquí\n",
    "matriz[1][-1] = sum(matriz[1][:-1])\n",
    "matriz[3][-1] = sum(matriz[3][:-1])\n",
    "\n",
    "print(matriz)"
   ]
  },
  {
   "cell_type": "markdown",
   "metadata": {},
   "source": [
    "**6) Al realizar una consulta en un registro hemos obtenido una cadena de texto corrupta al revés. Al parecer contiene el nombre de un alumno y la nota de un exámen. ¿Cómo podríamos formatear la cadena y conseguir una estructura como la siguiente?:**\n",
    "\n",
    "* ***Nombre*** ***Apellido*** ha sacado un ***Nota*** de nota.\n",
    "\n",
    "*Ayuda: Para voltear una cadena rápidamente utilizando slicing podemos utilizar un tercer índice -1: **cadena[::-1]** *"
   ]
  },
  {
   "cell_type": "code",
   "execution_count": 11,
   "metadata": {
    "collapsed": false
   },
   "outputs": [
    {
     "name": "stdout",
     "output_type": "stream",
     "text": [
      "Juan Pérez ha sacado un 10 de nota.\n"
     ]
    }
   ],
   "source": [
    "cadena = \"zeréP nauJ,01\"\n",
    "\n",
    "# Completa el ejercicio aquí\n",
    "cadena_volteada = cadena[::-1]\n",
    "print(cadena_volteada[3:], \"ha sacado un\", cadena_volteada[:2], \"de nota.\")"
   ]
  }
 ],
 "metadata": {
  "anaconda-cloud": {},
  "kernelspec": {
   "display_name": "Python [default]",
   "language": "python",
   "name": "python3"
  },
  "language_info": {
   "codemirror_mode": {
    "name": "ipython",
    "version": 3
   },
   "file_extension": ".py",
   "mimetype": "text/x-python",
   "name": "python",
   "nbconvert_exporter": "python",
   "pygments_lexer": "ipython3",
   "version": "3.5.2"
  }
 },
 "nbformat": 4,
 "nbformat_minor": 0
}
