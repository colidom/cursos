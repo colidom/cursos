{
 "cells": [
  {
   "cell_type": "markdown",
   "metadata": {},
   "source": [
    "# Tema 07: Gestión de errores (Soluciones)\n",
    "*Nota: Estos ejercicios son optativos para hacer al final de la unidad y están pensados para apoyar tu aprendizaje*."
   ]
  },
  {
   "cell_type": "markdown",
   "metadata": {},
   "source": [
    "**1) Localiza el error en el siguiente bloque de código. Crea una excepción para evitar que el programa se bloquee y además explica en un mensaje al usuario la causa y/o solución:**"
   ]
  },
  {
   "cell_type": "code",
   "execution_count": 5,
   "metadata": {
    "collapsed": false
   },
   "outputs": [
    {
     "name": "stdout",
     "output_type": "stream",
     "text": [
      "Error: No es posible dividir por cero, debes introducir un número distinto.\n"
     ]
    }
   ],
   "source": [
    "# Completa el ejercicio aquí\n",
    "try:\n",
    "    resultado = 10/0\n",
    "except ZeroDivisionError:\n",
    "    print(\"Error: No es posible dividir por cero, debes introducir un número distinto.\")"
   ]
  },
  {
   "cell_type": "markdown",
   "metadata": {},
   "source": [
    "**2) Localiza el error en el siguiente bloque de código.  Crea una excepción para evitar que el programa se bloquee y además explica en un mensaje al usuario la causa y/o solución:**"
   ]
  },
  {
   "cell_type": "code",
   "execution_count": 8,
   "metadata": {
    "collapsed": false
   },
   "outputs": [
    {
     "name": "stdout",
     "output_type": "stream",
     "text": [
      "Error: El índice al que intentas acceder se encuentra fuera del rango, debes utilizar un número mayor o igual que cero y menor que la longitud de la lista.\n"
     ]
    }
   ],
   "source": [
    "# Completa el ejercicio aquí\n",
    "lista = [1, 2, 3, 4, 5]\n",
    "try:\n",
    "    lista[10]\n",
    "except IndexError:\n",
    "    print(\"Error: El índice al que intentas acceder se encuentra fuera del rango, debes utilizar un número mayor o igual que cero y menor que la longitud de la lista.\")"
   ]
  },
  {
   "cell_type": "markdown",
   "metadata": {},
   "source": [
    "**3) Localiza el error en el siguiente bloque de código.  Crea una excepción para evitar que el programa se bloquee y además explica en un mensaje al usuario la causa y/o solución:**"
   ]
  },
  {
   "cell_type": "code",
   "execution_count": 12,
   "metadata": {
    "collapsed": false
   },
   "outputs": [
    {
     "name": "stdout",
     "output_type": "stream",
     "text": [
      "Error: La clave del diccionario no se encuentra, debes probar con otra que sí exista.\n"
     ]
    }
   ],
   "source": [
    "# Completa el ejercicio aquí\n",
    "colores = { 'rojo':'red', 'verde':'green', 'negro':'black' } \n",
    "try:\n",
    "    colores['blanco']\n",
    "except KeyError:\n",
    "    print(\"Error: La clave del diccionario no se encuentra, debes probar con otra que sí exista.\")"
   ]
  },
  {
   "cell_type": "markdown",
   "metadata": {},
   "source": [
    "**4) Localiza el error en el siguiente bloque de código.  Crea una excepción para evitar que el programa se bloquee y además explica en un mensaje al usuario la causa y/o solución:**"
   ]
  },
  {
   "cell_type": "code",
   "execution_count": 15,
   "metadata": {
    "collapsed": false
   },
   "outputs": [
    {
     "name": "stdout",
     "output_type": "stream",
     "text": [
      "Error: Sólo es posible sumar datos del mismo tipo, debes transformar el número a cadena o la cadena a número.\n"
     ]
    }
   ],
   "source": [
    "# Completa el ejercicio aquí\n",
    "try:\n",
    "    resultado = \"20\" + 15\n",
    "except TypeError:\n",
    "    print(\"Error: Sólo es posible sumar datos del mismo tipo, debes transformar el número a cadena o la cadena a número.\")"
   ]
  },
  {
   "cell_type": "markdown",
   "metadata": {},
   "source": [
    "**5) Realiza una función llamada agregar_una_vez() que reciba una lista y un elemento. La función debe añadir el elemento al final de la lista con la condición de no repetir ningún elemento. Además si este elemento ya se encuentra en la lista se debe invocar un error de tipo ValueError que debes capturar y mostrar este mensaje en su lugar:**\n",
    "\n",
    "```\n",
    "  Error: Imposible añadir elementos duplicados => [elemento].\n",
    "```\n",
    "** Prueba de agregar los elementos 10, -2, \"Hola\" a la lista de elementos con la función una vez la has creado y luego muestra su contenido.**\n",
    "\n",
    "*Nota: Puedes utilizar la sintaxis: elemento in lista*"
   ]
  },
  {
   "cell_type": "code",
   "execution_count": 22,
   "metadata": {
    "collapsed": false
   },
   "outputs": [
    {
     "name": "stdout",
     "output_type": "stream",
     "text": [
      "Error: Imposible añadir elementos duplicados => -2\n",
      "[1, 5, -2, 10, 'Hola']\n"
     ]
    }
   ],
   "source": [
    "elementos = [1, 5, -2]\n",
    "\n",
    "# Completa el ejercicio aquí\n",
    "def agregar_una_vez(lista, el):\n",
    "    try:\n",
    "        if el in lista:\n",
    "            raise ValueError\n",
    "        else:\n",
    "            lista.append(el)\n",
    "    except ValueError:\n",
    "        print(\"Error: Imposible añadir elementos duplicados =>\", el)\n",
    "        \n",
    "\n",
    "agregar_una_vez(elementos, 10)\n",
    "agregar_una_vez(elementos, -2)\n",
    "agregar_una_vez(elementos, \"Hola\")\n",
    "print(elementos)"
   ]
  }
 ],
 "metadata": {
  "anaconda-cloud": {},
  "kernelspec": {
   "display_name": "Python [default]",
   "language": "python",
   "name": "python3"
  },
  "language_info": {
   "codemirror_mode": {
    "name": "ipython",
    "version": 3
   },
   "file_extension": ".py",
   "mimetype": "text/x-python",
   "name": "python",
   "nbconvert_exporter": "python",
   "pygments_lexer": "ipython3",
   "version": "3.5.2"
  }
 },
 "nbformat": 4,
 "nbformat_minor": 0
}
