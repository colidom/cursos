{
 "cells": [
  {
   "cell_type": "markdown",
   "metadata": {},
   "source": [
    "# Introducción a Python"
   ]
  },
  {
   "cell_type": "markdown",
   "metadata": {},
   "source": [
    "![Python Logo](img/python-logo.png)"
   ]
  },
  {
   "cell_type": "markdown",
   "metadata": {},
   "source": [
    "**Python** es un lenguaje de programación interpretado cuya filosofía hace hincapié en una sintaxis que favorezca un código legible.\n",
    "\n",
    "Se trata de un lenguaje de programación multiparadigma, ya que soporta orientación a objetos, programación imperativa y, en menor medida, programación funcional. Es un lenguaje interpretado, usa tipado dinámico y es multiplataforma."
   ]
  },
  {
   "cell_type": "markdown",
   "metadata": {},
   "source": [
    "## El origen\n",
    "\n",
    "Creado a finales de los 80 por el Holandés [Guido Van Rossum](https://es.wikipedia.org/wiki/Guido_van_Rossum)| El nombre proviene del grupo de humor inglés [Monty Python](https://es.wikipedia.org/wiki/Monty_Python), no de la serpiente.\n",
    "--|--\n",
    "![Guido Van Rossum](img/GuidoVanRossum.jpg) | ![Monty Python Flying Circus](img/monty-python.jpg)"
   ]
  },
  {
   "cell_type": "markdown",
   "metadata": {},
   "source": [
    "## Accediendo al intérprete de Python\n",
    "\n",
    "Desde la máquina de producción creamos un nuevo **entorno virtual** `sandbox`:\n",
    "```console\n",
    "sdelquin@imw:~$ mkdir sandbox\n",
    "sdelquin@imw:~$ mkvirtualenv -a sandbox sandbox\n",
    "Using base prefix '/usr'\n",
    "New python executable in /home/sdelquin/.virtualenvs/sandbox/bin/python3.6\n",
    "Also creating executable in /home/sdelquin/.virtualenvs/sandbox/bin/python\n",
    "Installing setuptools, pip, wheel...done.\n",
    "virtualenvwrapper.user_scripts creating /home/sdelquin/.virtualenvs/sandbox/bin/predeactivate\n",
    "virtualenvwrapper.user_scripts creating /home/sdelquin/.virtualenvs/sandbox/bin/postdeactivate\n",
    "virtualenvwrapper.user_scripts creating /home/sdelquin/.virtualenvs/sandbox/bin/preactivate\n",
    "virtualenvwrapper.user_scripts creating /home/sdelquin/.virtualenvs/sandbox/bin/postactivate\n",
    "virtualenvwrapper.user_scripts creating /home/sdelquin/.virtualenvs/sandbox/bin/get_env_details\n",
    "Setting project for sandbox to /home/sdelquin/sandbox\n",
    "(sandbox) sdelquin@imw:~/sandbox$\n",
    "```\n",
    "\n",
    "A continuación instalamos el paquete `jupyter` que permite usar un **intérprete mejorado de Python**, con interfaz web y muchas facilidades de acceso:\n",
    "\n",
    "```console\n",
    "(sandbox) sdelquin@imw:~/sandbox$ pip install jupyter\n",
    "Collecting jupyter\n",
    "  Downloading jupyter-1.0.0-py2.py3-none-any.whl\n",
    "Collecting jupyter-console (from jupyter)\n",
    "  Downloading jupyter_console-5.2.0-py2.py3-none-any.whl\n",
    "Collecting ipykernel (from jupyter)\n",
    "  Downloading ipykernel-4.6.1-py3-none-any.whl (104kB)\n",
    "    100% |████████████████████████████████| 112kB 1.6MB/s\n",
    "Collecting ipywidgets (from jupyter)\n",
    "  Downloading ipywidgets-7.0.3-py2.py3-none-any.whl (68kB)\n",
    "    100% |████████████████████████████████| 71kB 2.7MB/s\n",
    "Collecting nbconvert (from jupyter)\n",
    "  Downloading nbconvert-5.3.1-py2.py3-none-any.whl (387kB)\n",
    "    100% |████████████████████████████████| 389kB 1.9MB/s\n",
    "Collecting qtconsole (from jupyter)\n",
    "  Downloading qtconsole-4.3.1-py2.py3-none-any.whl (108kB)\n",
    "    100% |████████████████████████████████| 112kB 3.1MB/s\n",
    "Collecting notebook (from jupyter)\n",
    "  Downloading notebook-5.2.0-py2.py3-none-any.whl (8.0MB)\n",
    "    100% |████████████████████████████████| 8.0MB 114kB/s\n",
    "Collecting prompt-toolkit<2.0.0,>=1.0.0 (from jupyter-console->jupyter)\n",
    "  Downloading prompt_toolkit-1.0.15-py3-none-any.whl (247kB)\n",
    "    100% |████████████████████████████████| 256kB 4.6MB/s\n",
    "Collecting jupyter-client (from jupyter-console->jupyter)\n",
    "  Downloading jupyter_client-5.1.0-py2.py3-none-any.whl (84kB)\n",
    "    100% |████████████████████████████████| 92kB 6.5MB/s\n",
    "Collecting pygments (from jupyter-console->jupyter)\n",
    "  Downloading Pygments-2.2.0-py2.py3-none-any.whl (841kB)\n",
    "    100% |████████████████████████████████| 849kB 1.9MB/s\n",
    "Collecting ipython (from jupyter-console->jupyter)\n",
    "  Downloading ipython-6.2.1-py3-none-any.whl (745kB)\n",
    "    100% |████████████████████████████████| 747kB 2.0MB/s\n",
    "Collecting traitlets>=4.1.0 (from ipykernel->jupyter)\n",
    "  Downloading traitlets-4.3.2-py2.py3-none-any.whl (74kB)\n",
    "    100% |████████████████████████████████| 81kB 8.6MB/s\n",
    "Collecting tornado>=4.0 (from ipykernel->jupyter)\n",
    "  Downloading tornado-4.5.2.tar.gz (483kB)\n",
    "    100% |████████████████████████████████| 491kB 2.4MB/s\n",
    "Collecting widgetsnbextension~=3.0.0 (from ipywidgets->jupyter)\n",
    "  Downloading widgetsnbextension-3.0.6-py2.py3-none-any.whl (2.5MB)\n",
    "    100% |████████████████████████████████| 2.5MB 468kB/s\n",
    "Collecting nbformat>=4.2.0 (from ipywidgets->jupyter)\n",
    "  Downloading nbformat-4.4.0-py2.py3-none-any.whl (155kB)\n",
    "    100% |████████████████████████████████| 163kB 5.4MB/s\n",
    "Collecting jinja2 (from nbconvert->jupyter)\n",
    "  Downloading Jinja2-2.9.6-py2.py3-none-any.whl (340kB)\n",
    "    100% |████████████████████████████████| 348kB 5.2MB/s\n",
    "Collecting pandocfilters>=1.4.1 (from nbconvert->jupyter)\n",
    "  Downloading pandocfilters-1.4.2.tar.gz\n",
    "Collecting mistune>=0.7.4 (from nbconvert->jupyter)\n",
    "  Downloading mistune-0.8-py2.py3-none-any.whl\n",
    "Collecting jupyter-core (from nbconvert->jupyter)\n",
    "  Downloading jupyter_core-4.3.0-py2.py3-none-any.whl (76kB)\n",
    "    100% |████████████████████████████████| 81kB 8.6MB/s\n",
    "Collecting entrypoints>=0.2.2 (from nbconvert->jupyter)\n",
    "  Downloading entrypoints-0.2.3-py2.py3-none-any.whl\n",
    "Collecting testpath (from nbconvert->jupyter)\n",
    "  Downloading testpath-0.3.1-py2.py3-none-any.whl (161kB)\n",
    "    100% |████████████████████████████████| 163kB 5.4MB/s\n",
    "Collecting bleach (from nbconvert->jupyter)\n",
    "  Downloading bleach-2.1.1-py2.py3-none-any.whl\n",
    "Collecting ipython-genutils (from qtconsole->jupyter)\n",
    "  Downloading ipython_genutils-0.2.0-py2.py3-none-any.whl\n",
    "Collecting terminado>=0.3.3; sys_platform != \"win32\" (from notebook->jupyter)\n",
    "  Downloading terminado-0.6.tar.gz\n",
    "Collecting wcwidth (from prompt-toolkit<2.0.0,>=1.0.0->jupyter-console->jupyter)\n",
    "  Downloading wcwidth-0.1.7-py2.py3-none-any.whl\n",
    "Collecting six>=1.9.0 (from prompt-toolkit<2.0.0,>=1.0.0->jupyter-console->jupyter)\n",
    "  Downloading six-1.11.0-py2.py3-none-any.whl\n",
    "Collecting pyzmq>=13 (from jupyter-client->jupyter-console->jupyter)\n",
    "  Downloading pyzmq-16.0.2-cp36-cp36m-manylinux1_x86_64.whl (3.0MB)\n",
    "    100% |████████████████████████████████| 3.1MB 575kB/s\n",
    "Collecting python-dateutil>=2.1 (from jupyter-client->jupyter-console->jupyter)\n",
    "  Downloading python_dateutil-2.6.1-py2.py3-none-any.whl (194kB)\n",
    "    100% |████████████████████████████████| 194kB 4.7MB/s\n",
    "Collecting pexpect; sys_platform != \"win32\" (from ipython->jupyter-console->jupyter)\n",
    "  Downloading pexpect-4.2.1-py2.py3-none-any.whl (55kB)\n",
    "    100% |████████████████████████████████| 61kB 6.2MB/s\n",
    "Collecting decorator (from ipython->jupyter-console->jupyter)\n",
    "  Downloading decorator-4.1.2-py2.py3-none-any.whl\n",
    "Collecting simplegeneric>0.8 (from ipython->jupyter-console->jupyter)\n",
    "  Downloading simplegeneric-0.8.1.zip\n",
    "Collecting pickleshare (from ipython->jupyter-console->jupyter)\n",
    "  Downloading pickleshare-0.7.4-py2.py3-none-any.whl\n",
    "Collecting jedi>=0.10 (from ipython->jupyter-console->jupyter)\n",
    "  Downloading jedi-0.11.0-py2.py3-none-any.whl (146kB)\n",
    "    100% |████████████████████████████████| 153kB 4.9MB/s\n",
    "Requirement already satisfied: setuptools>=18.5 in /home/sdelquin/.virtualenvs/sandbox/lib/python3.6/site-packages (from ipython->jupyter-console->jupyter)\n",
    "Collecting jsonschema!=2.5.0,>=2.4 (from nbformat>=4.2.0->ipywidgets->jupyter)\n",
    "  Downloading jsonschema-2.6.0-py2.py3-none-any.whl\n",
    "Collecting MarkupSafe>=0.23 (from jinja2->nbconvert->jupyter)\n",
    "  Downloading MarkupSafe-1.0.tar.gz\n",
    "Collecting html5lib!=1.0b1,!=1.0b2,!=1.0b3,!=1.0b4,!=1.0b5,!=1.0b6,!=1.0b7,!=1.0b8,>=0.99999999pre (from bleach->nbconvert->jupyter)\n",
    "  Downloading html5lib-1.0b10-py2.py3-none-any.whl (112kB)\n",
    "    100% |████████████████████████████████| 112kB 6.7MB/s\n",
    "Collecting ptyprocess (from terminado>=0.3.3; sys_platform != \"win32\"->notebook->jupyter)\n",
    "  Downloading ptyprocess-0.5.2-py2.py3-none-any.whl\n",
    "Collecting parso==0.1.0 (from jedi>=0.10->ipython->jupyter-console->jupyter)\n",
    "  Downloading parso-0.1.0-py2.py3-none-any.whl (89kB)\n",
    "    100% |████████████████████████████████| 92kB 8.5MB/s\n",
    "Collecting webencodings (from html5lib!=1.0b1,!=1.0b2,!=1.0b3,!=1.0b4,!=1.0b5,!=1.0b6,!=1.0b7,!=1.0b8,>=0.99999999pre->bleach->nbconvert->jupyter)\n",
    "  Downloading webencodings-0.5.1-py2.py3-none-any.whl\n",
    "Building wheels for collected packages: tornado, pandocfilters, terminado, simplegeneric, MarkupSafe\n",
    "  Running setup.py bdist_wheel for tornado ... done\n",
    "  Stored in directory: /home/sdelquin/.cache/pip/wheels/b3/47/3a/96e12476829cb196adabc879fedb72f1bb2c8613b6961e78e7\n",
    "  Running setup.py bdist_wheel for pandocfilters ... done\n",
    "  Stored in directory: /home/sdelquin/.cache/pip/wheels/08/5b/5b/66b3cde6f8215f8345479ef3699d6ddbb860f6ea7072008f8b\n",
    "  Running setup.py bdist_wheel for terminado ... done\n",
    "  Stored in directory: /home/sdelquin/.cache/pip/wheels/3b/c2/ea/af635ffb63857a8c2ddd22da6a4b52f5b7ea3065db94ef5d7c\n",
    "  Running setup.py bdist_wheel for simplegeneric ... done\n",
    "  Stored in directory: /home/sdelquin/.cache/pip/wheels/7b/31/08/c85e74c84188cbec6a6827beec4d640f2bd78ae003dc1ec09d\n",
    "  Running setup.py bdist_wheel for MarkupSafe ... done\n",
    "  Stored in directory: /home/sdelquin/.cache/pip/wheels/88/a7/30/e39a54a87bcbe25308fa3ca64e8ddc75d9b3e5afa21ee32d57\n",
    "Successfully built tornado pandocfilters terminado simplegeneric MarkupSafe\n",
    "Installing collected packages: wcwidth, six, prompt-toolkit, pyzmq, decorator, ipython-genutils, traitlets, jupyter-core, python-dateutil, jupyter-client, ptyprocess, pexpect, simplegeneric, pickleshare, parso, jedi, pygments, ipython, tornado, ipykernel, jupyter-console, MarkupSafe, jinja2, terminado, pandocfilters, mistune, jsonschema, nbformat, entrypoints, testpath, webencodings, html5lib, bleach, nbconvert, notebook, widgetsnbextension, ipywidgets, qtconsole, jupyter\n",
    "Successfully installed MarkupSafe-1.0 bleach-2.1.1 decorator-4.1.2 entrypoints-0.2.3 html5lib-1.0b10 ipykernel-4.6.1 ipython-6.2.1 ipython-genutils-0.2.0 ipywidgets-7.0.3 jedi-0.11.0 jinja2-2.9.6 jsonschema-2.6.0 jupyter-1.0.0 jupyter-client-5.1.0 jupyter-console-5.2.0 jupyter-core-4.3.0 mistune-0.8 nbconvert-5.3.1 nbformat-4.4.0 notebook-5.2.0 pandocfilters-1.4.2 parso-0.1.0 pexpect-4.2.1 pickleshare-0.7.4 prompt-toolkit-1.0.15 ptyprocess-0.5.2 pygments-2.2.0 python-dateutil-2.6.1 pyzmq-16.0.2 qtconsole-4.3.1 simplegeneric-0.8.1 six-1.11.0 terminado-0.6 testpath-0.3.1 tornado-4.5.2 traitlets-4.3.2 wcwidth-0.1.7 webencodings-0.5.1 widgetsnbextension-3.0.6\n",
    "(sandbox) sdelquin@imw:~/sandbox$\n",
    "```\n",
    "\n",
    "Ahora ya podemos **acceder al intérprete** con el siguiente comando:\n",
    "\n",
    "```console\n",
    "(sandbox) sdelquin@imw:~/sandbox$ jupyter notebook\n",
    "[I 13:44:01.161 NotebookApp] Writing notebook server cookie secret to /run/user/1000/jupyter/notebook_cookie_secret\n",
    "[I 13:44:01.189 NotebookApp] Serving notebooks from local directory: /home/sdelquin/sandbox\n",
    "[I 13:44:01.190 NotebookApp] 0 active kernels\n",
    "[I 13:44:01.190 NotebookApp] The Jupyter Notebook is running at:\n",
    "[I 13:44:01.191 NotebookApp] http://localhost:8888/?token=ee95704b25c046f52dd48ad505947d4fbe6c29e65c5f1749\n",
    "[I 13:44:01.191 NotebookApp] Use Control-C to stop this server and shut down all kernels (twice to skip confirmation).\n",
    "[W 13:44:01.193 NotebookApp] No web browser found: could not locate runnable browser.\n",
    "[C 13:44:01.195 NotebookApp]\n",
    "\n",
    "    Copy/paste this URL into your browser when you connect for the first time,\n",
    "    to login with a token:\n",
    "        http://localhost:8888/?token=ee95704b25c046f52dd48ad505947d4fbe6c29e65c5f1749\n",
    "```\n",
    "\n",
    "Se nos abrirá el navegador por defecto con el entorno de Jupyter. Ahí nos iremos a crear un nuevo **\"notebook\"**:\n",
    "\n",
    "![](img/JupyterNotebook.png)"
   ]
  },
  {
   "cell_type": "markdown",
   "metadata": {},
   "source": [
    "## El Zen de Python"
   ]
  },
  {
   "cell_type": "code",
   "execution_count": 3,
   "metadata": {},
   "outputs": [
    {
     "name": "stdout",
     "output_type": "stream",
     "text": [
      "The Zen of Python, by Tim Peters\n",
      "\n",
      "Beautiful is better than ugly.\n",
      "Explicit is better than implicit.\n",
      "Simple is better than complex.\n",
      "Complex is better than complicated.\n",
      "Flat is better than nested.\n",
      "Sparse is better than dense.\n",
      "Readability counts.\n",
      "Special cases aren't special enough to break the rules.\n",
      "Although practicality beats purity.\n",
      "Errors should never pass silently.\n",
      "Unless explicitly silenced.\n",
      "In the face of ambiguity, refuse the temptation to guess.\n",
      "There should be one-- and preferably only one --obvious way to do it.\n",
      "Although that way may not be obvious at first unless you're Dutch.\n",
      "Now is better than never.\n",
      "Although never is often better than *right* now.\n",
      "If the implementation is hard to explain, it's a bad idea.\n",
      "If the implementation is easy to explain, it may be a good idea.\n",
      "Namespaces are one honking great idea -- let's do more of those!\n"
     ]
    }
   ],
   "source": [
    "import this"
   ]
  },
  {
   "cell_type": "markdown",
   "metadata": {},
   "source": [
    "## Librería estándar"
   ]
  },
  {
   "cell_type": "markdown",
   "metadata": {},
   "source": [
    "Existen una serie de funciones predefinidas en *python* que podemos usar en cualquier momento:\n",
    "https://docs.python.org/3/library/functions.html"
   ]
  },
  {
   "cell_type": "markdown",
   "metadata": {},
   "source": [
    "## Tipos de datos primitivos"
   ]
  },
  {
   "cell_type": "markdown",
   "metadata": {},
   "source": [
    "A continuación podemos ver los principales tipos de datos de *python*:"
   ]
  },
  {
   "cell_type": "markdown",
   "metadata": {},
   "source": [
    "![](img/Python-Tipos_de_datos.png)"
   ]
  },
  {
   "cell_type": "code",
   "execution_count": 32,
   "metadata": {
    "collapsed": true
   },
   "outputs": [],
   "source": [
    "x = 1               # entero\n",
    "y = 2.3             # flotante\n",
    "z = \"vamos a ver\"   # cadena\n",
    "w = True            # booleano"
   ]
  },
  {
   "cell_type": "code",
   "execution_count": 33,
   "metadata": {},
   "outputs": [
    {
     "name": "stdout",
     "output_type": "stream",
     "text": [
      "<class 'int'>\n",
      "<class 'float'>\n",
      "<class 'str'>\n",
      "<class 'bool'>\n"
     ]
    }
   ],
   "source": [
    "print(type(x))\n",
    "print(type(y))\n",
    "print(type(z))\n",
    "print(type(w))"
   ]
  },
  {
   "cell_type": "markdown",
   "metadata": {},
   "source": [
    "### Conversión de tipos"
   ]
  },
  {
   "cell_type": "code",
   "execution_count": 34,
   "metadata": {},
   "outputs": [
    {
     "name": "stdout",
     "output_type": "stream",
     "text": [
      "<class 'str'>\n",
      "<class 'int'>\n"
     ]
    }
   ],
   "source": [
    "x = \"12\"\n",
    "print(type(x))\n",
    "x = int(x)\n",
    "print(type(x))"
   ]
  },
  {
   "cell_type": "code",
   "execution_count": 35,
   "metadata": {},
   "outputs": [
    {
     "name": "stdout",
     "output_type": "stream",
     "text": [
      "<class 'str'>\n",
      "<class 'float'>\n"
     ]
    }
   ],
   "source": [
    "x = \"34.6\"\n",
    "print(type(x))\n",
    "x = float(x)\n",
    "print(type(x))"
   ]
  },
  {
   "cell_type": "code",
   "execution_count": 36,
   "metadata": {},
   "outputs": [
    {
     "name": "stdout",
     "output_type": "stream",
     "text": [
      "1 <class 'int'>\n",
      "True <class 'bool'>\n",
      "False <class 'bool'>\n",
      "True\n",
      "False\n",
      "True\n"
     ]
    }
   ],
   "source": [
    "x = 1\n",
    "print(x, type(x))\n",
    "x = bool(1)\n",
    "print(x, type(x))\n",
    "x = bool(0)\n",
    "print(x, type(x))\n",
    "x = bool(14325)\n",
    "print(x)\n",
    "x = bool(\"\")\n",
    "print(x)\n",
    "x = bool(\"hola hola\")\n",
    "print(x)"
   ]
  },
  {
   "cell_type": "markdown",
   "metadata": {},
   "source": [
    "## Operando con números"
   ]
  },
  {
   "cell_type": "code",
   "execution_count": 53,
   "metadata": {},
   "outputs": [
    {
     "name": "stdout",
     "output_type": "stream",
     "text": [
      "6\n",
      "1.5\n",
      "1\n",
      "9\n",
      "2\n"
     ]
    }
   ],
   "source": [
    "a = 3\n",
    "r = a * 2\n",
    "print(r)\n",
    "r = a / 2\n",
    "print(r)\n",
    "r = a // 2\n",
    "print(r)\n",
    "r = a ** 2\n",
    "print(r)\n",
    "r = 14 % a\n",
    "print(r)"
   ]
  },
  {
   "cell_type": "markdown",
   "metadata": {},
   "source": [
    "Tener en cuenta la *prioridad* y *asociatividad* de operaciones:"
   ]
  },
  {
   "cell_type": "code",
   "execution_count": 38,
   "metadata": {},
   "outputs": [
    {
     "name": "stdout",
     "output_type": "stream",
     "text": [
      "32.0\n",
      "16.0\n"
     ]
    }
   ],
   "source": [
    "a = 3\n",
    "b = 6\n",
    "r = a * 10 + b / 3.0\n",
    "print(r)\n",
    "r = a * (10 + b) / 3.0\n",
    "print(r)"
   ]
  },
  {
   "cell_type": "markdown",
   "metadata": {
    "collapsed": true
   },
   "source": [
    "Operadores más compactos:"
   ]
  },
  {
   "cell_type": "code",
   "execution_count": 39,
   "metadata": {},
   "outputs": [
    {
     "name": "stdout",
     "output_type": "stream",
     "text": [
      "2\n",
      "14\n"
     ]
    }
   ],
   "source": [
    "a = 1\n",
    "a += 1\n",
    "print(a)\n",
    "b = 2\n",
    "b *= 7\n",
    "print(b)"
   ]
  },
  {
   "cell_type": "markdown",
   "metadata": {},
   "source": [
    "Una cuestión curiosa sobre el uso de números en punto flotante https://es.wikipedia.org/wiki/Coma_flotante"
   ]
  },
  {
   "cell_type": "code",
   "execution_count": 3,
   "metadata": {},
   "outputs": [
    {
     "data": {
      "text/plain": [
       "False"
      ]
     },
     "execution_count": 3,
     "metadata": {},
     "output_type": "execute_result"
    }
   ],
   "source": [
    "0.1 + 0.2 + 0.3 == 0.6"
   ]
  },
  {
   "cell_type": "code",
   "execution_count": 4,
   "metadata": {},
   "outputs": [
    {
     "data": {
      "text/plain": [
       "True"
      ]
     },
     "execution_count": 4,
     "metadata": {},
     "output_type": "execute_result"
    }
   ],
   "source": [
    "abs((0.1 + 0.2 + 0.3) - 0.6) < 1e-15"
   ]
  },
  {
   "cell_type": "markdown",
   "metadata": {},
   "source": [
    "## Asignación múltiple"
   ]
  },
  {
   "cell_type": "markdown",
   "metadata": {},
   "source": [
    "Supongamos que queremos intercambiar los valores de las variables `a` y `b`:"
   ]
  },
  {
   "cell_type": "code",
   "execution_count": 40,
   "metadata": {},
   "outputs": [
    {
     "name": "stdout",
     "output_type": "stream",
     "text": [
      "5 3\n",
      "3 5\n"
     ]
    }
   ],
   "source": [
    "a = 5\n",
    "b = 3\n",
    "print(a, b)\n",
    "z = a\n",
    "a = b\n",
    "b = z\n",
    "print(a, b)"
   ]
  },
  {
   "cell_type": "markdown",
   "metadata": {},
   "source": [
    "Sin embargo, en Python podemos hacer uso de la asignación múltiple:"
   ]
  },
  {
   "cell_type": "code",
   "execution_count": 41,
   "metadata": {},
   "outputs": [
    {
     "name": "stdout",
     "output_type": "stream",
     "text": [
      "5 3\n",
      "3 5\n"
     ]
    }
   ],
   "source": [
    "a = 5\n",
    "b = 3\n",
    "print(a, b)\n",
    "a, b = b, a\n",
    "print(a, b)"
   ]
  },
  {
   "cell_type": "markdown",
   "metadata": {},
   "source": [
    "## Un paso más allá en el `print`"
   ]
  },
  {
   "cell_type": "code",
   "execution_count": 4,
   "metadata": {
    "collapsed": true
   },
   "outputs": [],
   "source": [
    "a = 4\n",
    "b = 1\n",
    "c = 7"
   ]
  },
  {
   "cell_type": "code",
   "execution_count": 7,
   "metadata": {},
   "outputs": [
    {
     "name": "stdout",
     "output_type": "stream",
     "text": [
      "4 1 7\n"
     ]
    }
   ],
   "source": [
    "print(a, b, c)"
   ]
  },
  {
   "cell_type": "code",
   "execution_count": 8,
   "metadata": {},
   "outputs": [
    {
     "name": "stdout",
     "output_type": "stream",
     "text": [
      "4,1,7\n"
     ]
    }
   ],
   "source": [
    "print(a, b, c, sep=\",\")"
   ]
  },
  {
   "cell_type": "code",
   "execution_count": 10,
   "metadata": {},
   "outputs": [
    {
     "name": "stdout",
     "output_type": "stream",
     "text": [
      "4 1 7$"
     ]
    }
   ],
   "source": [
    "print(a, b, c, end=\"$\")"
   ]
  },
  {
   "cell_type": "code",
   "execution_count": 11,
   "metadata": {},
   "outputs": [
    {
     "name": "stdout",
     "output_type": "stream",
     "text": [
      "4;1;7."
     ]
    }
   ],
   "source": [
    "print(a, b, c, sep=\";\", end=\".\")"
   ]
  },
  {
   "cell_type": "markdown",
   "metadata": {},
   "source": [
    "## Pidiendo datos de entrada"
   ]
  },
  {
   "cell_type": "markdown",
   "metadata": {},
   "source": [
    "La función que debemos usar para pedir datos de entrada es `input`:"
   ]
  },
  {
   "cell_type": "code",
   "execution_count": 42,
   "metadata": {},
   "outputs": [
    {
     "name": "stdout",
     "output_type": "stream",
     "text": [
      "¿Quiere continuar? s\n",
      "Continuando...\n"
     ]
    }
   ],
   "source": [
    "cadena = input(\"¿Quiere continuar? \")\n",
    "if cadena == \"sí\" or cadena == \"SÍ\" or cadena == \"S\" or cadena == \"s\":\n",
    "    print(\"Continuando...\")"
   ]
  },
  {
   "cell_type": "code",
   "execution_count": 43,
   "metadata": {},
   "outputs": [
    {
     "name": "stdout",
     "output_type": "stream",
     "text": [
      "Quiero pillar un salto de línea: \n",
      "Salto de línea! Yeah\n"
     ]
    }
   ],
   "source": [
    "input_data = input(\"Quiero pillar un salto de línea: \")\n",
    "if input_data == \"\":\n",
    "    print(\"Salto de línea! Yeah\")"
   ]
  },
  {
   "cell_type": "markdown",
   "metadata": {},
   "source": [
    "La función `input` siempre lee un tipo de dato `str`, por eso debemos convertirlo si queremos trabajar con otros tipos de datos, por ejemplo `int` ó `float`:"
   ]
  },
  {
   "cell_type": "code",
   "execution_count": 44,
   "metadata": {},
   "outputs": [
    {
     "name": "stdout",
     "output_type": "stream",
     "text": [
      "Introduzca un valor: 34\n",
      "<class 'str'>\n"
     ]
    }
   ],
   "source": [
    "input_data = input(\"Introduzca un valor: \")\n",
    "print(type(input_data))"
   ]
  },
  {
   "cell_type": "code",
   "execution_count": 45,
   "metadata": {},
   "outputs": [
    {
     "name": "stdout",
     "output_type": "stream",
     "text": [
      "Introduzca el número para elevar al cuadrado: 7\n",
      "<class 'int'> 7\n",
      "Square of 7 is 49\n"
     ]
    }
   ],
   "source": [
    "number = int(input(\"Introduzca el número para elevar al cuadrado: \"))\n",
    "print(type(number), number)\n",
    "result = number ** 2\n",
    "print(\"Square of\", number, \"is\", result)"
   ]
  },
  {
   "cell_type": "markdown",
   "metadata": {
    "collapsed": true
   },
   "source": [
    "## Comentarios"
   ]
  },
  {
   "cell_type": "code",
   "execution_count": 4,
   "metadata": {},
   "outputs": [
    {
     "name": "stdout",
     "output_type": "stream",
     "text": [
      "5.0\n"
     ]
    }
   ],
   "source": [
    "# calcula el porcentaje de la hora que ha pasado ya\n",
    "minutes = 3\n",
    "percentage = (minutes * 100) / 60\n",
    "print(percentage)"
   ]
  },
  {
   "cell_type": "markdown",
   "metadata": {},
   "source": [
    "## Usando módulos externos"
   ]
  },
  {
   "cell_type": "code",
   "execution_count": 49,
   "metadata": {},
   "outputs": [
    {
     "name": "stdout",
     "output_type": "stream",
     "text": [
      "6.283185307179586\n"
     ]
    }
   ],
   "source": [
    "from math import pi\n",
    "radius = 1\n",
    "perimeter = 2 * pi * radius\n",
    "print(perimeter)"
   ]
  },
  {
   "cell_type": "code",
   "execution_count": 51,
   "metadata": {},
   "outputs": [
    {
     "name": "stdout",
     "output_type": "stream",
     "text": [
      "Square root of 121 is 11.0\n"
     ]
    }
   ],
   "source": [
    "from math import sqrt\n",
    "value = 121\n",
    "print(\"Square root of\", value, \"is\", sqrt(value))"
   ]
  },
  {
   "cell_type": "code",
   "execution_count": 52,
   "metadata": {},
   "outputs": [
    {
     "name": "stdout",
     "output_type": "stream",
     "text": [
      "Value of PI: 3.141592653589793\n"
     ]
    }
   ],
   "source": [
    "import math\n",
    "print(\"Value of PI:\", math.pi)"
   ]
  },
  {
   "cell_type": "markdown",
   "metadata": {},
   "source": [
    "> IMPORTANTE: Todas las importaciones se deben poner **al principio del fichero!**"
   ]
  },
  {
   "cell_type": "markdown",
   "metadata": {},
   "source": [
    "## Ponle color a tus programas"
   ]
  },
  {
   "cell_type": "markdown",
   "metadata": {},
   "source": [
    "Vamos a usar una librería externa: `fabulous`\n",
    "https://jart.github.io/fabulous/"
   ]
  },
  {
   "cell_type": "markdown",
   "metadata": {},
   "source": [
    "Para su instalación, **DENTRO DEL ENTORNO VIRTUAL ACTIVADO**, tendremos que ejecutar lo siguiente:\n",
    "```console\n",
    "$> pip install fabulous\n",
    "```"
   ]
  },
  {
   "cell_type": "code",
   "execution_count": 14,
   "metadata": {
    "collapsed": true
   },
   "outputs": [],
   "source": [
    "from fabulous.color import bold, magenta, highlight_red, yellow, red_bg"
   ]
  },
  {
   "cell_type": "code",
   "execution_count": 9,
   "metadata": {},
   "outputs": [
    {
     "name": "stdout",
     "output_type": "stream",
     "text": [
      "\u001b[35mhello!\u001b[39m\n"
     ]
    }
   ],
   "source": [
    "print(magenta(\"hello!\"))"
   ]
  },
  {
   "cell_type": "code",
   "execution_count": 10,
   "metadata": {},
   "outputs": [
    {
     "name": "stdout",
     "output_type": "stream",
     "text": [
      "\u001b[1;31;7mhello!\u001b[22;27;39m\n"
     ]
    }
   ],
   "source": [
    "print(highlight_red(\"hello!\"))"
   ]
  },
  {
   "cell_type": "code",
   "execution_count": 6,
   "metadata": {},
   "outputs": [
    {
     "name": "stdout",
     "output_type": "stream",
     "text": [
      "\u001b[1mhello!\u001b[22m\n"
     ]
    }
   ],
   "source": [
    "print(bold(\"hello!\"))"
   ]
  },
  {
   "cell_type": "code",
   "execution_count": 12,
   "metadata": {},
   "outputs": [
    {
     "name": "stdout",
     "output_type": "stream",
     "text": [
      "\u001b[1m\u001b[33mhello!\u001b[39m\u001b[22m\n"
     ]
    }
   ],
   "source": [
    "print(bold(yellow(\"hello!\")))"
   ]
  },
  {
   "cell_type": "code",
   "execution_count": 15,
   "metadata": {},
   "outputs": [
    {
     "name": "stdout",
     "output_type": "stream",
     "text": [
      "\u001b[41mhello!\u001b[49m\n"
     ]
    }
   ],
   "source": [
    "print(red_bg(\"hello!\"))"
   ]
  },
  {
   "cell_type": "markdown",
   "metadata": {},
   "source": [
    "## Leyendo argumentos desde la línea de comandos"
   ]
  },
  {
   "cell_type": "markdown",
   "metadata": {},
   "source": [
    "Para no estar usando la función `input`, existe otra manera de leer datos del usuario, y es a través de la línea de comandos."
   ]
  },
  {
   "cell_type": "code",
   "execution_count": null,
   "metadata": {
    "collapsed": true
   },
   "outputs": [],
   "source": [
    "import sys\n",
    "\n",
    "# en el primer elemento está el nombre del programa\n",
    "print(sys.argv[0])\n",
    "# primer argumento\n",
    "arg1 = sys.argv[1]\n",
    "print(arg1)\n",
    "# segundo argumento\n",
    "arg2 = sys.argv[2]\n",
    "print(arg2)"
   ]
  },
  {
   "cell_type": "markdown",
   "metadata": {},
   "source": [
    "Si ejecutamos nuestro programa con:\n",
    "```\n",
    "$> python miprograma.py uno 2\n",
    "```\n",
    "\n",
    "La salida sería:\n",
    "```\n",
    "miprograma.py\n",
    "uno\n",
    "2\n",
    "```"
   ]
  },
  {
   "cell_type": "markdown",
   "metadata": {},
   "source": [
    "## Saliendo del programa"
   ]
  },
  {
   "cell_type": "code",
   "execution_count": null,
   "metadata": {
    "collapsed": true
   },
   "outputs": [],
   "source": [
    "import sys\n",
    "\n",
    "sys.exit()"
   ]
  },
  {
   "cell_type": "markdown",
   "metadata": {},
   "source": [
    "Si queremos mostrar un mensaje por pantalla a la vez que salimos, podemos pasar un parámetro a la función:"
   ]
  },
  {
   "cell_type": "code",
   "execution_count": null,
   "metadata": {
    "collapsed": true
   },
   "outputs": [],
   "source": [
    "import sys\n",
    "\n",
    "sys.exit(\"Hubo un problema. Saliendo del programa...\")"
   ]
  }
 ],
 "metadata": {
  "kernelspec": {
   "display_name": "Python 3",
   "language": "python",
   "name": "python3"
  },
  "language_info": {
   "codemirror_mode": {
    "name": "ipython",
    "version": 3
   },
   "file_extension": ".py",
   "mimetype": "text/x-python",
   "name": "python",
   "nbconvert_exporter": "python",
   "pygments_lexer": "ipython3",
   "version": "3.6.1"
  }
 },
 "nbformat": 4,
 "nbformat_minor": 1
}
