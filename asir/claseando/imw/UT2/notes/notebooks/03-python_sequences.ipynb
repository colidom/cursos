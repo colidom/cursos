{
 "cells": [
  {
   "cell_type": "markdown",
   "metadata": {},
   "source": [
    "# Secuencias"
   ]
  },
  {
   "cell_type": "markdown",
   "metadata": {},
   "source": [
    "![](img/Python-Tipos_de_datos_en_atomicidad.png)"
   ]
  },
  {
   "cell_type": "markdown",
   "metadata": {},
   "source": [
    "## Cadenas (`str`)"
   ]
  },
  {
   "cell_type": "markdown",
   "metadata": {},
   "source": [
    "### Operaciones básicas"
   ]
  },
  {
   "cell_type": "code",
   "execution_count": 37,
   "metadata": {},
   "outputs": [
    {
     "name": "stdout",
     "output_type": "stream",
     "text": [
      "Esto es una cadena Esto es una cadena \n",
      "Esto es una cadena Esto es una cadena Esto es una cadena \n",
      "ESTO ES UNA CADENA \n",
      "esto es una cadena \n",
      "Esto Es Una Cadena \n",
      "19\n"
     ]
    }
   ],
   "source": [
    "string = \"Esto es una cadena \"\n",
    "\n",
    "result = string + string\n",
    "print(result)\n",
    "\n",
    "result = string * 3\n",
    "print(result)\n",
    "\n",
    "result = string.upper()\n",
    "print(result)\n",
    "\n",
    "result = string.lower()\n",
    "print(result)\n",
    "\n",
    "result = string.title()\n",
    "print(result)\n",
    "\n",
    "result = len(string)\n",
    "print(result)"
   ]
  },
  {
   "cell_type": "markdown",
   "metadata": {},
   "source": [
    "### Formateando cadenas"
   ]
  },
  {
   "cell_type": "code",
   "execution_count": 38,
   "metadata": {},
   "outputs": [
    {
     "name": "stdout",
     "output_type": "stream",
     "text": [
      "Carlos es amigo de María\n",
      "Carlos es amigo de María, pero María no es amiga de Carlos\n"
     ]
    }
   ],
   "source": [
    "var1 = \"Carlos\"\n",
    "var2 = \"María\"\n",
    "\n",
    "print(\"{} es amigo de {}\".format(var1, var2))\n",
    "\n",
    "print(\"{0} es amigo de {1}, pero {1} no es amiga de {0}\".format(var1, var2))"
   ]
  },
  {
   "cell_type": "code",
   "execution_count": 39,
   "metadata": {},
   "outputs": [
    {
     "name": "stdout",
     "output_type": "stream",
     "text": [
      "Student: John Anderson\n"
     ]
    }
   ],
   "source": [
    "print(\"Student: {name} {surname}\".format(name=\"John\", surname=\"Anderson\"))"
   ]
  },
  {
   "cell_type": "code",
   "execution_count": 40,
   "metadata": {},
   "outputs": [
    {
     "name": "stdout",
     "output_type": "stream",
     "text": [
      "003.210\n"
     ]
    }
   ],
   "source": [
    "x = 3.21\n",
    "print(\"{:07.3f}\".format(x))"
   ]
  },
  {
   "cell_type": "code",
   "execution_count": 41,
   "metadata": {},
   "outputs": [
    {
     "name": "stdout",
     "output_type": "stream",
     "text": [
      "          32\n",
      "     2423432\n",
      "        9823\n"
     ]
    }
   ],
   "source": [
    "a = 32\n",
    "b = 2423432\n",
    "c = 9823\n",
    "\n",
    "print(\"{:12d}\".format(a))\n",
    "print(\"{:12d}\".format(b))\n",
    "print(\"{:12d}\".format(c))"
   ]
  },
  {
   "cell_type": "code",
   "execution_count": 42,
   "metadata": {},
   "outputs": [
    {
     "name": "stdout",
     "output_type": "stream",
     "text": [
      "     Antonio\n",
      "       Belén\n",
      "        Joan\n",
      "   Francisco\n",
      "         Lau\n"
     ]
    }
   ],
   "source": [
    "student1 = \"Antonio\"\n",
    "student2 = \"Belén\"\n",
    "student3 = \"Joan\"\n",
    "student4 = \"Francisco\"\n",
    "student5 = \"Lau\"\n",
    "\n",
    "print(\"{:>12}\".format(student1))\n",
    "print(\"{:>12}\".format(student2))\n",
    "print(\"{:>12}\".format(student3))\n",
    "print(\"{:>12}\".format(student4))\n",
    "print(\"{:>12}\".format(student5))"
   ]
  },
  {
   "cell_type": "code",
   "execution_count": 43,
   "metadata": {},
   "outputs": [
    {
     "name": "stdout",
     "output_type": "stream",
     "text": [
      "Esto es una cad...\n"
     ]
    }
   ],
   "source": [
    "string = \"Esto es una cadena extremadamente larga\"\n",
    "print(\"{:.15}...\".format(string))"
   ]
  },
  {
   "cell_type": "markdown",
   "metadata": {},
   "source": [
    "Más información https://pyformat.info/"
   ]
  },
  {
   "cell_type": "markdown",
   "metadata": {},
   "source": [
    "### La notación `f`"
   ]
  },
  {
   "cell_type": "code",
   "execution_count": 1,
   "metadata": {},
   "outputs": [
    {
     "name": "stdout",
     "output_type": "stream",
     "text": [
      "El cuadrado de 33 es 1089\n"
     ]
    }
   ],
   "source": [
    "n = 33\n",
    "s = n ** 2\n",
    "print(f\"El cuadrado de {n} es {s}\")"
   ]
  },
  {
   "cell_type": "markdown",
   "metadata": {},
   "source": [
    "> Sólo funciona en Python 3.6 y superiores!"
   ]
  },
  {
   "cell_type": "markdown",
   "metadata": {},
   "source": [
    "### Salto de línea y tabulador"
   ]
  },
  {
   "cell_type": "markdown",
   "metadata": {},
   "source": [
    "El salto de línea se representa con el carácter `\\n`"
   ]
  },
  {
   "cell_type": "code",
   "execution_count": 44,
   "metadata": {},
   "outputs": [
    {
     "name": "stdout",
     "output_type": "stream",
     "text": [
      "\n",
      "\n",
      "hello world!\n",
      "\n",
      "\n"
     ]
    }
   ],
   "source": [
    "string = \"\\n\\nhello world!\\n\\n\"\n",
    "print(string)"
   ]
  },
  {
   "cell_type": "markdown",
   "metadata": {},
   "source": [
    "El tabulador se representa con el carácter `\\t`"
   ]
  },
  {
   "cell_type": "code",
   "execution_count": 45,
   "metadata": {},
   "outputs": [
    {
     "name": "stdout",
     "output_type": "stream",
     "text": [
      "Data:\t1.0\t2.0\t3.0\n"
     ]
    }
   ],
   "source": [
    "string = \"Data:\\t1.0\\t2.0\\t3.0\"\n",
    "print(string)"
   ]
  },
  {
   "cell_type": "markdown",
   "metadata": {},
   "source": [
    "### Cadenas multilínea"
   ]
  },
  {
   "cell_type": "code",
   "execution_count": 2,
   "metadata": {},
   "outputs": [
    {
     "name": "stdout",
     "output_type": "stream",
     "text": [
      "Esto es una cadena multilínea.\n",
      "        Se respetan las indentaciones (tabulaciones).\n",
      "    Seguimos por aquí:\n",
      "        - PuntoA.\n",
      "        - PuntoB.\n",
      "        - PuntoC.\n",
      "\n"
     ]
    }
   ],
   "source": [
    "string = \"\"\"Esto es una cadena multilínea.\n",
    "        Se respetan las indentaciones (tabulaciones).\n",
    "    Seguimos por aquí:\n",
    "        - PuntoA.\n",
    "        - PuntoB.\n",
    "        - PuntoC.\n",
    "\"\"\"\n",
    "print(string)"
   ]
  },
  {
   "cell_type": "markdown",
   "metadata": {},
   "source": [
    "### Indexando cadenas"
   ]
  },
  {
   "cell_type": "code",
   "execution_count": 1,
   "metadata": {
    "collapsed": true
   },
   "outputs": [],
   "source": [
    "text = \"Hola, mundo.\""
   ]
  },
  {
   "cell_type": "markdown",
   "metadata": {},
   "source": [
    "<img src=\"img/string_indexing.png\">"
   ]
  },
  {
   "cell_type": "code",
   "execution_count": 2,
   "metadata": {},
   "outputs": [
    {
     "name": "stdout",
     "output_type": "stream",
     "text": [
      "o\n",
      "a\n"
     ]
    }
   ],
   "source": [
    "print(text[1])\n",
    "print(text[3])"
   ]
  },
  {
   "cell_type": "markdown",
   "metadata": {},
   "source": [
    "Podemos \"trozear\" las cadenas:"
   ]
  },
  {
   "cell_type": "code",
   "execution_count": 4,
   "metadata": {},
   "outputs": [
    {
     "name": "stdout",
     "output_type": "stream",
     "text": [
      "mund\n"
     ]
    }
   ],
   "source": [
    "print(text[6:10])"
   ]
  },
  {
   "cell_type": "code",
   "execution_count": 8,
   "metadata": {},
   "outputs": [
    {
     "name": "stdout",
     "output_type": "stream",
     "text": [
      "la, mundo.\n"
     ]
    }
   ],
   "source": [
    "print(text[2:])"
   ]
  },
  {
   "cell_type": "code",
   "execution_count": 9,
   "metadata": {},
   "outputs": [
    {
     "name": "stdout",
     "output_type": "stream",
     "text": [
      "Ho\n"
     ]
    }
   ],
   "source": [
    "print(text[:2])"
   ]
  },
  {
   "cell_type": "markdown",
   "metadata": {},
   "source": [
    "#### Extremos de las cadenas"
   ]
  },
  {
   "cell_type": "markdown",
   "metadata": {},
   "source": [
    "Las cadenas comienzan en el índice 0:"
   ]
  },
  {
   "cell_type": "code",
   "execution_count": 10,
   "metadata": {},
   "outputs": [
    {
     "name": "stdout",
     "output_type": "stream",
     "text": [
      "H\n"
     ]
    }
   ],
   "source": [
    "print(text[0])"
   ]
  },
  {
   "cell_type": "code",
   "execution_count": 11,
   "metadata": {},
   "outputs": [
    {
     "name": "stdout",
     "output_type": "stream",
     "text": [
      "12\n"
     ]
    },
    {
     "ename": "IndexError",
     "evalue": "string index out of range",
     "output_type": "error",
     "traceback": [
      "\u001b[0;31m---------------------------------------------------------------------------\u001b[0m",
      "\u001b[0;31mIndexError\u001b[0m                                Traceback (most recent call last)",
      "\u001b[0;32m<ipython-input-11-5ca5ca4fd9f4>\u001b[0m in \u001b[0;36m<module>\u001b[0;34m()\u001b[0m\n\u001b[1;32m      1\u001b[0m \u001b[0msize\u001b[0m \u001b[0;34m=\u001b[0m \u001b[0mlen\u001b[0m\u001b[0;34m(\u001b[0m\u001b[0mtext\u001b[0m\u001b[0;34m)\u001b[0m\u001b[0;34m\u001b[0m\u001b[0m\n\u001b[1;32m      2\u001b[0m \u001b[0mprint\u001b[0m\u001b[0;34m(\u001b[0m\u001b[0msize\u001b[0m\u001b[0;34m)\u001b[0m\u001b[0;34m\u001b[0m\u001b[0m\n\u001b[0;32m----> 3\u001b[0;31m \u001b[0mresult\u001b[0m \u001b[0;34m=\u001b[0m \u001b[0mtext\u001b[0m\u001b[0;34m[\u001b[0m\u001b[0msize\u001b[0m\u001b[0;34m]\u001b[0m\u001b[0;34m\u001b[0m\u001b[0m\n\u001b[0m\u001b[1;32m      4\u001b[0m \u001b[0mprint\u001b[0m\u001b[0;34m(\u001b[0m\u001b[0mresult\u001b[0m\u001b[0;34m)\u001b[0m\u001b[0;34m\u001b[0m\u001b[0m\n",
      "\u001b[0;31mIndexError\u001b[0m: string index out of range"
     ]
    }
   ],
   "source": [
    "size = len(text)\n",
    "print(size)\n",
    "result = text[size]\n",
    "print(result)"
   ]
  },
  {
   "cell_type": "markdown",
   "metadata": {},
   "source": [
    "Y terminan en la longitud de la cadena menos uno:"
   ]
  },
  {
   "cell_type": "code",
   "execution_count": 12,
   "metadata": {},
   "outputs": [
    {
     "name": "stdout",
     "output_type": "stream",
     "text": [
      ".\n"
     ]
    }
   ],
   "source": [
    "print(text[len(text) - 1])"
   ]
  },
  {
   "cell_type": "markdown",
   "metadata": {},
   "source": [
    "Hay una forma más simple de acceder al final de una cadena:"
   ]
  },
  {
   "cell_type": "code",
   "execution_count": 13,
   "metadata": {},
   "outputs": [
    {
     "name": "stdout",
     "output_type": "stream",
     "text": [
      ".\n"
     ]
    }
   ],
   "source": [
    "print(text[-1])"
   ]
  },
  {
   "cell_type": "markdown",
   "metadata": {},
   "source": [
    "### Recorriendo cadenas"
   ]
  },
  {
   "cell_type": "code",
   "execution_count": 14,
   "metadata": {},
   "outputs": [
    {
     "name": "stdout",
     "output_type": "stream",
     "text": [
      "S\n",
      "u\n",
      "p\n",
      "e\n",
      "r\n",
      "c\n",
      "a\n",
      "l\n",
      "i\n",
      "f\n",
      "r\n",
      "a\n",
      "g\n",
      "i\n",
      "l\n",
      "i\n",
      "s\n",
      "t\n",
      "i\n",
      "c\n",
      "o\n",
      "e\n",
      "s\n",
      "p\n",
      "i\n",
      "a\n",
      "l\n",
      "i\n",
      "d\n",
      "o\n",
      "s\n",
      "o\n"
     ]
    }
   ],
   "source": [
    "text = \"Supercalifragilisticoespialidoso\"\n",
    "for char in text:\n",
    "    print(char)"
   ]
  },
  {
   "cell_type": "markdown",
   "metadata": {},
   "source": [
    "### Descubriendo el tipo de datos que manejamos en cadenas"
   ]
  },
  {
   "cell_type": "code",
   "execution_count": 12,
   "metadata": {},
   "outputs": [
    {
     "data": {
      "text/plain": [
       "True"
      ]
     },
     "execution_count": 12,
     "metadata": {},
     "output_type": "execute_result"
    }
   ],
   "source": [
    "text = \"321\"\n",
    "text.isnumeric()"
   ]
  },
  {
   "cell_type": "code",
   "execution_count": 13,
   "metadata": {},
   "outputs": [
    {
     "data": {
      "text/plain": [
       "True"
      ]
     },
     "execution_count": 13,
     "metadata": {},
     "output_type": "execute_result"
    }
   ],
   "source": [
    "text = \"   \"\n",
    "text.isspace()"
   ]
  },
  {
   "cell_type": "code",
   "execution_count": 18,
   "metadata": {},
   "outputs": [
    {
     "data": {
      "text/plain": [
       "True"
      ]
     },
     "execution_count": 18,
     "metadata": {},
     "output_type": "execute_result"
    }
   ],
   "source": [
    "text = \"probando\"\n",
    "text.isalpha()"
   ]
  },
  {
   "cell_type": "code",
   "execution_count": 19,
   "metadata": {},
   "outputs": [
    {
     "data": {
      "text/plain": [
       "True"
      ]
     },
     "execution_count": 19,
     "metadata": {},
     "output_type": "execute_result"
    }
   ],
   "source": [
    "text = \"probando123\"\n",
    "text.isalnum()"
   ]
  },
  {
   "cell_type": "markdown",
   "metadata": {
    "collapsed": true
   },
   "source": [
    "## Listas"
   ]
  },
  {
   "cell_type": "markdown",
   "metadata": {},
   "source": [
    "Pueden haber listas hechas con *números*:"
   ]
  },
  {
   "cell_type": "code",
   "execution_count": 27,
   "metadata": {},
   "outputs": [
    {
     "name": "stdout",
     "output_type": "stream",
     "text": [
      "<class 'list'> [7, 4, 3, 2, 9]\n"
     ]
    }
   ],
   "source": [
    "mylist = [7, 4, 3, 2, 9]\n",
    "print(type(mylist), mylist)"
   ]
  },
  {
   "cell_type": "markdown",
   "metadata": {},
   "source": [
    "También se pueden hacer listas con *cadenas*:"
   ]
  },
  {
   "cell_type": "code",
   "execution_count": 26,
   "metadata": {},
   "outputs": [
    {
     "name": "stdout",
     "output_type": "stream",
     "text": [
      "<class 'list'> ['debian', 'ubuntu', 'free-bsd', 'kali']\n"
     ]
    }
   ],
   "source": [
    "mylist = [\"debian\", \"ubuntu\", \"free-bsd\", \"kali\"]\n",
    "print(type(mylist), mylist)"
   ]
  },
  {
   "cell_type": "markdown",
   "metadata": {},
   "source": [
    "Incluso se pueden mezclar tipos de datos. En general, se dice que una lista está compuesta de *objetos*:"
   ]
  },
  {
   "cell_type": "code",
   "execution_count": 30,
   "metadata": {},
   "outputs": [
    {
     "name": "stdout",
     "output_type": "stream",
     "text": [
      "<class 'list'> ['uno', 5, 2.31, 'cuatro']\n"
     ]
    }
   ],
   "source": [
    "mylist = [\"uno\", 5, 2.31, \"cuatro\"]\n",
    "print(type(mylist), mylist)"
   ]
  },
  {
   "cell_type": "markdown",
   "metadata": {},
   "source": [
    "### Operaciones básicas con listas"
   ]
  },
  {
   "cell_type": "markdown",
   "metadata": {},
   "source": [
    "Alineación de la [Selección Española de Fútbol (2017)](http://www.sefutbol.com/convocados):"
   ]
  },
  {
   "cell_type": "code",
   "execution_count": 21,
   "metadata": {
    "collapsed": true
   },
   "outputs": [],
   "source": [
    "lineup = [\n",
    "    \"De Gea\",\n",
    "    \"Carvajal\", \"Piqué\", \"Sergio Ramos\", \"Jordi Alba\",\n",
    "    \"Busquets\", \"Iniesta\", \"Isco\",\n",
    "    \"Silva\", \"Asensio\", \"Morata\"\n",
    "]"
   ]
  },
  {
   "cell_type": "markdown",
   "metadata": {},
   "source": [
    "#### Longitud de una lista"
   ]
  },
  {
   "cell_type": "code",
   "execution_count": 31,
   "metadata": {},
   "outputs": [
    {
     "data": {
      "text/plain": [
       "11"
      ]
     },
     "execution_count": 31,
     "metadata": {},
     "output_type": "execute_result"
    }
   ],
   "source": [
    "len(lineup)"
   ]
  },
  {
   "cell_type": "markdown",
   "metadata": {},
   "source": [
    "#### Sumar (concatenar) listas"
   ]
  },
  {
   "cell_type": "code",
   "execution_count": 57,
   "metadata": {},
   "outputs": [
    {
     "data": {
      "text/plain": [
       "['De Gea',\n",
       " 'Carvajal',\n",
       " 'Piqué',\n",
       " 'Sergio Ramos',\n",
       " 'Jordi Alba',\n",
       " 'Busquets',\n",
       " 'Iniesta',\n",
       " 'Pedro',\n",
       " 'Viera',\n",
       " 'Koke',\n",
       " 'Rodrigo',\n",
       " 'Kepa',\n",
       " 'Thiago',\n",
       " 'Pedro',\n",
       " 'Koke',\n",
       " 'Alcacer',\n",
       " 'Viera']"
      ]
     },
     "execution_count": 57,
     "metadata": {},
     "output_type": "execute_result"
    }
   ],
   "source": [
    "bench = [\"Kepa\", \"Thiago\", \"Pedro\", \"Koke\", \"Alcacer\", \"Viera\"]\n",
    "call = lineup + bench\n",
    "call"
   ]
  },
  {
   "cell_type": "markdown",
   "metadata": {},
   "source": [
    "#### Multiplicar una lista por un número"
   ]
  },
  {
   "cell_type": "code",
   "execution_count": 35,
   "metadata": {},
   "outputs": [
    {
     "data": {
      "text/plain": [
       "['De Gea',\n",
       " 'Carvajal',\n",
       " 'Piqué',\n",
       " 'Sergio Ramos',\n",
       " 'Jordi Alba',\n",
       " 'Busquets',\n",
       " 'Iniesta',\n",
       " 'Isco',\n",
       " 'Silva',\n",
       " 'Asensio',\n",
       " 'Morata',\n",
       " 'De Gea',\n",
       " 'Carvajal',\n",
       " 'Piqué',\n",
       " 'Sergio Ramos',\n",
       " 'Jordi Alba',\n",
       " 'Busquets',\n",
       " 'Iniesta',\n",
       " 'Isco',\n",
       " 'Silva',\n",
       " 'Asensio',\n",
       " 'Morata']"
      ]
     },
     "execution_count": 35,
     "metadata": {},
     "output_type": "execute_result"
    }
   ],
   "source": [
    "lineup * 2"
   ]
  },
  {
   "cell_type": "markdown",
   "metadata": {},
   "source": [
    "### Acceso a elementos de una lista"
   ]
  },
  {
   "cell_type": "markdown",
   "metadata": {},
   "source": [
    "#### Portero"
   ]
  },
  {
   "cell_type": "code",
   "execution_count": 36,
   "metadata": {},
   "outputs": [
    {
     "data": {
      "text/plain": [
       "'De Gea'"
      ]
     },
     "execution_count": 36,
     "metadata": {},
     "output_type": "execute_result"
    }
   ],
   "source": [
    "lineup[0]"
   ]
  },
  {
   "cell_type": "markdown",
   "metadata": {},
   "source": [
    "#### Delantero centro"
   ]
  },
  {
   "cell_type": "code",
   "execution_count": 37,
   "metadata": {},
   "outputs": [
    {
     "data": {
      "text/plain": [
       "'Morata'"
      ]
     },
     "execution_count": 37,
     "metadata": {},
     "output_type": "execute_result"
    }
   ],
   "source": [
    "lineup[-1]"
   ]
  },
  {
   "cell_type": "markdown",
   "metadata": {},
   "source": [
    "#### Línea de defensa"
   ]
  },
  {
   "cell_type": "code",
   "execution_count": 38,
   "metadata": {
    "scrolled": true
   },
   "outputs": [
    {
     "data": {
      "text/plain": [
       "['Carvajal', 'Piqué', 'Sergio Ramos', 'Jordi Alba']"
      ]
     },
     "execution_count": 38,
     "metadata": {},
     "output_type": "execute_result"
    }
   ],
   "source": [
    "lineup[1:5]"
   ]
  },
  {
   "cell_type": "markdown",
   "metadata": {},
   "source": [
    "#### Delanteros"
   ]
  },
  {
   "cell_type": "code",
   "execution_count": 39,
   "metadata": {},
   "outputs": [
    {
     "data": {
      "text/plain": [
       "['Silva', 'Asensio', 'Morata']"
      ]
     },
     "execution_count": 39,
     "metadata": {},
     "output_type": "execute_result"
    }
   ],
   "source": [
    "lineup[8:]"
   ]
  },
  {
   "cell_type": "markdown",
   "metadata": {},
   "source": [
    "### Modificar elementos de una lista"
   ]
  },
  {
   "cell_type": "markdown",
   "metadata": {},
   "source": [
    "Vamos a cambiar a Isco por Pedro:"
   ]
  },
  {
   "cell_type": "code",
   "execution_count": 41,
   "metadata": {},
   "outputs": [
    {
     "data": {
      "text/plain": [
       "['De Gea',\n",
       " 'Carvajal',\n",
       " 'Piqué',\n",
       " 'Sergio Ramos',\n",
       " 'Jordi Alba',\n",
       " 'Busquets',\n",
       " 'Iniesta',\n",
       " 'Pedro',\n",
       " 'Silva',\n",
       " 'Asensio',\n",
       " 'Morata']"
      ]
     },
     "execution_count": 41,
     "metadata": {},
     "output_type": "execute_result"
    }
   ],
   "source": [
    "lineup[7] = \"Pedro\"\n",
    "lineup"
   ]
  },
  {
   "cell_type": "markdown",
   "metadata": {},
   "source": [
    "Vamos a sustituir los 3 delanteros por otros:"
   ]
  },
  {
   "cell_type": "code",
   "execution_count": 43,
   "metadata": {},
   "outputs": [
    {
     "data": {
      "text/plain": [
       "['Silva', 'Asensio', 'Morata']"
      ]
     },
     "execution_count": 43,
     "metadata": {},
     "output_type": "execute_result"
    }
   ],
   "source": [
    "lineup[8:]"
   ]
  },
  {
   "cell_type": "code",
   "execution_count": 44,
   "metadata": {},
   "outputs": [
    {
     "data": {
      "text/plain": [
       "['De Gea',\n",
       " 'Carvajal',\n",
       " 'Piqué',\n",
       " 'Sergio Ramos',\n",
       " 'Jordi Alba',\n",
       " 'Busquets',\n",
       " 'Iniesta',\n",
       " 'Pedro',\n",
       " 'Viera',\n",
       " 'Koke',\n",
       " 'Alcacer']"
      ]
     },
     "execution_count": 44,
     "metadata": {},
     "output_type": "execute_result"
    }
   ],
   "source": [
    "lineup[8:] = [\"Viera\", \"Koke\", \"Alcacer\"]\n",
    "lineup"
   ]
  },
  {
   "cell_type": "markdown",
   "metadata": {},
   "source": [
    "### Añadir elementos a una lista"
   ]
  },
  {
   "cell_type": "markdown",
   "metadata": {},
   "source": [
    "Supongamos que entra un nuevo jugador en la convocatoria:"
   ]
  },
  {
   "cell_type": "code",
   "execution_count": 58,
   "metadata": {},
   "outputs": [
    {
     "data": {
      "text/plain": [
       "['Kepa', 'Thiago', 'Pedro', 'Koke', 'Alcacer', 'Viera']"
      ]
     },
     "execution_count": 58,
     "metadata": {},
     "output_type": "execute_result"
    }
   ],
   "source": [
    "bench"
   ]
  },
  {
   "cell_type": "code",
   "execution_count": 59,
   "metadata": {},
   "outputs": [
    {
     "data": {
      "text/plain": [
       "['Kepa', 'Thiago', 'Pedro', 'Koke', 'Alcacer', 'Viera', 'Rodrigo']"
      ]
     },
     "execution_count": 59,
     "metadata": {},
     "output_type": "execute_result"
    }
   ],
   "source": [
    "bench.append(\"Rodrigo\")\n",
    "bench"
   ]
  },
  {
   "cell_type": "markdown",
   "metadata": {},
   "source": [
    "En el caso de que quisiéramos añadir más de un elemento a la vez, tendríamos que usar otro método:"
   ]
  },
  {
   "cell_type": "code",
   "execution_count": 60,
   "metadata": {},
   "outputs": [
    {
     "data": {
      "text/plain": [
       "['Kepa',\n",
       " 'Thiago',\n",
       " 'Pedro',\n",
       " 'Koke',\n",
       " 'Alcacer',\n",
       " 'Viera',\n",
       " 'Rodrigo',\n",
       " 'Reina',\n",
       " 'Bartra',\n",
       " 'Vitolo',\n",
       " 'Aspas']"
      ]
     },
     "execution_count": 60,
     "metadata": {},
     "output_type": "execute_result"
    }
   ],
   "source": [
    "bench.extend([\"Reina\", \"Bartra\", \"Vitolo\", \"Aspas\"])\n",
    "bench"
   ]
  },
  {
   "cell_type": "markdown",
   "metadata": {},
   "source": [
    "### Quitar elementos de una lista"
   ]
  },
  {
   "cell_type": "markdown",
   "metadata": {},
   "source": [
    "#### Extraer"
   ]
  },
  {
   "cell_type": "markdown",
   "metadata": {},
   "source": [
    "Si quisiéramos *extraer* al delantero centro de la alineación:"
   ]
  },
  {
   "cell_type": "code",
   "execution_count": 51,
   "metadata": {},
   "outputs": [
    {
     "data": {
      "text/plain": [
       "'Alcacer'"
      ]
     },
     "execution_count": 51,
     "metadata": {},
     "output_type": "execute_result"
    }
   ],
   "source": [
    "forward = lineup.pop(10)   # si no pasamos ningún parámetro, por defecto es 0\n",
    "forward"
   ]
  },
  {
   "cell_type": "code",
   "execution_count": 52,
   "metadata": {
    "scrolled": true
   },
   "outputs": [
    {
     "data": {
      "text/plain": [
       "['De Gea',\n",
       " 'Carvajal',\n",
       " 'Piqué',\n",
       " 'Sergio Ramos',\n",
       " 'Jordi Alba',\n",
       " 'Busquets',\n",
       " 'Iniesta',\n",
       " 'Pedro',\n",
       " 'Viera',\n",
       " 'Koke']"
      ]
     },
     "execution_count": 52,
     "metadata": {},
     "output_type": "execute_result"
    }
   ],
   "source": [
    "lineup"
   ]
  },
  {
   "cell_type": "markdown",
   "metadata": {},
   "source": [
    "Si ahora quisiéramos insertar un nuevo delantero, podemos hacer uso del siguiente método:"
   ]
  },
  {
   "cell_type": "code",
   "execution_count": 53,
   "metadata": {
    "scrolled": true
   },
   "outputs": [
    {
     "data": {
      "text/plain": [
       "['De Gea',\n",
       " 'Carvajal',\n",
       " 'Piqué',\n",
       " 'Sergio Ramos',\n",
       " 'Jordi Alba',\n",
       " 'Busquets',\n",
       " 'Iniesta',\n",
       " 'Pedro',\n",
       " 'Viera',\n",
       " 'Koke',\n",
       " 'Rodrigo']"
      ]
     },
     "execution_count": 53,
     "metadata": {},
     "output_type": "execute_result"
    }
   ],
   "source": [
    "lineup.insert(10, \"Rodrigo\")\n",
    "lineup"
   ]
  },
  {
   "cell_type": "markdown",
   "metadata": {},
   "source": [
    "#### Borrar"
   ]
  },
  {
   "cell_type": "markdown",
   "metadata": {},
   "source": [
    "Supongamos que se lesiona \"Koke\" y tenemos que borrarlo de la lista de suplentes:"
   ]
  },
  {
   "cell_type": "code",
   "execution_count": 61,
   "metadata": {},
   "outputs": [
    {
     "data": {
      "text/plain": [
       "['Kepa',\n",
       " 'Thiago',\n",
       " 'Pedro',\n",
       " 'Koke',\n",
       " 'Alcacer',\n",
       " 'Viera',\n",
       " 'Rodrigo',\n",
       " 'Reina',\n",
       " 'Bartra',\n",
       " 'Vitolo',\n",
       " 'Aspas']"
      ]
     },
     "execution_count": 61,
     "metadata": {},
     "output_type": "execute_result"
    }
   ],
   "source": [
    "bench"
   ]
  },
  {
   "cell_type": "code",
   "execution_count": 62,
   "metadata": {
    "scrolled": true
   },
   "outputs": [
    {
     "data": {
      "text/plain": [
       "['Kepa',\n",
       " 'Thiago',\n",
       " 'Pedro',\n",
       " 'Alcacer',\n",
       " 'Viera',\n",
       " 'Rodrigo',\n",
       " 'Reina',\n",
       " 'Bartra',\n",
       " 'Vitolo',\n",
       " 'Aspas']"
      ]
     },
     "execution_count": 62,
     "metadata": {},
     "output_type": "execute_result"
    }
   ],
   "source": [
    "bench.remove(\"Koke\")    # remove no retorna ningún valor\n",
    "bench"
   ]
  },
  {
   "cell_type": "markdown",
   "metadata": {},
   "source": [
    "### Pertenencia de un elemento a una lista"
   ]
  },
  {
   "cell_type": "markdown",
   "metadata": {},
   "source": [
    "¿Está Iniesta en el equipo titular de la selección española?"
   ]
  },
  {
   "cell_type": "code",
   "execution_count": 63,
   "metadata": {},
   "outputs": [
    {
     "data": {
      "text/plain": [
       "True"
      ]
     },
     "execution_count": 63,
     "metadata": {},
     "output_type": "execute_result"
    }
   ],
   "source": [
    "\"Iniesta\" in lineup"
   ]
  },
  {
   "cell_type": "code",
   "execution_count": 64,
   "metadata": {},
   "outputs": [
    {
     "name": "stdout",
     "output_type": "stream",
     "text": [
      "Iniesta está en el equipo titular\n"
     ]
    }
   ],
   "source": [
    "if \"Iniesta\" in lineup:\n",
    "    print(\"Iniesta está en el equipo titular\")\n",
    "else:\n",
    "    print(\"Iniesta está en el banquillo\")"
   ]
  },
  {
   "cell_type": "markdown",
   "metadata": {},
   "source": [
    "### Ordenación de una lista"
   ]
  },
  {
   "cell_type": "markdown",
   "metadata": {},
   "source": [
    "Si queremos ordenar los jugadores de banquillo por orden alfabética, podemos hacerlo de la siguiente manera:"
   ]
  },
  {
   "cell_type": "code",
   "execution_count": 65,
   "metadata": {
    "scrolled": true
   },
   "outputs": [
    {
     "data": {
      "text/plain": [
       "['Alcacer',\n",
       " 'Aspas',\n",
       " 'Bartra',\n",
       " 'Kepa',\n",
       " 'Pedro',\n",
       " 'Reina',\n",
       " 'Rodrigo',\n",
       " 'Thiago',\n",
       " 'Viera',\n",
       " 'Vitolo']"
      ]
     },
     "execution_count": 65,
     "metadata": {},
     "output_type": "execute_result"
    }
   ],
   "source": [
    "bench.sort()\n",
    "bench"
   ]
  },
  {
   "cell_type": "markdown",
   "metadata": {},
   "source": [
    "### Conversiones entre listas y cadenas"
   ]
  },
  {
   "cell_type": "markdown",
   "metadata": {},
   "source": [
    "Supongamos que nos dan la lista de jugadores como una cadena, donde cada nombre está separado por una coma:"
   ]
  },
  {
   "cell_type": "code",
   "execution_count": 67,
   "metadata": {
    "scrolled": true
   },
   "outputs": [
    {
     "name": "stdout",
     "output_type": "stream",
     "text": [
      "Kepa,Ramos,Iniesta,Rodrigo\n",
      "['Kepa', 'Ramos', 'Iniesta', 'Rodrigo']\n"
     ]
    }
   ],
   "source": [
    "players_as_string = \"Kepa,Ramos,Iniesta,Rodrigo\"\n",
    "players_as_list = players_as_string.split(\",\")\n",
    "print(players_as_string)\n",
    "print(players_as_list)"
   ]
  },
  {
   "cell_type": "markdown",
   "metadata": {},
   "source": [
    "Ahora realizamos el procedimiento inverso, pasar de una lista a una cadena:"
   ]
  },
  {
   "cell_type": "code",
   "execution_count": 70,
   "metadata": {},
   "outputs": [
    {
     "name": "stdout",
     "output_type": "stream",
     "text": [
      "['De Gea', 'Piqué', 'Koke', 'Morata']\n",
      "De Gea,Piqué,Koke,Morata\n"
     ]
    }
   ],
   "source": [
    "players_as_list = [\"De Gea\", \"Piqué\", \"Koke\", \"Morata\"]\n",
    "players_as_string = \",\".join(players_as_list)\n",
    "print(players_as_list)\n",
    "print(players_as_string)"
   ]
  },
  {
   "cell_type": "markdown",
   "metadata": {},
   "source": [
    "### Construir una lista de forma dinámica"
   ]
  },
  {
   "cell_type": "markdown",
   "metadata": {},
   "source": [
    "Supongamos que pedimos el once inicial a través de teclado:"
   ]
  },
  {
   "cell_type": "code",
   "execution_count": 71,
   "metadata": {},
   "outputs": [
    {
     "name": "stdout",
     "output_type": "stream",
     "text": [
      "Introduzca jugador: De Gea\n",
      "Introduzca jugador: Carvajal\n",
      "Introduzca jugador: Piqué\n",
      "Introduzca jugador: Sergio Ramos\n",
      "Introduzca jugador: Jordi Alba\n",
      "Introduzca jugador: Busquets\n",
      "Introduzca jugador: Iniesta\n",
      "Introduzca jugador: Isco\n",
      "Introduzca jugador: Silva\n",
      "Introduzca jugador: Asensio\n",
      "Introduzca jugador: Morata\n",
      "['De Gea', 'Carvajal', 'Piqué', 'Sergio Ramos', 'Jordi Alba', 'Busquets', 'Iniesta', 'Isco', 'Silva', 'Asensio', 'Morata']\n"
     ]
    }
   ],
   "source": [
    "lineup = []\n",
    "for i in range(11):\n",
    "    player = input(\"Introduzca jugador: \")\n",
    "    lineup.append(player)\n",
    "print(lineup)"
   ]
  },
  {
   "cell_type": "markdown",
   "metadata": {},
   "source": [
    "### Lista de listas"
   ]
  },
  {
   "cell_type": "markdown",
   "metadata": {},
   "source": [
    "Supongamos que queremos hacer el once inicial pero con una lista de listas, es decir, dividir la alineación por líneas:"
   ]
  },
  {
   "cell_type": "code",
   "execution_count": 76,
   "metadata": {},
   "outputs": [
    {
     "data": {
      "text/plain": [
       "[['De Gea'],\n",
       " ['Carvajal', 'Piqué', 'Sergio Ramos', 'Jordi Alba'],\n",
       " ['Busquets', 'Iniesta', 'Isco'],\n",
       " ['Silva', 'Asensio', 'Morata']]"
      ]
     },
     "execution_count": 76,
     "metadata": {},
     "output_type": "execute_result"
    }
   ],
   "source": [
    "lineup = []\n",
    "goalkeeper = [\"De Gea\"]\n",
    "defenders = [\"Carvajal\", \"Piqué\", \"Sergio Ramos\", \"Jordi Alba\"]\n",
    "midfielders = [\"Busquets\", \"Iniesta\", \"Isco\"]\n",
    "forwards = [\"Silva\", \"Asensio\", \"Morata\"]\n",
    "\n",
    "lineup.append(goalkeeper)\n",
    "lineup.append(defenders)\n",
    "lineup.append(midfielders)\n",
    "lineup.append(forwards)\n",
    "\n",
    "lineup"
   ]
  },
  {
   "cell_type": "markdown",
   "metadata": {},
   "source": [
    "Así podremos acceder a cada una de las líneas por separado:"
   ]
  },
  {
   "cell_type": "code",
   "execution_count": 77,
   "metadata": {},
   "outputs": [
    {
     "name": "stdout",
     "output_type": "stream",
     "text": [
      "['De Gea']\n",
      "['Carvajal', 'Piqué', 'Sergio Ramos', 'Jordi Alba']\n",
      "['Busquets', 'Iniesta', 'Isco']\n",
      "['Silva', 'Asensio', 'Morata']\n"
     ]
    }
   ],
   "source": [
    "print(lineup[0])    # portero\n",
    "print(lineup[1])    # defensas\n",
    "print(lineup[2])    # centrocampistas\n",
    "print(lineup[3])    # delanteros"
   ]
  }
 ],
 "metadata": {
  "kernelspec": {
   "display_name": "Python 3",
   "language": "python",
   "name": "python3"
  },
  "language_info": {
   "codemirror_mode": {
    "name": "ipython",
    "version": 3
   },
   "file_extension": ".py",
   "mimetype": "text/x-python",
   "name": "python",
   "nbconvert_exporter": "python",
   "pygments_lexer": "ipython3",
   "version": "3.6.1"
  }
 },
 "nbformat": 4,
 "nbformat_minor": 1
}
