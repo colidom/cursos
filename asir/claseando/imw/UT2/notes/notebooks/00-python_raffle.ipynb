{
 "cells": [
  {
   "cell_type": "markdown",
   "metadata": {},
   "source": [
    "# Sorteando cositas"
   ]
  },
  {
   "cell_type": "code",
   "execution_count": null,
   "metadata": {},
   "outputs": [],
   "source": [
    "import random\n",
    "\n",
    "students = [\n",
    "    \"Abraham\",\n",
    "    \"Víctor Carvajal\",\n",
    "    \"Sergio\",\n",
    "    \"Carlos Delgado\",\n",
    "    \"Alejandro\",\n",
    "    \"Víctor García\",\n",
    "    \"Carmelo\",\n",
    "    \"Alfonso\",\n",
    "    \"Noelia\",\n",
    "    \"Kevin\",\n",
    "    \"Omar\",\n",
    "    \"Roberto\",\n",
    "    \"Adrián\",\n",
    "    \"Yared\",\n",
    "    \"Óscar\",\n",
    "    \"Carlos Oliva\",\n",
    "    \"Adán\",\n",
    "    \"Pablo\"\n",
    "]\n",
    "\n",
    "while students:\n",
    "    random.shuffle(students)\n",
    "    print(students.pop(0))\n",
    "    input()\n",
    "print(\"All students got a present!\")"
   ]
  }
 ],
 "metadata": {
  "kernelspec": {
   "display_name": "Python 3",
   "language": "python",
   "name": "python3"
  },
  "language_info": {
   "codemirror_mode": {
    "name": "ipython",
    "version": 3
   },
   "file_extension": ".py",
   "mimetype": "text/x-python",
   "name": "python",
   "nbconvert_exporter": "python",
   "pygments_lexer": "ipython3",
   "version": "3.6.1"
  }
 },
 "nbformat": 4,
 "nbformat_minor": 2
}
