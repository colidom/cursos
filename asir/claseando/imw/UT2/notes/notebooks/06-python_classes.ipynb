{
 "cells": [
  {
   "cell_type": "markdown",
   "metadata": {},
   "source": [
    "# Clases"
   ]
  },
  {
   "cell_type": "markdown",
   "metadata": {},
   "source": [
    "## Todo son objetos"
   ]
  },
  {
   "cell_type": "markdown",
   "metadata": {},
   "source": [
    "En el paradigma de **programación orientada a objetos** (POO, o bien OOP en inglés), un **objeto** es una unidad dentro de un programa de computadora que consta de un *estado* y de un *comportamiento*, que a su vez constan respectivamente de *datos almacenados* y de *tareas realizables* durante el tiempo de ejecución. Un objeto puede ser creado instanciando una **clase**, como ocurre en la programación orientada a objetos."
   ]
  },
  {
   "cell_type": "code",
   "execution_count": 14,
   "metadata": {
    "collapsed": true
   },
   "outputs": [],
   "source": [
    "# data es un objeto tipo lista\n",
    "# se crea instanciando la clase list\n",
    "data = list()"
   ]
  },
  {
   "cell_type": "code",
   "execution_count": 15,
   "metadata": {},
   "outputs": [
    {
     "name": "stdout",
     "output_type": "stream",
     "text": [
      "[]\n"
     ]
    }
   ],
   "source": [
    "# su estado actual (datos almacenados) es una lista vacía\n",
    "print(data)"
   ]
  },
  {
   "cell_type": "code",
   "execution_count": 16,
   "metadata": {
    "collapsed": true
   },
   "outputs": [],
   "source": [
    "# podemos cambiar su estado, mediante un comportamiento (tareas realizables)\n",
    "# estamos invocando/llamando a un método de la clase\n",
    "data.append(3)"
   ]
  },
  {
   "cell_type": "code",
   "execution_count": 17,
   "metadata": {},
   "outputs": [
    {
     "name": "stdout",
     "output_type": "stream",
     "text": [
      "[3]\n"
     ]
    }
   ],
   "source": [
    "# el estado ha cambiado\n",
    "print(data)"
   ]
  },
  {
   "cell_type": "markdown",
   "metadata": {},
   "source": [
    "## Definición de clases"
   ]
  },
  {
   "cell_type": "markdown",
   "metadata": {},
   "source": [
    "Vamos a crear una clase que nos permita \"modelar\" los usuarios de nuestro sistema UNIX:"
   ]
  },
  {
   "cell_type": "markdown",
   "metadata": {},
   "source": [
    "### Constructor"
   ]
  },
  {
   "cell_type": "code",
   "execution_count": 18,
   "metadata": {
    "collapsed": true
   },
   "outputs": [],
   "source": [
    "from crypt import crypt\n",
    "\n",
    "CRYPT_SALT = \"fnewiofhwoibewbfwbflwbfle\"\n",
    "\n",
    "class UnixUser:\n",
    "    def __init__(self, username, password, shell=\"bash\"):\n",
    "        self.username = username\n",
    "        self.password = crypt(password, CRYPT_SALT)\n",
    "        self.shell = \"/bin/{}\".format(shell)\n",
    "        self.home = \"/home/{}\".format(username)"
   ]
  },
  {
   "cell_type": "markdown",
   "metadata": {},
   "source": [
    "Sólo con esto, ya podríamos crear objetos de la clase `UnixUser`:"
   ]
  },
  {
   "cell_type": "code",
   "execution_count": 19,
   "metadata": {
    "collapsed": true
   },
   "outputs": [],
   "source": [
    "user1 = UnixUser(\"pepe\", \"potajedecoles\")"
   ]
  },
  {
   "cell_type": "code",
   "execution_count": 20,
   "metadata": {},
   "outputs": [
    {
     "name": "stdout",
     "output_type": "stream",
     "text": [
      "<__main__.UnixUser object at 0x10780d198>\n"
     ]
    }
   ],
   "source": [
    "print(user1)"
   ]
  },
  {
   "cell_type": "markdown",
   "metadata": {},
   "source": [
    "Comprobamos que los atributos del objeto se han creado satisfactoriamente:"
   ]
  },
  {
   "cell_type": "code",
   "execution_count": 21,
   "metadata": {},
   "outputs": [
    {
     "name": "stdout",
     "output_type": "stream",
     "text": [
      "pepe\n"
     ]
    }
   ],
   "source": [
    "print(user1.username)"
   ]
  },
  {
   "cell_type": "code",
   "execution_count": 22,
   "metadata": {},
   "outputs": [
    {
     "name": "stdout",
     "output_type": "stream",
     "text": [
      "fnc5q77EdpTms\n"
     ]
    }
   ],
   "source": [
    "print(user1.password)"
   ]
  },
  {
   "cell_type": "code",
   "execution_count": 23,
   "metadata": {},
   "outputs": [
    {
     "name": "stdout",
     "output_type": "stream",
     "text": [
      "/home/pepe\n"
     ]
    }
   ],
   "source": [
    "print(user1.home)"
   ]
  },
  {
   "cell_type": "code",
   "execution_count": 24,
   "metadata": {},
   "outputs": [
    {
     "name": "stdout",
     "output_type": "stream",
     "text": [
      "/bin/bash\n"
     ]
    }
   ],
   "source": [
    "print(user1.shell)"
   ]
  },
  {
   "cell_type": "markdown",
   "metadata": {},
   "source": [
    "### Métodos"
   ]
  },
  {
   "cell_type": "markdown",
   "metadata": {},
   "source": [
    "En primer lugar, vamos a implementar el método que nos permite imprimir el objeto de forma \"bonita\":"
   ]
  },
  {
   "cell_type": "code",
   "execution_count": 25,
   "metadata": {
    "collapsed": true
   },
   "outputs": [],
   "source": [
    "from crypt import crypt\n",
    "\n",
    "CRYPT_SALT = \"fnewiofhwoibewbfwbflwbfle\"\n",
    "\n",
    "class UnixUser:\n",
    "    def __init__(self, username, password, shell=\"bash\"):\n",
    "        self.username = username\n",
    "        self.password = crypt(password, CRYPT_SALT)\n",
    "        self.shell = \"/bin/{}\".format(shell)\n",
    "        self.home = \"/home/{}\".format(username)\n",
    "    \n",
    "    def __str__(self):\n",
    "        return \"{} in {} with {}\".format(\n",
    "            self.username,\n",
    "            self.home,\n",
    "            self.shell\n",
    "        )"
   ]
  },
  {
   "cell_type": "markdown",
   "metadata": {},
   "source": [
    "Pasamos a probar lo que hemos implementado:"
   ]
  },
  {
   "cell_type": "code",
   "execution_count": 26,
   "metadata": {
    "collapsed": true
   },
   "outputs": [],
   "source": [
    "user2 = UnixUser(\"sara\", \"nopongas1234\", \"zsh\")"
   ]
  },
  {
   "cell_type": "code",
   "execution_count": 27,
   "metadata": {},
   "outputs": [
    {
     "name": "stdout",
     "output_type": "stream",
     "text": [
      "sara in /home/sara with /bin/zsh\n"
     ]
    }
   ],
   "source": [
    "print(user2)"
   ]
  },
  {
   "cell_type": "markdown",
   "metadata": {},
   "source": [
    "Ahora vamos a hacer un método que nos permita comprobar si la contraseña introducida es la correcta:"
   ]
  },
  {
   "cell_type": "code",
   "execution_count": 28,
   "metadata": {
    "collapsed": true
   },
   "outputs": [],
   "source": [
    "from crypt import crypt\n",
    "\n",
    "CRYPT_SALT = \"fnewiofhwoibewbfwbflwbfle\"\n",
    "\n",
    "class UnixUser:\n",
    "    def __init__(self, username, password, shell=\"bash\"):\n",
    "        self.username = username\n",
    "        self.password = crypt(password, CRYPT_SALT)\n",
    "        self.shell = \"/bin/{}\".format(shell)\n",
    "        self.home = \"/home/{}\".format(username)\n",
    "    \n",
    "    def __str__(self):\n",
    "        return \"{} in {} with {}\".format(\n",
    "            self.username,\n",
    "            self.home,\n",
    "            self.shell\n",
    "        )\n",
    "\n",
    "    def check_password(self, password):\n",
    "        if self.password == crypt(password, CRYPT_SALT):\n",
    "            return True\n",
    "        else:\n",
    "            return False"
   ]
  },
  {
   "cell_type": "markdown",
   "metadata": {},
   "source": [
    "Hacemos algunas pruebas con el nuevo método implementado:"
   ]
  },
  {
   "cell_type": "code",
   "execution_count": 29,
   "metadata": {},
   "outputs": [],
   "source": [
    "user3 = UnixUser(\"ursula\", \"wahlsteen\")"
   ]
  },
  {
   "cell_type": "code",
   "execution_count": 30,
   "metadata": {},
   "outputs": [
    {
     "name": "stdout",
     "output_type": "stream",
     "text": [
      "ursula in /home/ursula with /bin/bash\n"
     ]
    }
   ],
   "source": [
    "print(user3)"
   ]
  },
  {
   "cell_type": "code",
   "execution_count": 31,
   "metadata": {},
   "outputs": [
    {
     "name": "stdout",
     "output_type": "stream",
     "text": [
      "Introduzca su password: wahlsteen\n",
      "Correcto!\n"
     ]
    }
   ],
   "source": [
    "p = input(\"Introduzca su password: \")\n",
    "if user3.check_password(p):\n",
    "    print(\"Correcto!\")\n",
    "else:\n",
    "    print(\"Sigue probando. Hay miles de premios!\")"
   ]
  },
  {
   "cell_type": "markdown",
   "metadata": {},
   "source": [
    "Supongamos que ahora, nuestro `user3` cambia de shell. Para eso, podemos hacer:"
   ]
  },
  {
   "cell_type": "code",
   "execution_count": 36,
   "metadata": {},
   "outputs": [],
   "source": [
    "from crypt import crypt\n",
    "\n",
    "CRYPT_SALT = \"fnewiofhwoibewbfwbflwbfle\"\n",
    "\n",
    "class UnixUser:\n",
    "    def __init__(self, username, password, shell=\"bash\"):\n",
    "        self.username = username\n",
    "        self.password = crypt(password, CRYPT_SALT)\n",
    "        self.shell = \"/bin/{}\".format(shell)\n",
    "        self.home = \"/home/{}\".format(username)\n",
    "    \n",
    "    def __str__(self):\n",
    "        return \"{} in {} with {}\".format(\n",
    "            self.username,\n",
    "            self.home,\n",
    "            self.shell\n",
    "        )\n",
    "\n",
    "    def check_password(self, password):\n",
    "        if self.password == crypt(password, CRYPT_SALT):\n",
    "            return True\n",
    "        else:\n",
    "            return False\n",
    "    \n",
    "    def set_shell(self, shell):\n",
    "        if shell in [\"bash\", \"zsh\", \"fish\", \"ksh\", \"tcsh\"]:\n",
    "            self.shell = \"/bin/{}\".format(shell)"
   ]
  },
  {
   "cell_type": "code",
   "execution_count": 37,
   "metadata": {},
   "outputs": [],
   "source": [
    "user4 = UnixUser(\"ander\", \"water\")"
   ]
  },
  {
   "cell_type": "code",
   "execution_count": 39,
   "metadata": {},
   "outputs": [
    {
     "name": "stdout",
     "output_type": "stream",
     "text": [
      "ander in /home/ander with /bin/bash\n"
     ]
    }
   ],
   "source": [
    "print(user4)"
   ]
  },
  {
   "cell_type": "code",
   "execution_count": 41,
   "metadata": {},
   "outputs": [
    {
     "name": "stdout",
     "output_type": "stream",
     "text": [
      "ander in /home/ander with /bin/bash\n"
     ]
    }
   ],
   "source": [
    "user4.set_shell(\"algoraro\")\n",
    "print(user4)"
   ]
  },
  {
   "cell_type": "code",
   "execution_count": 42,
   "metadata": {
    "scrolled": true
   },
   "outputs": [
    {
     "name": "stdout",
     "output_type": "stream",
     "text": [
      "ander in /home/ander with /bin/fish\n"
     ]
    }
   ],
   "source": [
    "user4.set_shell(\"fish\")\n",
    "print(user4)"
   ]
  },
  {
   "cell_type": "markdown",
   "metadata": {},
   "source": [
    "## Listas de objetos"
   ]
  },
  {
   "cell_type": "markdown",
   "metadata": {},
   "source": [
    "Supongamos que nos interesa guardar todos los usuarios del sistema. Vamos a implementar una lista de objetos:"
   ]
  },
  {
   "cell_type": "code",
   "execution_count": 43,
   "metadata": {
    "collapsed": true
   },
   "outputs": [],
   "source": [
    "users = list()"
   ]
  },
  {
   "cell_type": "code",
   "execution_count": 44,
   "metadata": {},
   "outputs": [],
   "source": [
    "users.append(UnixUser(\"rihanna\", \"4234523\"))\n",
    "users.append(UnixUser(\"ronaldo\", \"5555222\"))\n",
    "users.append(UnixUser(\"madonna\", \"6623235\"))"
   ]
  },
  {
   "cell_type": "code",
   "execution_count": 45,
   "metadata": {},
   "outputs": [
    {
     "name": "stdout",
     "output_type": "stream",
     "text": [
      "[<__main__.UnixUser object at 0x1078fc390>, <__main__.UnixUser object at 0x1078fc400>, <__main__.UnixUser object at 0x107807438>]\n"
     ]
    }
   ],
   "source": [
    "print(users)"
   ]
  },
  {
   "cell_type": "code",
   "execution_count": 47,
   "metadata": {},
   "outputs": [
    {
     "name": "stdout",
     "output_type": "stream",
     "text": [
      "rihanna in /home/rihanna with /bin/bash\n",
      "ronaldo in /home/ronaldo with /bin/bash\n",
      "madonna in /home/madonna with /bin/bash\n"
     ]
    }
   ],
   "source": [
    "for u in users:\n",
    "    print(u)"
   ]
  },
  {
   "cell_type": "markdown",
   "metadata": {},
   "source": [
    "Y si ahora, nuestro jefe nos pide que todos los usuarios deben tener como shell la `zsh` ??"
   ]
  },
  {
   "cell_type": "code",
   "execution_count": 48,
   "metadata": {
    "collapsed": true
   },
   "outputs": [],
   "source": [
    "for u in users:\n",
    "    u.set_shell(\"zsh\")"
   ]
  },
  {
   "cell_type": "code",
   "execution_count": 49,
   "metadata": {},
   "outputs": [
    {
     "name": "stdout",
     "output_type": "stream",
     "text": [
      "rihanna in /home/rihanna with /bin/zsh\n",
      "ronaldo in /home/ronaldo with /bin/zsh\n",
      "madonna in /home/madonna with /bin/zsh\n"
     ]
    }
   ],
   "source": [
    "for u in users:\n",
    "    print(u)"
   ]
  }
 ],
 "metadata": {
  "kernelspec": {
   "display_name": "Python 3",
   "language": "python",
   "name": "python3"
  },
  "language_info": {
   "codemirror_mode": {
    "name": "ipython",
    "version": 3
   },
   "file_extension": ".py",
   "mimetype": "text/x-python",
   "name": "python",
   "nbconvert_exporter": "python",
   "pygments_lexer": "ipython3",
   "version": "3.6.1"
  }
 },
 "nbformat": 4,
 "nbformat_minor": 1
}
