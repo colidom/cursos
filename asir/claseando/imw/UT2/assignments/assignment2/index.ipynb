{
 "cells": [
  {
   "cell_type": "markdown",
   "metadata": {},
   "source": [
    "# UT2-A2: Las mates molan!"
   ]
  },
  {
   "cell_type": "markdown",
   "metadata": {},
   "source": [
    "La actividad consiste en hacer varios programas *python*:"
   ]
  },
  {
   "cell_type": "markdown",
   "metadata": {},
   "source": [
    "## Programa 1"
   ]
  },
  {
   "cell_type": "markdown",
   "metadata": {},
   "source": [
    "Las ecuaciones de segundo grado tienen la forma:\n",
    "\n",
    "$ ax^2+bx+c=0 $\n",
    "\n",
    "El programa debe cumplir con las siguientes especificaciones:\n",
    "1. Leer los coeficientes $a$, $b$ y $c$ desde la línea de comandos.\n",
    "2. Controlar los siguientes casos:\n",
    "    * Si $a=0$ entonces la ecuación ya no es de segundo grado, y su solución es: $x=\\frac{-c}{b}$\n",
    "    * Si el discriminante $b^2-4ac < 0$ entonces la ecuación no tiene solución **real**.\n",
    "3. Imprimir las dos soluciones que tiene la ecuación, según estas fórmulas:\n",
    "    * $x_1 = \\frac{-b+\\sqrt{b^2-4ac}}{2a}$\n",
    "    * $x_2 = \\frac{-b-\\sqrt{b^2-4ac}}{2a}$\n",
    "\n",
    "### Ejemplo de comprobación\n",
    "\n",
    "Datos de entrada:  \n",
    "$a = 1$  \n",
    "$b = -5$  \n",
    "$c = 6$  \n",
    "\n",
    "Debe dar las soluciones:  \n",
    "$x_1 = 3$  \n",
    "$x_2 = 2$\n",
    "\n",
    "#### Entrada\n",
    "\n",
    "```console\n",
    "python program1.py 1 -5 6\n",
    "```\n",
    "\n",
    "#### Salida\n",
    "\n",
    "```console\n",
    "x1=3; x2=2\n",
    "```"
   ]
  },
  {
   "cell_type": "markdown",
   "metadata": {},
   "source": [
    "## Programa 2"
   ]
  },
  {
   "cell_type": "markdown",
   "metadata": {},
   "source": [
    "El programa debe cumplir con las siguientes especificaciones:\n",
    "1. Leer 3 puntos (x, y) por línea de comandos. Cada punto en el plano viene definido por un par. Los valores pueden ser flotantes. Estarían definidos de la siguiente manera:\n",
    "    * $(x_1, y_1)$\n",
    "    * $(x_2, y_2)$\n",
    "    * $(x_3, y_3)$\n",
    "2. Determinar cuál de los dos últimos puntos está más cercano al primero. La distancia entre dos puntos $(x_1, y_1)$ y $(x_2, y_2)$ viene dada por la fórmula:\n",
    "\n",
    "    $ d = \\sqrt{(x_1-x_2)^2 + (y_1-y_2)^2} $\n",
    "3. Imprimir el punto más cercano y su distancia.\n",
    "\n",
    "> NOTA: No se puede utilizar la función `min` de Python, sólo se pueden usar condiciones.\n",
    "\n",
    "### Ejemplo de comprobación\n",
    "\n",
    "Datos de entrada:  \n",
    "$(2, 4)$  \n",
    "$(7, 8)$  \n",
    "$(3, 5)$  \n",
    "\n",
    "Debe dar la solución:\n",
    "* El punto más cercano a $(2, 4)$ es $(3, 5)$ y está a una distancia de $\\sqrt{2}$ = 1.414213\n",
    "\n",
    "#### Entrada\n",
    "\n",
    "```console\n",
    "python program2.py 2 4 7 8 3 5\n",
    "```\n",
    "\n",
    "#### Salida\n",
    "\n",
    "```console\n",
    "El punto más cercano es (3, 5) a distancia 1.414213\n",
    "```\n"
   ]
  },
  {
   "cell_type": "markdown",
   "metadata": {},
   "source": [
    "## Programa 3"
   ]
  },
  {
   "cell_type": "markdown",
   "metadata": {},
   "source": [
    "El programa debe cumplir con las siguientes especificaciones:\n",
    "1. Leer por línea de comandos una nota numérica (puede ser flotante).\n",
    "2. Mostrar la calificación cualitativa en función de la nota siguiendo la rúbrica:\n",
    "    * `Suspenso` (nota menor que 5).\n",
    "    * `Aprobando` (entre 5 y 7).\n",
    "    * `Notable` (entre 7 y 9).\n",
    "    * `Sobresaliente` (entre 9 y 10).\n",
    "    * `Matrícula de honor` (un 10).\n",
    "3. Controlar que la nota esté entre 0 y 10. Si no es así, mostrar un mensaje de error.\n",
    "\n",
    "### Ejemplo de comprobación\n",
    "\n",
    "#### Entrada\n",
    "\n",
    "```console\n",
    "python program3.py 6.5\n",
    "```\n",
    "\n",
    "#### Salida\n",
    "\n",
    "```console\n",
    "Aprobado\n",
    "```"
   ]
  },
  {
   "cell_type": "markdown",
   "metadata": {},
   "source": [
    "## Programa 4"
   ]
  },
  {
   "cell_type": "markdown",
   "metadata": {},
   "source": [
    "El programa debe cumplir con las siguientes especificaciones:\n",
    "1. Pedir por línea de comandos el radio $r$ de una circunferencia (el valor puede ser flotante).\n",
    "2. Mostrar un menú con 4 opciones:\n",
    "    * (1) Calcular el diámetro de la circunferencia: $d = 2*r$\n",
    "    * (2) Calcular el perímetro de la circunferencia: $p = 2*\\pi*r$\n",
    "    * (3) Calcular el área del círculo: $a = \\pi * r^2$\n",
    "    * (4) Salir.\n",
    "3. Si el usuario escribe cualquier otra cosa diferente de un número de 1 a 4 en el menú, se debe mostrar un mensaje de error.\n",
    "4. Realizar la operación correspondiente en función de la elección del usuario.\n",
    "\n",
    "> NOTA: No usar bucles, se verán más adelante en el curso.\n",
    "\n",
    "### Ejemplo de comprobación\n",
    "\n",
    "Radio de entrada: $r = 25$\n",
    "\n",
    "Soluciones:\n",
    "* Diámetro: 50\n",
    "* Perímetro: 157,079632\n",
    "* Área: 1963,495408\n",
    "\n",
    "#### Entrada\n",
    "\n",
    "```console\n",
    "python program4.py 25\n",
    "```\n",
    "\n",
    "#### Salida\n",
    "\n",
    "(en función de cada opción)\n",
    "\n",
    "```\n",
    "Diámetro: 50\n",
    "Perímetro: 157,079632\n",
    "Área: 1963,495408\n",
    "```\n"
   ]
  },
  {
   "cell_type": "markdown",
   "metadata": {},
   "source": [
    "## Información a entregar\n",
    "\n",
    "Se deberá entregar la *url* al commit en el repositorio privado *GitHub* de la asignatura *IMW*, apuntando a la carpeta que contiene los ficheros de código Python. La *url* debe tener la siguiente estructura:\n",
    "\n",
    "```\n",
    "https://github.com/<usuario>/imw/blob/<id del commit>/<ut>/<actividad>/\n",
    "```\n",
    "\n",
    "> ⚠️ Al subir la *url*, es importante crear un enlace. Es decir, poner un `href` a la *url* anterior, y no pegar el texto tal cual.\n"
   ]
  }
 ],
 "metadata": {
  "kernelspec": {
   "display_name": "Python 3",
   "language": "python",
   "name": "python3"
  },
  "language_info": {
   "codemirror_mode": {
    "name": "ipython",
    "version": 3
   },
   "file_extension": ".py",
   "mimetype": "text/x-python",
   "name": "python",
   "nbconvert_exporter": "python",
   "pygments_lexer": "ipython3",
   "version": "3.6.1"
  }
 },
 "nbformat": 4,
 "nbformat_minor": 1
}
