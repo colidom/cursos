{
 "cells": [
  {
   "cell_type": "markdown",
   "metadata": {
    "deletable": true,
    "editable": true
   },
   "source": [
    "# Introducción a Python"
   ]
  },
  {
   "cell_type": "markdown",
   "metadata": {
    "deletable": true,
    "editable": true
   },
   "source": [
    "## Brevísima historia de Python\n",
    "\n",
    "- Creado a finales de los 80 por el Holandés [Guido Van Rossum](https://es.wikipedia.org/wiki/Guido_van_Rossum).\n",
    "\n",
    "    Hace seis años, en diciembre de 1989, estaba buscando un proyecto de programación \n",
    "    como hobby que me mantuviera ocupado durante las semanas de Navidad. Mi oficina\n",
    "    estaría cerrada y no tendría más que mi ordenador de casa a mano. Decidí escribir \n",
    "    un intérprete para el nuevo lenguaje de scripting que había estado ideando \n",
    "    recientemente: un descendiente de ABC que gustaría a los hackers de Unix/C. Elegí\n",
    "    el nombre de Python para el proyecto, encontrándome en un estado de ánimo ligeramente\n",
    "    irreverente (y siendo un gran fan de Monty Python's Flying Circus)\n",
    "\n",
    "Python, derivado de un lenguaje previo llamado ABC.\n",
    "\n",
    "- El objetivo era un  lenguaje de programación de alto nivel, con una sintaxis limpia, fácil de leer y multiplataforma.\n",
    "\n",
    "- Con soporte para distintos estilos de programación: Imperativa,  orientada a objetos y funcional.\n",
    "\n",
    "El nombre proviene del grupo de humor inglés [Monty Python](https://es.wikipedia.org/wiki/Monty_Python), no de la serpiente."
   ]
  },
  {
   "cell_type": "markdown",
   "metadata": {
    "deletable": true,
    "editable": true
   },
   "source": [
    "![Monty Python Flying Circus](img/monty_python.jpg)"
   ]
  },
  {
   "cell_type": "markdown",
   "metadata": {
    "deletable": true,
    "editable": true
   },
   "source": [
    "## Python 2 o Python 3"
   ]
  },
  {
   "cell_type": "markdown",
   "metadata": {
    "deletable": true,
    "editable": true
   },
   "source": [
    "Python 3 es la versión más avanzada de Python, pero no es completamente compatible con la version 2.0. En este curso veremos Python 3, pero veremos más adelante una sección con las diferencias más importantes entre las dos versiones. Este es el único cambio en toda la historia de Python en la que se ha roto la compatibilidad hacia atrás del lenguaje.\n",
    "\n",
    "Además, es posible escribir código que funcione igual en las dos versiones, aunque requiere un poco de atención con ciertos detalles. La mayoría de las librerias han sido migradas manteniendo esta idea, por lo que funcionan perfectamente en ambas versiones.\n",
    "\n",
    "Python 2 tiene ya [fecha de obsolescencia](https://pythonclock.org/). No se mantendrá oficialmente a partir del 2020."
   ]
  },
  {
   "cell_type": "markdown",
   "metadata": {
    "deletable": true,
    "editable": true
   },
   "source": [
    "## ¿Por qué Python?\n",
    "\n",
    "Por varias razones:\n",
    "\n",
    " - Permite un **Desarrollo rápido**\n",
    "\n",
    " - El lenguaje es **sencillo, pero potente**\n",
    " \n",
    " - Es muy **fácil de leer**. El código se escribe una vez pero se lee diez\n",
    " \n",
    " - Es software **libre y abierto**: La [Python Software Foundation License](https://es.wikipedia.org/wiki/Python_Software_Foundation_License), o PSFL por sus siglas\n",
    "   en inglés, es una licencia de software libre permisiva, al estilo de BSD, es \n",
    "   decir, que cumple con los requisitos OSI para ser declarada licencia de software \n",
    "   libre; además, es compatible con la licencia GPL.\n",
    "   \n",
    " - **No se entromete** (Entre tú y el problema)\n",
    " \n",
    " - **Interpretado** (Pero también **compilado**)\n",
    " \n",
    " - Muy **fácil de extender** (En C o C++, por ejemplo)\n",
    "\n",
    " - La **librería estándar,** incluida con el intérprete, es muy completa, pero además...\n",
    "\n",
    " - Hay una ingente cantidad de **librerías, frameworks y paquetes desarrollados por \n",
    "   terceras partes**. La comunidad usa un repositorio denominado \n",
    "   [PyPI - the Python Package Index](https://pypi.python.org/pypi)\n"
   ]
  },
  {
   "cell_type": "markdown",
   "metadata": {},
   "source": [
    "### Desarrollo rápido\n",
    "\n",
    " - Lenguaje de alto nivel\n",
    "\n",
    " - Desarrollo de prototipos\n",
    "\n",
    " - Herramientas de análisis de rendimiento\n",
    "\n",
    " - Facilidad para reescribir las partes críticas en otros lenguajes\n",
    " \n",
    "### Sencillo, pero potente\n",
    "\n",
    "Es un lenguaje **compacto**. Eric S. Raymond, en el `New Hacker's Dictionary`_, da \n",
    "la siguiente definición de *compacto*:\n",
    "\n",
    "> compacto adj. Dicho de un diseño, describe la deseable propiedad\n",
    "> de poder ser aprendido de una vez en la cabeza de uno. por\n",
    "> lo general, esto significa que los objetos creados a partir de dicho\n",
    "> diseño tienden a ser más fáciles de usar y provocan menos errores que\n",
    "> una herramienta equivalente que no sea compacta.\n",
    ">\n",
    "> -- [New Hacker's Dictionary - compact](http://www.catb.org/~esr/jargon/html/C/compact.html)\n",
    "\n",
    "El ser compacto no implica trivialidad o falta de potencia: Por ejemplo, el\n",
    "lenguaje C es más compacto que Fortran, y a la vez, más potente.\n",
    "Los diseños devienen no compactos a medida que se les\n",
    "agregan capacidades y lastres que no encajan de forma natural\n",
    "con el esquema general del diseño (De ahí que muchos fans del C\n",
    "clásico mentengan que el ANSI C ya no es compacto).\n",
    "\n",
    "En este sentido, Python es muy compacto: consiste en unas pocas ideas,\n",
    "reutilizadas en múltiples sitios. Tomemos por ejemplo los espacios de\n",
    "nombres: Si importamos un nuevo módulo con `import math`, estamos\n",
    "creando un nuevo espacio de nombres llamado `math`. Las clases son\n",
    "espacios de nombres que comparten muchas de las propiedades de los\n",
    "módulos, y añaden unas pocas más. Las instancias de objetos son, de\n",
    "nuevo, espacios de nombres. Los espacios de nombres están\n",
    "implementados como diccionarios de python, así que tienen los mismos\n",
    "métodos que cualquier diccionario: `keys()` retorna una lista de\n",
    "claves, etc...\n",
    "\n",
    "Python es simple porque es compacto, no porque sea limitado. No se\n",
    "debe subestimar la importancia de la simplicidad: no solo nos permite\n",
    "aprender el lenguaje más rápido, también nos permite luego escribir\n",
    "más rápido, leer mejor, corregir más rápido y cometer menos errores."
   ]
  },
  {
   "cell_type": "markdown",
   "metadata": {
    "deletable": true,
    "editable": true
   },
   "source": [
    "### Fácil de leer\n",
    "\n",
    "Normalmente el software se escribe una vez, pero se lee muchas, a\n",
    "medida que se revisa en busca de errores o se modifica. De ahí parte\n",
    "la filosofía de que, más importante que ser fácil de escribir, un\n",
    "lenguaje debe ser fácil de leer.\n",
    "\n",
    "> Programs must be written for people to read, and only incidentally for machines to execute.\n",
    ">\n",
    "> -- Abelson & Sussman, Structure and Interpretation of Computer Programs\n",
    "\n",
    "A medida que fue evolucionando, muchas de las decisiones claves que\n",
    "ahora definen el lenguaje se tomaron para hacer\n",
    "el código más legible.\n",
    "\n",
    "La mayor parte de la gente con experiencia en programación, e incluso\n",
    "muchas personas que nunca han programado, pueden leer, y en la mayoría\n",
    "de los casos interpretar correctamente, lo que hace una parte de\n",
    "código escrita en Python.\n",
    "\n",
    "Como ejemplo, veamos el siguiente fragmento de código:\n",
    "\n",
    "\n",
    "#### ¿Qué hace este programa?"
   ]
  },
  {
   "cell_type": "code",
   "execution_count": 3,
   "metadata": {
    "collapsed": false,
    "deletable": true,
    "editable": true
   },
   "outputs": [
    {
     "name": "stdout",
     "output_type": "stream",
     "text": [
      "Promedio: 24.8\n"
     ]
    }
   ],
   "source": [
    "lista = [7, 23, 44, -2, 52]\n",
    "suma = 0.0\n",
    "for i in lista:\n",
    "    suma = suma + i\n",
    "m = suma/len(lista)\n",
    "\n",
    "print(\"Promedio:\", m)"
   ]
  },
  {
   "cell_type": "markdown",
   "metadata": {
    "deletable": true,
    "editable": true
   },
   "source": [
    "#### Una versión más corta"
   ]
  },
  {
   "cell_type": "code",
   "execution_count": 6,
   "metadata": {
    "collapsed": false,
    "deletable": true,
    "editable": true
   },
   "outputs": [
    {
     "name": "stdout",
     "output_type": "stream",
     "text": [
      "Promedio: 24.8\n"
     ]
    }
   ],
   "source": [
    "lista = [7, 23, 44, -2, 52]\n",
    "print(\"Promedio:\", sum(lista)/len(lista))"
   ]
  },
  {
   "cell_type": "markdown",
   "metadata": {},
   "source": [
    "### Fácil de aprender\n",
    "\n",
    "En python se ha logrado esta facilidad de aprender en parte gracias a\n",
    "su diseño compacto, y también son importantes todos los esfuerzos\n",
    "hechos para que fuera fácil de leer, como vimos antes. Pero quiza lo\n",
    "mas determinante es que se puede aprender por niveles. Se puede\n",
    "empezar utilizando el paradigma de la programación imperativa, pasar a\n",
    "la programación orientada a objetos y seguir explorando las\n",
    "posibilidades de la programación funcional.\n",
    "\n",
    "Esto se consigue porque, aunque incorpora la posiblidad de trabajar\n",
    "con clases y objetos, esto no es obligatorio. De igual manera, aunque\n",
    "incorpora muchos aspectos de programación funcional, no es necesario\n",
    "usarlos si no se desea. A medida que leemos y aprendemos más\n",
    "posibilidades, el lenguaje va creciendo con nosotros, por así decirlo.\n"
   ]
  },
  {
   "cell_type": "markdown",
   "metadata": {
    "deletable": true,
    "editable": true
   },
   "source": [
    "### Software libre y abierto\n",
    "\n",
    "- Menos errores: Con los suficientes ojos, todos los errores son obvios (Ley de Linus)\n",
    "\n",
    "- Más facilidad de desarrollo de módulos, extensiones y sistemas paralelos\n",
    "\n",
    "- Sin puertas traseras y más seguro\n",
    "\n",
    "- Crecimiento exponencial"
   ]
  },
  {
   "cell_type": "markdown",
   "metadata": {
    "deletable": true,
    "editable": true
   },
   "source": [
    "### No se entromete (Entre el problema y tú)\n",
    "\n",
    "Cuanto llegas a tener cuerta familiaridad con el lenguaje, te resulta\n",
    "muy fácil concentrarte en resolver un problema o en implementar un\n",
    "algoritmo, sin preocuparte por los detalles, a menudo enojosos, de la\n",
    "implementación.\n",
    "\n",
    "Esto se debe en parte a la facilidad de leer el código, a su sintaxis\n",
    "compacta y a que las estructuras de datos y las de control se combinan\n",
    "entre si para ofrecer mucha más potencia. Mientras que en otros\n",
    "lenguajes necesitas crear estructuras de datos adicionales para dar\n",
    "soporte al problema, en Python a menudo descubres -a veces, con cierto\n",
    "placer culpable- que usando las predefinidas (tuplas, listas,\n",
    "conjuntos y, sobre todo, diccionarios) es más que suficiente.\n",
    "\n",
    "Evidentemente, también ayuda la potencia de la librería estándar,\n",
    "aunque esta no sea, estrictamente hablando, una característica del\n",
    "lenguaje."
   ]
  },
  {
   "cell_type": "markdown",
   "metadata": {
    "deletable": true,
    "editable": true
   },
   "source": [
    "![Self operating napkin](img/rube_goldberg.png)"
   ]
  },
  {
   "cell_type": "markdown",
   "metadata": {},
   "source": [
    "#### Interprete y modo interactivo\n",
    "\n",
    "El intérprete interactivo de Python permite a los entudiantes probar\n",
    "las caracteristicas y posibilidades del lenguaje a la vez que\n",
    "programan. Es habitual mantener una ventana con el interprete\n",
    "funcionanado, y men otra el editor del código. Si en  un momento dado\n",
    "no podemos recordar cuales eran los métodos  disponibles para las\n",
    "listas, podemos recurrir al intérprete::"
   ]
  },
  {
   "cell_type": "code",
   "execution_count": 15,
   "metadata": {
    "collapsed": false
   },
   "outputs": [
    {
     "name": "stdout",
     "output_type": "stream",
     "text": [
      "Help on built-in function count:\n",
      "\n",
      "count(...) method of builtins.list instance\n",
      "    L.count(value) -> integer -- return number of occurrences of value\n",
      "\n"
     ]
    }
   ],
   "source": [
    "l = [1, 2, 3, 5, 1, 5, 5]\n",
    "help(l.count)"
   ]
  },
  {
   "cell_type": "code",
   "execution_count": 16,
   "metadata": {
    "collapsed": false
   },
   "outputs": [
    {
     "data": {
      "text/plain": [
       "3"
      ]
     },
     "execution_count": 16,
     "metadata": {},
     "output_type": "execute_result"
    }
   ],
   "source": [
    "l.count(5)"
   ]
  },
  {
   "cell_type": "markdown",
   "metadata": {},
   "source": [
    "Gracias al intérprete, la documentación siempre está accesible cuando\n",
    "programamamos."
   ]
  },
  {
   "cell_type": "markdown",
   "metadata": {
    "deletable": true,
    "editable": true
   },
   "source": [
    "### Para qué no es bueno Python \n",
    "\n",
    "Para el desarrollo a bajo nivel (\"Cerca de la máquina\"), como drivers, kernels o sobre hardware \n",
    "y recursos limitados, sistemas en el que sea imprescindible obtener la máxima capacidad \n",
    "posible de rendimiento de una CPU, o aplicaciones que requieran alta capacidad de \n",
    "cómputo. Pero veremos paquetes como [numpy](http://www.numpy.org/), [Pandas](http://pandas.pydata.org/) y otras \n",
    "que realizan las partes del cálculo en C, manteniendo la facilidad de uso de Python y proporcionando\n",
    "la eficacia de C.\n",
    "\n",
    "En aplicaciones multi-thread sobre sistemas con múltiples procesadores, pueden tener problemas\n",
    "de rendimiento si no se tienen en cuenta las restricciones que impone el GIL. En general, en\n",
    "Python se prefiere implementar la concurrencia con sistemas asíncronos."
   ]
  },
  {
   "cell_type": "code",
   "execution_count": null,
   "metadata": {
    "collapsed": true,
    "deletable": true,
    "editable": true
   },
   "outputs": [],
   "source": []
  }
 ],
 "metadata": {
  "kernelspec": {
   "display_name": "Python 3",
   "language": "python",
   "name": "python3"
  },
  "language_info": {
   "codemirror_mode": {
    "name": "ipython",
    "version": 3
   },
   "file_extension": ".py",
   "mimetype": "text/x-python",
   "name": "python",
   "nbconvert_exporter": "python",
   "pygments_lexer": "ipython3",
   "version": "3.5.2"
  }
 },
 "nbformat": 4,
 "nbformat_minor": 2
}
