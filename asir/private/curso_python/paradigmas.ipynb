{
 "cells": [
  {
   "cell_type": "markdown",
   "metadata": {},
   "source": [
    "# Paradigmas de programación"
   ]
  },
  {
   "cell_type": "markdown",
   "metadata": {
    "collapsed": true
   },
   "source": [
    "Según la wikipedia:\n",
    "    \n",
    "> Un paradigma de programación representa un enfoque particular o filosofía \n",
    "> para diseñar soluciones. Los paradigmas difieren unos de otros en los \n",
    "> conceptos y la forma de abstraer los elementos involucrados en un problema, así\n",
    "> como en los pasos que integran su solución del problema, en otras palabras, el cómputo.\n",
    "\n",
    "\n",
    "Python permite trabajar con distintos paradigmas, veremos a continuación\n",
    "los detalles de los tres paradigmas más usados:\n",
    "    \n",
    "- **Imperativa o procedural**.\n",
    "\n",
    "- **Orientada a objetos**.\n",
    "\n",
    "- **Programación funcional**."
   ]
  },
  {
   "cell_type": "markdown",
   "metadata": {},
   "source": [
    "## Lenguajes procedurales o imperativos\n",
    "\n",
    "Un lenguaje procedimental, como su nombre indica, hace hincapié en\n",
    "procesos (funciones o procedimientos) que cambian el estado del\n",
    "programa. Un programa imperativo es una secuencia de instrucciones que\n",
    "indican cómo se realiza una tarea.\n",
    "\n",
    "Lenguajes como ensamblador o código máquina son, por naturaleza, \n",
    "imperativos, ya que reflejan la arquitectura de Máquinas de Turing. El\n",
    "estado del programa está almacenado en la memoria, y es modificado por\n",
    "la consecutivas instrucciones de bajo nivel.\n",
    "\n",
    "Los lenguajes imperativos de más alto nivel utilizan el paradigma de\n",
    "la *programación estructurada*, cuyos objetivos son mejorar la claridad,\n",
    "calidad y tiempos de desarrollo mediante el uso de variables y\n",
    "sentencias más complejas, como subrutinas, bloques de código y el uso\n",
    "de bucles de tipo ``for/while`` y sentencias ``if/else``, en vez de\n",
    "sentencias ``goto``, considerada una mala práctica porque suelen\n",
    "derivar en código fuente confuso (*spaghetti code*), difícil de\n",
    "entender y de mantener."
   ]
  },
  {
   "cell_type": "markdown",
   "metadata": {},
   "source": [
    "## Programación orientada a objetos\n",
    "\n",
    "La programación orientada a objetos (A veces abreviada POO u OOP\n",
    "según sus siglas en inglés) es un paradigma de programación que se\n",
    "basa en objetos, y en las interacciones entre ellos, para diseñar\n",
    "programas informáticos. Permite el uso de abstracciones de\n",
    "más alto nivel, como herencia, encapsulación, polimorfismo,\n",
    "sobrecarga de operadores, abstracción, etc...\n",
    "\n",
    "La mayoría de los conceptos de la programación orientada a objetos\n",
    "provienen del lenguaje _Simula 67_, un lenguaje diseñado en los años\n",
    "60 principalmente para hacer simulaciones, como su nombre sugiere. Las\n",
    "ideas de Simula 67 influyeron sobre muchos lenguajes posteriores,\n",
    "incluyendo *Smalltalk*, derivados de *LISP* (*CLOS*), *Object Pascal*, y *C++*.\n",
    "El uso de este paradigma se popularizó a partir de la década de los 90.\n",
    "En la actualidad, existen múltiples lenguajes de programación que\n",
    "soportan la orientación a objetos.\n",
    "\n",
    "Los objetos se caracterizan por mantener un determinado estado\n",
    "interno (*atributos*), por tener asociados ciertos comportamientos (*métodos*) y por\n",
    "tener una identidad única en el sistema. Así, un objeto contiene toda\n",
    "la información necesaria para definirlo y para identificarlo frente a\n",
    "otros objetos. Los mensajes permiten la comunicación y cooperación\n",
    "entre objetos. Varios objetos pueden compartir los mismos métodos,\n",
    "pudiendo agruparse entonces en una misma clase, lo que permite la\n",
    "reutilización de código.\n",
    "\n",
    "La programación estructurada tradicional y la POO se diferencian en\n",
    "en que, en la primera, datos y procedimientos son entidades separados\n",
    "y sin relación. La programación estructurada anima al programador a\n",
    "pensar primero en términos de procedimientos o funciones, y en segundo\n",
    "lugar en las estructuras de datos que esos procedimientos manejan. Los\n",
    "programadores que emplean POO, en cambio, definen objetos que se\n",
    "relacionan y coordinan entre sí mediante mensajes. Cada objeto se\n",
    "considera una unidad indivisible, una amalgama de estado (datos) y\n",
    "comportamiento (métodos y mensajes)."
   ]
  },
  {
   "cell_type": "markdown",
   "metadata": {},
   "source": [
    "## Programación funcional\n",
    "\n",
    "La programación funcional es un paradigma de programación declarativa\n",
    "basado en la utilización de funciones que no manejan datos\n",
    "mutables o de estado. Enfatiza la aplicación de funciones, en\n",
    "contraste con el estilo de programación imperativa, que enfatiza los\n",
    "cambios de estado. La programación funcional tiene sus raíces en el\n",
    "*cálculo lambda*, un sistema formal desarrollado en los 1930s para\n",
    "investigar la definición de función, la aplicación de las funciones y\n",
    "la recursión. Muchos lenguajes de programación funcionales pueden ser\n",
    "vistos como elaboraciones del cálculo lambda.\n",
    "\n",
    "En la práctica, la diferencia entre una función matemática y la noción\n",
    "de \"función\" en programación imperativa radica en que las\n",
    "funciones imperativas pueden tener efectos secundarios, al cambiar el\n",
    "valor de cálculos realizados previamente. Se dice por tanto que carecen de\n",
    "**transparencia referencial**, es decir, que una llamada a una función\n",
    "podría devolver diferentes valores, dependiendo del estado del programa.\n",
    "Con código funcional, por el contrario, el valor generado por una función\n",
    "depende única y exclusivamente de los argumentos de la función. Al eliminar\n",
    "los efectos secundarios se puede entender y predecir el comportamiento\n",
    "de un programa mucho más fácilmente, y esta es una de las principales\n",
    "motivaciones para utilizar la programación funcional."
   ]
  }
 ],
 "metadata": {
  "kernelspec": {
   "display_name": "Python 3",
   "language": "python",
   "name": "python3"
  },
  "language_info": {
   "codemirror_mode": {
    "name": "ipython",
    "version": 3
   },
   "file_extension": ".py",
   "mimetype": "text/x-python",
   "name": "python",
   "nbconvert_exporter": "python",
   "pygments_lexer": "ipython3",
   "version": "3.6.1"
  }
 },
 "nbformat": 4,
 "nbformat_minor": 2
}
