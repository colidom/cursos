{
 "cells": [
  {
   "cell_type": "markdown",
   "metadata": {},
   "source": [
    "# Guía de estilo"
   ]
  },
  {
   "cell_type": "markdown",
   "metadata": {},
   "source": [
    "Es recomendable seguir la guía de estilo definida en el [PEP8](https://www.python.org/dev/peps/pep-0008/), que\n",
    "es la referencia definitiva que usan la mayoría de los desarrolladores\n",
    "Python, ya que ayuda a organizar y facilita la distribución de código. Los puntos\n",
    "más importantes de esta guía son:\n",
    "\n",
    " - Para la indentación usa __4 espacios para cada nivel, nunca tabuladores__. Si\n",
    "   te vez obligado a usar tabuladores, por la razón que sea, __NUNCA mezcles\n",
    "   espacios con tabuladores__.\n",
    "\n",
    " - Reformatea el código para que __no haya líneas de más de 79 caracteres__.\n",
    "   Esto ayuda cuando las pantallas son pequeñas y en las grandes\n",
    "   permite comparar dos secciones de código lado a lado.\n",
    "\n",
    " - Usar __siempre UTF-8__ como codificación de caracteres para el código fuente.\n",
    " \n",
    " - Usa dos líneas en blanco antes de funciones o clases de primer nivel.\n",
    "\n",
    " - Usa una línea en blanco para separar métodos.\n",
    "\n",
    " - Si es posible, añade comentarios.\n",
    "\n",
    " - Mejor todavía incluir *docstrings*.\n",
    "\n",
    " - Usa espacios para separar los operadores y despues de las comas, pero no\n",
    "   inmediatamente antes o después de un paréntesis: ``a = f(1, 2) + g(3, 4)``.\n",
    "\n",
    " - Existen unas convenciones para llamar a funciones, métodos y clases.\n",
    "   Las clases deberían seguir el formato [CamelCase](https://es.wikipedia.org/wiki/CamelCase) (letras iniciales en\n",
    "   mayúsculas, resto en minúsculas, sin separadores) y los módulos, métodos y\n",
    "   funciones deberían usar [snake_case](https://en.wikipedia.org/wiki/Snake_case) (todo en\n",
    "   minúsculas, usar el caracter ``_`` como separador de palabras). El\n",
    "   primer argumento de un método siempre debería llamarse ``self``.\n",
    "\n",
    " - Si alguna de estas reglas hace el código menos legible, rómpela. Pero\n",
    "   asegurate de que sea realmente así.\n",
    "   \n",
    "Hay que hacer notar que son recomendaciones, enfocadas sobre todo\n",
    "a facilitar la legibilidad del código, y por tanto no obligatorios. \n",
    "Aún cuando son ampliamente seguidas, no todo el mundo se adhiere a ellas.\n",
    "Ademas, el propio PEP8 lo advierte: _A Foolish Consistency is the Hobgoblin of Little Minds_."
   ]
  },
  {
   "cell_type": "markdown",
   "metadata": {},
   "source": [
    "## Utilidades para comprobar estilo y sintaxis \n",
    "\n",
    "Hay una utilidad, además de las que pueda incorporar el IDE, para\n",
    "ayudar a seguir la guía de estilos: La herramienta [flake8](http://flake8.pycqa.org/en/latest/), que podemos\n",
    "instalar facilmente con:\n",
    "\n",
    "```bash\n",
    "$> pip install flake8\n",
    "```\n",
    "    \n",
    "Flake8 además de comprobar la consistencia con la guía de estilos oficial,\n",
    "realiza varias comprobaciones para detectar errores habituales que se\n",
    "nos podrían pasar por alto.\n",
    "    \n",
    "**Nota**: es importante instalar la versión adecuada de flake8 para nuestra versión de Python,\n",
    "la version 2.x de flake8 no buscará errores de Python3.x"
   ]
  },
  {
   "cell_type": "code",
   "execution_count": null,
   "metadata": {},
   "outputs": [],
   "source": []
  }
 ],
 "metadata": {
  "kernelspec": {
   "display_name": "Python 3",
   "language": "python",
   "name": "python3"
  },
  "language_info": {
   "codemirror_mode": {
    "name": "ipython",
    "version": 3
   },
   "file_extension": ".py",
   "mimetype": "text/x-python",
   "name": "python",
   "nbconvert_exporter": "python",
   "pygments_lexer": "ipython3",
   "version": "3.6.1"
  }
 },
 "nbformat": 4,
 "nbformat_minor": 2
}
