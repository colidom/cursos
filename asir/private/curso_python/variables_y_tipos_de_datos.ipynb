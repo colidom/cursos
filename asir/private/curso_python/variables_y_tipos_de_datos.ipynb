{
 "cells": [
  {
   "cell_type": "markdown",
   "metadata": {
    "deletable": true,
    "editable": true
   },
   "source": [
    "\n",
    "## Variables y tipos de datos\n",
    "\n",
    "En Python los tipos de las variables no se declaran. El intérprete infiere el tipo de la variable a partir\n",
    "del valor asignado. Esto no siginifica que sea un lenguaje débilmente tipado; es fuertemente tipado, porque\n",
    "no es posible, por ejemplo, sumar un entero con una cadena de texto, sin hacer una conversión explícita.\n",
    "\n",
    "Los nombres de variables deben empezar con un caracter no numérico, el resto pueden ser letras, números y el caracter _ \n",
    "Se consideran distintas las mayúsculas de las minúsculas, así que el nombre ``a`` es diferente de ``A``\n",
    "Existen una serie de palabras reservadas por python, que no se pueden usar como nombres:\n",
    "    \n",
    "    and                 elif                if                  print\n",
    "    as                  else                import              raise\n",
    "    assert              except              in                  return\n",
    "    break               exec                is                  try\n",
    "    class               finally             lambda              while\n",
    "    continue            for                 not                 with\n",
    "    def                 from                or                  yield\n",
    "    del                 global              pass\n",
    "\n",
    "Además, hay ciertas variables y funciones *mágicas* usadas por python\n",
    "y que tienen significados especiales, estas son fácilmente\n",
    "reconocibles porque siempre empiezan con dos caracteres ``_`` y\n",
    "terminan igualmente por dos caracteres ``_``. Ejemplos de estas\n",
    "variables son ``__name__``, ``__doc__`` e ``__init__``.\n",
    "\n",
    "También hay ciertos términos que, aun no siendo palabras reservadas, no\n",
    "deberíamos utilizar, ya que son funciones utilizadas por python y, aunque\n",
    "es posible redefinirlas, normalmente es un error. Por ejemplo ``list``\n",
    "es una función que nos devuelve una lista de elementos a partir de un\n",
    "iterador (veremos todos estos términos más adelante), ``id`` es una función\n",
    "que nos devuelve un identificador único de cada variable (En la implementación estándar,\n",
    "la dirección de memoria). Si usamos ``id``, por ejemplo, como nombre de variable, ya no \n",
    "podemos acceder a la función original:"
   ]
  },
  {
   "cell_type": "code",
   "execution_count": 1,
   "metadata": {
    "collapsed": false,
    "deletable": true,
    "editable": true
   },
   "outputs": [
    {
     "name": "stdout",
     "output_type": "stream",
     "text": [
      "10911232\n"
     ]
    }
   ],
   "source": [
    "a = 3\n",
    "print(id(a))"
   ]
  },
  {
   "cell_type": "code",
   "execution_count": 2,
   "metadata": {
    "collapsed": false,
    "deletable": true,
    "editable": true
   },
   "outputs": [
    {
     "ename": "TypeError",
     "evalue": "'int' object is not callable",
     "output_type": "error",
     "traceback": [
      "\u001b[0;31m---------------------------------------------------------------------------\u001b[0m",
      "\u001b[0;31mTypeError\u001b[0m                                 Traceback (most recent call last)",
      "\u001b[0;32m<ipython-input-2-e8eaab4656ca>\u001b[0m in \u001b[0;36m<module>\u001b[0;34m()\u001b[0m\n\u001b[1;32m      1\u001b[0m \u001b[0mold_id\u001b[0m \u001b[0;34m=\u001b[0m \u001b[0mid\u001b[0m\u001b[0;34m\u001b[0m\u001b[0m\n\u001b[1;32m      2\u001b[0m \u001b[0mid\u001b[0m \u001b[0;34m=\u001b[0m \u001b[0;36m3\u001b[0m\u001b[0;34m\u001b[0m\u001b[0m\n\u001b[0;32m----> 3\u001b[0;31m \u001b[0mprint\u001b[0m\u001b[0;34m(\u001b[0m\u001b[0mid\u001b[0m\u001b[0;34m(\u001b[0m\u001b[0ma\u001b[0m\u001b[0;34m)\u001b[0m\u001b[0;34m)\u001b[0m\u001b[0;34m\u001b[0m\u001b[0m\n\u001b[0m",
      "\u001b[0;31mTypeError\u001b[0m: 'int' object is not callable"
     ]
    }
   ],
   "source": [
    "old_id = id\n",
    "id = 3\n",
    "print(id(a))"
   ]
  },
  {
   "cell_type": "code",
   "execution_count": null,
   "metadata": {
    "collapsed": true,
    "deletable": true,
    "editable": true
   },
   "outputs": [],
   "source": [
    "id = old_id"
   ]
  },
  {
   "cell_type": "markdown",
   "metadata": {
    "deletable": true,
    "editable": true
   },
   "source": [
    "En python3 está permitido usar no solo los caracteres ascii, sino tambien caracteres unicode. Esto nos\n",
    "permite definir, por ejemplo, funciones usando letras acentuadas o la ñ:"
   ]
  },
  {
   "cell_type": "code",
   "execution_count": null,
   "metadata": {
    "collapsed": false,
    "deletable": true,
    "editable": true
   },
   "outputs": [],
   "source": [
    "éxito = 23\n",
    "print(éxito)\n",
    "\n",
    "def mogollón(x):\n",
    "    return x**2048\n",
    "\n",
    "print(mogollón(éxito))"
   ]
  },
  {
   "cell_type": "markdown",
   "metadata": {
    "deletable": true,
    "editable": true
   },
   "source": [
    "Yo creo que esta opción es tremendamente peligrosa, y recomendaría limitar los nombres de las variables a los caracteres básicos ascii, números y al caracter subrayado. La única excepcion que se me ocurre es usar letras griegas para determinadas constantes de uso común, para aumentar la legibilidad del código:"
   ]
  },
  {
   "cell_type": "code",
   "execution_count": 3,
   "metadata": {
    "collapsed": false,
    "deletable": true,
    "editable": true
   },
   "outputs": [
    {
     "name": "stdout",
     "output_type": "stream",
     "text": [
      "78.53981633974483\n"
     ]
    }
   ],
   "source": [
    "import math\n",
    "π = math.pi\n",
    "\n",
    "radio = 5\n",
    "area = π * radio**2\n",
    "print(area)"
   ]
  },
  {
   "cell_type": "markdown",
   "metadata": {
    "deletable": true,
    "editable": true
   },
   "source": [
    "## Tipos de datos simples\n",
    "\n",
    "En Python hay tres tipos de datos básicos: Textos, números, y valores\n",
    "lógicos (Verdadero/Falso). Pero cada tipo básico es posible que se\n",
    "represente usando diferentes clases, por razones que veremos más\n",
    "adelante. \n",
    "\n",
    "Una definición de tipo podría ser el conjunto de todos los posibles\n",
    "valores que se pueden almacenar usando dicho tipo, así como los operadores que\n",
    "pueden ser usados con esos valores."
   ]
  },
  {
   "cell_type": "markdown",
   "metadata": {
    "deletable": true,
    "editable": true
   },
   "source": [
    "### Números (int, long, float, decimal, complex)\n",
    "\n",
    "En python, existen varios tipos de números. Cada uno de ellos almacena los\n",
    "valores de forma distinta, pero comparten el mismo conjunto de operadores, que\n",
    "es el que podemos esperar de cualquier número:\n",
    "\n",
    "\n",
    "| Operador   | Significado         | Ejemplo                             |\n",
    "|------------|---------------------|-------------------------------------|\n",
    "| +          |suma                 | 12 + 23 -> 35                       | \n",
    "| -          |resta                | 12 - 6 -> 6                         |\n",
    "| /          |división             | 7 / 2 -> 3.5 (o 3 en Python 2.x)    |\n",
    "| //         |division entera      | 7 / 2 -> 3                          |\n",
    "| %          |módulo               | 7 % 2 -> 1                          |\n",
    "| *          |multiplicación       | 2 * 10 -> 20                        |\n",
    "| &#42;&#42; |exponenciación       | 2 &#42;&#42; 10 -> 1024             |\n",
    "| &          |AND a nivel de bits  | 26 & 1314 -> 2 (Solo para enteros)  |\n",
    "| &#124;     |OR a nivel de bits   | 1 &#124; 2 -> 3 (Solo para enteros) |\n",
    "| ^          |XOR a nivel de bits  | 3 ^ 5 -> 6 (Solo para enteros)      |\n",
    "\n",
    "\n",
    "Tenemos los **números enteros**, que se corresponden con los números\n",
    "naturales, positivos y negativos. Una ventaja de Python sobre otros\n",
    "lenguajes es que no hay límite para el tamaño de los números enteros\n",
    "que podemos usar. Mejor dicho, el límite es la memoria RAM de la que\n",
    "dispongamos. Por ejemplo:"
   ]
  },
  {
   "cell_type": "code",
   "execution_count": null,
   "metadata": {
    "collapsed": false,
    "deletable": true,
    "editable": true,
    "scrolled": true
   },
   "outputs": [],
   "source": [
    "2**1024\n",
    "    "
   ]
  },
  {
   "cell_type": "markdown",
   "metadata": {
    "deletable": true,
    "editable": true
   },
   "source": [
    "Para crear una variable entera, como ya dijimos, solo hay que asignarle un valor\n",
    "que sea entero:"
   ]
  },
  {
   "cell_type": "code",
   "execution_count": null,
   "metadata": {
    "collapsed": true,
    "deletable": true,
    "editable": true
   },
   "outputs": [],
   "source": [
    "a = 23"
   ]
  },
  {
   "cell_type": "markdown",
   "metadata": {
    "deletable": true,
    "editable": true
   },
   "source": [
    "Ya que estamos, un valor se puede asignar a varias variables en una\n",
    "sola línea:"
   ]
  },
  {
   "cell_type": "code",
   "execution_count": null,
   "metadata": {
    "collapsed": false,
    "deletable": true,
    "editable": true
   },
   "outputs": [],
   "source": [
    "a = b = c = d = 99\n",
    "print(a, b, c, d)"
   ]
  },
  {
   "cell_type": "markdown",
   "metadata": {
    "deletable": true,
    "editable": true
   },
   "source": [
    "**Nota**: En python 2.7, había dos clases de enteros: la clase ``Int`` y la\n",
    "clase ``Long``, y  la conversión entre ambos tipos era automática. En \n",
    "python 3.0 hay un solo tipo. Es otro de los cambios\n",
    "introducidos, de los que hablaba antes, para limpiar el polvo acumulado.\n",
    "\n",
    "#### Números en coma flotante\n",
    "\n",
    "Además de los enteros, tenemos también los **números reales** o en coma\n",
    "flotante, que en Python se corresponden con el tipo ``float``.  Para\n",
    "crear un numero en coma flotante solo tenemos que iniciar la variable\n",
    "con un valor que incluya el punto decimal, o usar la notación\n",
    "cientifica ``<coeficiente>e<exponente>``. Por  ejemplo, todas las\n",
    "líneas siguientes crean variables en coma flotante:"
   ]
  },
  {
   "cell_type": "code",
   "execution_count": null,
   "metadata": {
    "collapsed": false,
    "deletable": true,
    "editable": true
   },
   "outputs": [],
   "source": [
    "a = 23.0\n",
    "b = 3.141592653589793\n",
    "c = .23\n",
    "d = 1e-3\n",
    "print(a, b, c, d)"
   ]
  },
  {
   "cell_type": "markdown",
   "metadata": {
    "deletable": true,
    "editable": true
   },
   "source": [
    "Los nímeros en coma flotante son animales extraños. Abramos una terminal \n",
    "de python y probemos el siguiente código, pero\n",
    "antes de ejecutarlo, ¿Cuál creen que será el resultado, ``True`` o\n",
    "``False``? (El operador de igualdad es ``==``, lo veremos con más detalle en la siguiente sección)"
   ]
  },
  {
   "cell_type": "code",
   "execution_count": null,
   "metadata": {
    "collapsed": true,
    "deletable": true,
    "editable": true
   },
   "outputs": [],
   "source": [
    "a = 0.1+0.1+0.1+0.1+0.1+0.1+0.1+0.1+0.1+0.1\n",
    "b = 1.0\n",
    "a == b"
   ]
  },
  {
   "cell_type": "markdown",
   "metadata": {
    "deletable": true,
    "editable": true
   },
   "source": [
    "![What the Fuck](img/wat.png)"
   ]
  },
  {
   "cell_type": "markdown",
   "metadata": {
    "deletable": true,
    "editable": true
   },
   "source": [
    "**Nota**: La implementación de float en Python. Python está escrito \n",
    "en C, e implementa los ``float`` con el tipo\n",
    "``double`` o de doble precisión de C, es decir que los ``float``\n",
    "utilizan 64 bits, siguiendo el estándar IEEE 754 para ese tamaño:\n",
    "1 bit para signo, 11 para el exponente, y 52 para el coeficiente.\n",
    "Esto significa que los valores que podemos representar van desde\n",
    "$±2,2250738585072020x10^{-308}$ hasta\n",
    "$±1,7976931348623157×10^{308}$.\n",
    "\n",
    "Python, como la mayoría de los lenguajes, utiliza el estándar de la IEEE para\n",
    "aritmética en coma flotante (``IEEE 754``). Con esta representación, algunos\n",
    "números no se pueden representar de forma exacta. Pasa lo mismo con la notación\n",
    "decimal: podemos representar con exactitud 1/4 como 0.25, pero 1/3 es\n",
    "0.33333333333333... y así hasta el infinito. Como tenemos un espacio de memoria\n",
    "máximo para almacenar el número, esto implica que algunos de estos números se\n",
    "almacenarán con un error. Un error infinitesimal, pero error a fin de cuentas.\n",
    "\n",
    "El problema de estos errores viene cuando empezamos a acumular valores y, por\n",
    "tanto, a acumular errores. El valor 0.1 es uno de esos valores que no tiene\n",
    "representación exacta en IEEE 754, así que las repetidas sumas van acumulando\n",
    "el error. Si queremos saber el valor exacto del mismo podemos hacer:"
   ]
  },
  {
   "cell_type": "code",
   "execution_count": null,
   "metadata": {
    "collapsed": false,
    "deletable": true,
    "editable": true
   },
   "outputs": [],
   "source": [
    "a = 0.1+0.1+0.1+0.1+0.1+0.1+0.1+0.1+0.1+0.1\n",
    "b = 1.0\n",
    "a - b"
   ]
  },
  {
   "cell_type": "markdown",
   "metadata": {
    "deletable": true,
    "editable": true
   },
   "source": [
    "Un valor insignificante, pero aun así suficiente para que los dos valores no\n",
    "sean iguales (1.0 sí tiene representación exacta en IEEE 754).\n",
    "\n",
    "Normalmente estos problemas se resuelven redondeando hasta la exactitud que\n",
    "necesitemos (por lo general muy por encima de 0.0000000000000001), pero Python\n",
    "introduce también un tipo de número especial, **Decimal**, pensado\n",
    "especialmente para los cálculos con un tamaño fijo decimal. Normalmente\n",
    "los que usaremos para guardar información monetaria. Para\n",
    "poder usar estos números tenemos que hacer una operación especial antes, una\n",
    "**importación** de un módulo, que nos permite usarlos. La orden que realiza\n",
    "esta importación en  concreto es:"
   ]
  },
  {
   "cell_type": "code",
   "execution_count": null,
   "metadata": {
    "collapsed": true,
    "deletable": true,
    "editable": true
   },
   "outputs": [],
   "source": [
    "from decimal import Decimal"
   ]
  },
  {
   "cell_type": "markdown",
   "metadata": {
    "deletable": true,
    "editable": true
   },
   "source": [
    "Usando numeros decimales no incurrimos en ningún error de este tipo; hagamos\n",
    "la prueba anterior, pero ahora con números decimales::"
   ]
  },
  {
   "cell_type": "code",
   "execution_count": null,
   "metadata": {
    "collapsed": false,
    "deletable": true,
    "editable": true
   },
   "outputs": [],
   "source": [
    "from decimal import Decimal\n",
    "a = Decimal('0.1')+Decimal('0.1')+Decimal('0.1')+Decimal('0.1') \\\n",
    "  + Decimal('0.1')+Decimal('0.1')+Decimal('0.1')+Decimal('0.1') \\\n",
    "  + Decimal('0.1')+Decimal('0.1')\n",
    "b = Decimal('1.0')\n",
    "a == b"
   ]
  },
  {
   "cell_type": "markdown",
   "metadata": {
    "deletable": true,
    "editable": true
   },
   "source": [
    "**Nota**: Obsérvese el uso de la barra invertida para continuar la línea\n",
    "\n",
    "Como curiosidad, comentar que, en modo interactivo, se crea una variable\n",
    "\"mágica\", ``_``, que siempre contiene el resultado de la última expresion\n",
    "evaluada. Cuando usamos el interprete como calculadora, puede ser muy cómodo\n",
    "tener ese valor::"
   ]
  },
  {
   "cell_type": "markdown",
   "metadata": {
    "deletable": true,
    "editable": true
   },
   "source": [
    "Por último, Python incorpora también **números imaginarios** o **complejos**.\n",
    "Los números imaginarios se declaran añadiendo el sufijo ``j`` o ``J`` a la\n",
    "parte imaginaria. Para definir un número con parte real e imaginaria se usa la\n",
    "sintaxis (real+imagj), o bien los podemos crear usando la  función\n",
    "``complex(real, imag)``:"
   ]
  },
  {
   "cell_type": "code",
   "execution_count": null,
   "metadata": {
    "collapsed": false,
    "deletable": true,
    "editable": true
   },
   "outputs": [],
   "source": [
    "a = (3+4j)\n",
    "type(a)"
   ]
  },
  {
   "cell_type": "markdown",
   "metadata": {
    "deletable": true,
    "editable": true
   },
   "source": [
    "La función ``type`` es muy útil, le pasamos entre paréntesis una variable y nos\n",
    "dice el tipo al que pertenece.\n",
    "\n",
    "Se pueden extraer las partes reales e imaginarias de un número complejo ``z``\n",
    "usando ``z.real`` y ``z.imag``. La función ``abs(z)`` nos daría su magnitud:"
   ]
  },
  {
   "cell_type": "code",
   "execution_count": null,
   "metadata": {
    "collapsed": false,
    "deletable": true,
    "editable": true
   },
   "outputs": [],
   "source": [
    "z = (3+4j)\n",
    "print(z.real, z.imag, abs(z))"
   ]
  },
  {
   "cell_type": "markdown",
   "metadata": {
    "deletable": true,
    "editable": true
   },
   "source": [
    "### Logicos (bool)\n",
    "\n",
    "Los valores lógicos o *booleanos* son llamados así en honor a [George\n",
    "Bool](http://en.wikipedia.org/wiki/George_Boole), inventor de la lógica \n",
    "booleana. Las variables booleanas solo\n",
    "pueden tener dos valores posibles: `True` (Verdadero) o `False`\n",
    "(Falso). Los operadores que trabajan con estos valores son `and`, `or`\n",
    "y `not`.\n",
    "\n",
    "**Nota**: A nivel interno, los booleanos se implementan como un subconjunto\n",
    "de los enteros, solo con los valores 1 y 0, siendo 0 equivalente a `False`\n",
    "y 1 equivalente a `True`\n",
    "\n",
    "Los valores lógicos se utilizan sobre todo en condicionales. Cuando\n",
    "realizamos una comparación con uno de los operadores ``<``, ``<=``,\n",
    "``>``, ``>=``, ``==``, ``!=`` o ``<>``, el resultado de la operación\n",
    "es un booleano. Si abrimos la shell de python y probamos a escribir\n",
    "simplemente::"
   ]
  },
  {
   "cell_type": "code",
   "execution_count": null,
   "metadata": {
    "collapsed": false,
    "deletable": true,
    "editable": true
   },
   "outputs": [],
   "source": [
    "7 > 2"
   ]
  },
  {
   "cell_type": "code",
   "execution_count": null,
   "metadata": {
    "collapsed": false,
    "deletable": true,
    "editable": true
   },
   "outputs": [],
   "source": [
    "2 <= -23"
   ]
  },
  {
   "cell_type": "code",
   "execution_count": null,
   "metadata": {
    "collapsed": false,
    "deletable": true,
    "editable": true
   },
   "outputs": [],
   "source": [
    "3 == 3"
   ]
  },
  {
   "cell_type": "code",
   "execution_count": null,
   "metadata": {
    "collapsed": false,
    "deletable": true,
    "editable": true
   },
   "outputs": [],
   "source": [
    "1 < 7 < 22"
   ]
  },
  {
   "cell_type": "markdown",
   "metadata": {
    "deletable": true,
    "editable": true
   },
   "source": [
    "Existe una función `bool` que intenta convertir cualquier valor que se\n",
    "le pase a un valor booleano, siguiendo ciertas reglas, que se resumen\n",
    "en: la constante `None`, el número cero y las estructuras de datos\n",
    "vacíos se consideran `False`. Cualquier otra\n",
    "cosa se considera True."
   ]
  },
  {
   "cell_type": "code",
   "execution_count": null,
   "metadata": {
    "collapsed": false,
    "deletable": true,
    "editable": true
   },
   "outputs": [],
   "source": [
    "bool('')"
   ]
  },
  {
   "cell_type": "markdown",
   "metadata": {
    "deletable": true,
    "editable": true
   },
   "source": [
    "### Cadenas de Textos (string y unicode)\n",
    "\n",
    "En Python las variables de texto se pueden expresar como literales usando\n",
    "**comilla simples** o **dobles**, indistintamente. Si tenenos la necesidad de incluir\n",
    "en el texto las propias comillas (simples o dobles, según corresponda) podemos\n",
    "hacerlo precediendo (en jerga de programadores, \"escapando\") a la comilla con\n",
    "el caracter ``\\`` (barra invertida). Si el texto ocupa  varias líneas o\n",
    "queremos despreocuparnos de tener que escapar las comillas simples o dobles\n",
    "dentro del texto, podemos usar como delimitadores **tres comillas simples**\n",
    "o **tres comillas dobles**. Por ejemplo, las siguientes declaraciones de\n",
    "variables tipo ``String`` son todas válidas:"
   ]
  },
  {
   "cell_type": "code",
   "execution_count": null,
   "metadata": {
    "collapsed": true,
    "deletable": true,
    "editable": true
   },
   "outputs": [],
   "source": [
    "a = 'Hola, mundo'\n",
    "b = 'It\\'s seven o\\'clock in the morning'\n",
    "c = \"It's seventeen o'clock in the morning\"\n",
    "d = \"He said: \\\"Luke, I'm your father\\\"\"\n",
    "e = 'He said: \"Luke, I\\'m your father\"'\n",
    "f = '''He said: \"Frankly, my dear, I don't give a damn.\"'''\n",
    "g = \"\"\"He said: \"Frankly, my dear, I don't give a damn.\"\"\"\n",
    "h = '''Vader: Obi-Wan never told you what happened to your father.\n",
    "Luke: He told me enough! He told me YOU killed him.\n",
    "Vader: No, I am your father.\n",
    "Luke: NOOOOOOOOOOOOOOOOOOOooooo!!\n",
    "'''"
   ]
  },
  {
   "cell_type": "markdown",
   "metadata": {
    "deletable": true,
    "editable": true
   },
   "source": [
    "**Nota**: En Python 2.7 y anteriores, se anteponía una ``u`` antes del delimitador del\n",
    "literal para indicar texto unicode:\n",
    "\n",
    "```python\n",
    ">>> # solo en python 2.7\n",
    ">>> a = u'Cadena de texto unicode'\n",
    ">>>\n",
    "```\n",
    "\n",
    "En Python 3.x, todas los literales son unicode por defecto, así que ya no tiene\n",
    "sentido esta notación; al contrario, tendremos que indicar cuando no es\n",
    "unicode, sino una string de texto codificado o códigos binarios, anteponiendo\n",
    "una ``b``:\n",
    "\n",
    "```python\n",
    ">>> # solo en python 3.x\n",
    ">>> a = b'Cadena de texto codificada. ¿Pero... con qué codec?'\n",
    ">>>\n",
    "```\n",
    "\n",
    "Las operaciones que podemos hacer con las cadenas son muy variadas. Pueden\n",
    "ser unidas o concatenadas, con el operador ``+``, y repetidas con ``*``:"
   ]
  },
  {
   "cell_type": "code",
   "execution_count": null,
   "metadata": {
    "collapsed": false,
    "deletable": true,
    "editable": true
   },
   "outputs": [],
   "source": [
    "saludo = \"Hola,\" + \"Mundo\"\n",
    "print(saludo)"
   ]
  },
  {
   "cell_type": "code",
   "execution_count": null,
   "metadata": {
    "collapsed": false,
    "deletable": true,
    "editable": true
   },
   "outputs": [],
   "source": [
    "linea = \"-\" * 22\n",
    "print(linea)"
   ]
  },
  {
   "cell_type": "markdown",
   "metadata": {
    "deletable": true,
    "editable": true
   },
   "source": [
    "La función predeterminada `len` nos devuelve la longitud de\n",
    "una cadena, es decir, el número de caracteres:"
   ]
  },
  {
   "cell_type": "code",
   "execution_count": null,
   "metadata": {
    "collapsed": false,
    "deletable": true,
    "editable": true
   },
   "outputs": [],
   "source": [
    "print(len('Hola, mundo'))"
   ]
  },
  {
   "cell_type": "markdown",
   "metadata": {
    "deletable": true,
    "editable": true
   },
   "source": [
    "Las cadenas de texto permiten que se acceda a su contenido mediante índices,\n",
    "siendo el `0` la primera letra. Piénsese en el índice no como una\n",
    "posición, sino como \"El número de caracteres que hay antes del que\n",
    "me interesa\". La forma de acceder es indicando el índice entre corchetes,\n",
    "después de la variable o string. Si usamos índices negativos, entonces la\n",
    "cuenta empieza desde la derecha, o sea, desde el final de la string:"
   ]
  },
  {
   "cell_type": "code",
   "execution_count": null,
   "metadata": {
    "collapsed": true,
    "deletable": true,
    "editable": true
   },
   "outputs": [],
   "source": [
    "s = 'Con cien cañones por banda,'\n",
    "assert s[0] == 'C'\n",
    "assert s[5] == 'i'\n",
    "assert s[-1] == ','\n",
    "assert s[0] != s[-1]"
   ]
  },
  {
   "cell_type": "markdown",
   "metadata": {
    "deletable": true,
    "editable": true
   },
   "source": [
    "**Nota**: `assert` es una sentencia de Python que nos permite comprobar que ciertas\n",
    "condiciones son verdaderas, y que nos puede ayudar a encontrar errores en nuestro código.\n",
    "`assert` simplemente eleva una error del tipo `AssertionError` en caso de que la expresión que se le pasa no se cumpla.\n",
    "por ejemplo:"
   ]
  },
  {
   "cell_type": "code",
   "execution_count": null,
   "metadata": {
    "collapsed": false,
    "deletable": true,
    "editable": true
   },
   "outputs": [],
   "source": [
    "assert 1 > 2"
   ]
  },
  {
   "cell_type": "markdown",
   "metadata": {
    "deletable": true,
    "editable": true
   },
   "source": [
    "También podemos extraer subcadenas o **slices** a partir de una cadena\n",
    "mayor, usando la sintaxis ``[``<límite inferior>``:``<límite\n",
    "superior>``]``. Si se omite el límite inferior, se supone un 0 (Es\n",
    "decir, desde el principio de la línea); si se omite el límite\n",
    "superior, se supone la longitud total de la cadena (es decir, hasta el\n",
    "final). Si se omiten los dos límites, obtendremos la\n",
    "cadena de texto original:"
   ]
  },
  {
   "cell_type": "code",
   "execution_count": null,
   "metadata": {
    "collapsed": true,
    "deletable": true,
    "editable": true
   },
   "outputs": [],
   "source": [
    "s = 'Con cien cañones por banda,'\n",
    "assert s[0:3] == 'Con'  # los  primeros tres caracteres\n",
    "assert s[:8] == 'Con cien'  # los  primeros ocho caracteres\n",
    "assert s[8:] == ' cañones por banda,' # todo, excepto los  primeros ocho caracteres\n",
    "    \n",
    "assert s[4:8] == 'cien'\n",
    "assert s[-6:] == 'banda,'\n",
    "s2 = s[:]\n",
    "assert s == s2"
   ]
  },
  {
   "cell_type": "markdown",
   "metadata": {
    "deletable": true,
    "editable": true
   },
   "source": [
    "Los excesos en los índices en estas operaciones se manejan con cierta\n",
    "indulgencia: Si un índice resulta demasiado grande, es reemplazado\n",
    "por la longitud de la cadena; si se especifica un límite inferior\n",
    "más grande que el límite superior se obtiene una string vacía:"
   ]
  },
  {
   "cell_type": "code",
   "execution_count": null,
   "metadata": {
    "collapsed": true,
    "deletable": true,
    "editable": true
   },
   "outputs": [],
   "source": [
    "name= 'Anakin Skywalker'\n",
    "assert name[0:100] == 'Anakin Skywalker'\n",
    "assert name[5:1] == ''"
   ]
  },
  {
   "cell_type": "markdown",
   "metadata": {
    "deletable": true,
    "editable": true
   },
   "source": [
    "Pera estas operaciones de \"rebanado\" o *slicing* resulta muy adecuada\n",
    "pensar que los índices apuntan a los espacios entre las letras, y no\n",
    "a las letras en sí, como se muestra en el siguiente gráfico:\n",
    "\n",
    "![Slices](img/slices.png)\n",
    "\n",
    "\n",
    "no podemos modificar una parte de un texto usando estas expresiones,\n",
    "ni con índices ni con subcadenas, porque las cadenas de textos son\n",
    "*inmutables* (Más sobre esto más adelante):"
   ]
  },
  {
   "cell_type": "code",
   "execution_count": null,
   "metadata": {
    "collapsed": false,
    "deletable": true,
    "editable": true
   },
   "outputs": [],
   "source": [
    "s = 'Con cien cañones por banda,'\n",
    "s[0] = 'P'"
   ]
  },
  {
   "cell_type": "markdown",
   "metadata": {
    "deletable": true,
    "editable": true
   },
   "source": [
    "Pero si que podemos crear una nueva variable a partir\n",
    "de estas expresiones:"
   ]
  },
  {
   "cell_type": "code",
   "execution_count": null,
   "metadata": {
    "collapsed": false,
    "deletable": true,
    "editable": true
   },
   "outputs": [],
   "source": [
    "s = 'Con cien cañones por banda,'\n",
    "s = s[:4] + 'doscientos' + s[8:]\n",
    "print(s)"
   ]
  },
  {
   "cell_type": "markdown",
   "metadata": {
    "deletable": true,
    "editable": true
   },
   "source": [
    "Esto es así porque las cadenas de texto, al igual que todos los tipos de datos\n",
    "que hemos visto hasta ahora, son **inmutables**. Esto significa que, una vez\n",
    "creada una variable de un tipo inmutable, esta *nunca* cambia de valor. Dentro\n",
    "de poco, veremos que hay tipos de datos que si son mutables; mientras tanto, lo\n",
    "que hay que explicar es: si las strings son inmutables, ¿Cómo es que el\n",
    "siguiente ejemplo no da error?"
   ]
  },
  {
   "cell_type": "code",
   "execution_count": null,
   "metadata": {
    "collapsed": false,
    "deletable": true,
    "editable": true
   },
   "outputs": [],
   "source": [
    "s = 'hola'\n",
    "s = s + ', mundo'\n",
    "print(s)"
   ]
  },
  {
   "cell_type": "markdown",
   "metadata": {
    "deletable": true,
    "editable": true
   },
   "source": [
    "La respuesta es que Python crea una nueva string, uniendo las dos anteriores, y\n",
    "reasigna el nombre `s` a la nueva cadena. Podemos comprobarlo usando la\n",
    "funcion `id()`, que nos devuelve un identificador de la variable que le\n",
    "pasemos; si dos objetos tienen el mismo identificador, entonces son en realidad\n",
    "el mismo objeto.  Si probamos con esta segunda versión veremos que imprime dos\n",
    "números diferentes, es decir s apunta a una variable diferente la segunda vez:"
   ]
  },
  {
   "cell_type": "code",
   "execution_count": null,
   "metadata": {
    "collapsed": false,
    "deletable": true,
    "editable": true
   },
   "outputs": [],
   "source": [
    "s = 'Hola'\n",
    "print(id(s))\n",
    "s = s + ', mundo'\n",
    "print(id(s))"
   ]
  },
  {
   "cell_type": "markdown",
   "metadata": {
    "deletable": true,
    "editable": true
   },
   "source": [
    "Es decir, las variables se crean o se destruyen en memoria. Cuando se crea la string 'hola', esta\n",
    "no tiene nombre, es *anónima*. Justo despues de crearse se le pone el nombre `s` (quizá sería\n",
    " más correcto decir que se le pone una etiqueta `s`, porque como veremos más adelante, una variable\n",
    " puede tener varios *nombres*).\n",
    " \n",
    "Luego se crea una nueva cadena de texto, sumando `hola` y `, mundo`, creando una nueva string\n",
    "con el contenido `hola, mundo`. Esta nueva variable de tipo string se le asigna el nombre `s`. La string original `hola` se queda, por tanto, sin nadie que la referencia, por lo que el recolector de basura la\n",
    "eliminará tan pronto como pueda. Lo mismo pasa con `, mundo`, una vez ejecutada la línea donde\n",
    "se realiza la concatenación, no existe ninguda referencia a esa stringy, por tanto, se borrará\n",
    "eventualmente."
   ]
  },
  {
   "cell_type": "markdown",
   "metadata": {
    "deletable": true,
    "editable": true
   },
   "source": [
    "### El valor None\n",
    "\n",
    "El valor especial **`None`** no es un tipo de dato, sino un valor\n",
    "constante especial, cuyo significado viene a ser \"ausencia de valor\"\n",
    "(Similar al valor especial `NULL` de SQL). Si una función no especifica\n",
    "un valor de retorno, este es `None`. `None` tiene su propio tipo de\n",
    "variable específica: `NoneType`.\n",
    "\n",
    "Podemos comprobar si un valor es `None` con el operador `is`, o `is not`:"
   ]
  },
  {
   "cell_type": "code",
   "execution_count": null,
   "metadata": {
    "collapsed": true,
    "deletable": true,
    "editable": true
   },
   "outputs": [],
   "source": [
    "a = 12\n",
    "assert a is not None \n",
    "b = None\n",
    "assert b is None"
   ]
  }
 ],
 "metadata": {
  "kernelspec": {
   "display_name": "Python 3",
   "language": "python",
   "name": "python3"
  },
  "language_info": {
   "codemirror_mode": {
    "name": "ipython",
    "version": 3
   },
   "file_extension": ".py",
   "mimetype": "text/x-python",
   "name": "python",
   "nbconvert_exporter": "python",
   "pygments_lexer": "ipython3",
   "version": "3.5.2"
  }
 },
 "nbformat": 4,
 "nbformat_minor": 2
}
