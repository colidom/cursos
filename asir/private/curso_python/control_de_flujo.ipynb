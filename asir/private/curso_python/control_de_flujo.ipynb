{
 "cells": [
  {
   "cell_type": "markdown",
   "metadata": {},
   "source": [
    "# Control de flujo en Python\n",
    "\n",
    "Python es similar en muchos aspectos a otros lenguajes de \n",
    "programación, pero tiene una caraterísitica casi única,\n",
    "el uso de la indentación para agrupar los bloques de código.\n",
    "\n",
    "En otros lenguajes es habitual el uso de palabras reservadas\n",
    "como `Begin`  o `End` o caracteres especiales como `{` y `}`. En Python,\n",
    "sin embargo, los bloques de código quedan definidos por su nivel de\n",
    "indentación. \n",
    "\n",
    "La indentación, por tanto, que en otros lenguajes es\n",
    "solo una opción estética destinada a mejorar la legibilidad, en Python\n",
    "sí que tiene significado y es, por tanto, obligatoria.\n",
    "\n",
    "Para empezar un bloque de código, se aumenta la indentación de \n",
    "las líneas siguientes; todas las líneas que tengan la misma indentación\n",
    "forman parte del mismo bloque. Cuando queremos indicar el fin del bloque, \n",
    "simplemente volvemos a la indentación anterior.\n",
    "\n",
    "**Nota**: No hay obligación por parte del lenguaje de usar un determinado número\n",
    "de espacios ni de usar o no el tabulador, pero la recomendación, seguida\n",
    "prácticamente por todos los desarrolladores y muy conveniente a la hora\n",
    "de publicar, compartir o reutilizar código, es usar *cuatro espacios* para\n",
    "cada nivel de indentación, y no usar tabuladores.\n",
    "\n",
    "Eso sí: Es muy importante **no mezclar nunca espacios y tabuladores**. El \n",
    "intérprete reconoce un tabulador como 8 espacios, pero visualmente no se \n",
    "puede apreciar la diferencia, así que es muy importante mantenener la \n",
    "consistencia.\n",
    "\n",
    "La mayor parte de los editores e IDEs de programación actuales \n",
    "indentan automáticamente el código a medida que escribimos, y reconocen\n",
    "la sintaxis de Python.\n",
    "\n",
    "Algunos ven con cierto desagrado este aspecto\n",
    "de Python. En realidad, al poco de usarlo, la mayoría encuentra las\n",
    "ventajas de este sistema mucho mayores que las desventajas. Las\n",
    "ventajas son:\n",
    "\n",
    " - El código es más legible y más corto.\n",
    "\n",
    " - Permite reutilizar para otras funciones símbolos\n",
    "   como ``{`` y ``}``, usados en la mayoría\n",
    "   de los lenguajes derivados de C, como C++, Java o\n",
    "   C# para marcar el inicio y final de bloques, o\n",
    "   reduce la lista de palabras reservadas del lenguaje,\n",
    "   en casos como Pascal (Donde se reservan las palabras\n",
    "   `BEGIN` y `END`).\n",
    "\n",
    " - Evita ciertos casos de ambigüedad, donde la indentación\n",
    "   indica una cosa pero el código realmente ejecuta otra.\n",
    "   En estos casos, o bien la identación es correcta, y el código\n",
    "   esta mal, o viceversa. Ambos casos nos llevan a suponer\n",
    "   que el código está haciendo una cosa, cuando realmente\n",
    "   está haciendo otra. Este tipo de errores es relativamente\n",
    "   frecuente, y difícil de detectar si hay muchos niveles de\n",
    "   anidamiento. Con python no existe esta ambigüedad, ya\n",
    "   que la unica referencia es el nivel de indentación.\n",
    "\n",
    " - De todas formas, ibas a indentarlo."
   ]
  },
  {
   "cell_type": "markdown",
   "metadata": {},
   "source": [
    "## Finales de línea\n",
    "\n",
    "Tampoco hay puntos y comas al final de cada línea. La línea acaba donde acaba. En\n",
    "caso de necesitar extendernos a más de una linea, podemos\n",
    "usar el caracter `\\` al final de una línea para continuar en la siguiente:"
   ]
  },
  {
   "cell_type": "code",
   "execution_count": 1,
   "metadata": {
    "collapsed": true
   },
   "outputs": [],
   "source": [
    "s = '¿Qué es la vida? Un frenesí. ¿Qué es la vida? Una ilusión,'  \\\n",
    "    ' una sombra, una ficción; y el mayor bien es pequeño; que'  \\\n",
    "    ' toda la vida es sueño, y los sueños, sueños son.'\n",
    "assert len(s) == 164"
   ]
  },
  {
   "cell_type": "markdown",
   "metadata": {},
   "source": [
    "Las sentencias contenidas dentro de corchetes, llaves o paréntesis: `[` y `]`, `{` y `}` o `(` y `)`, no necesitan usar el carácter de continuación de línea:\n",
    "Por ejemplo:"
   ]
  },
  {
   "cell_type": "code",
   "execution_count": 1,
   "metadata": {
    "collapsed": true
   },
   "outputs": [],
   "source": [
    "days = ['Lunes', 'Martes', 'Miércoles',\n",
    "             'Jueves', 'Viernes']\n",
    "assert len(days) == 5"
   ]
  },
  {
   "cell_type": "markdown",
   "metadata": {},
   "source": [
    "## La sentencia `if`\n",
    "\n",
    "Esta estructura de control seguramente es la más\n",
    "fácil de usar. Simplemente evalúa una expresion, si el resultado\n",
    "es verdad (`True`) se ejecuta el bloque de código siguiente al `if`.\n",
    "Si es `False`, se ejecuta el bloque de código que sigue después\n",
    "del `else`, si es que se ha incluido, ya que es opcional:"
   ]
  },
  {
   "cell_type": "code",
   "execution_count": 3,
   "metadata": {},
   "outputs": [
    {
     "name": "stdout",
     "output_type": "stream",
     "text": [
      "Siete es mayor que tres\n",
      "quien lo iba a pensar...\n"
     ]
    }
   ],
   "source": [
    "if 7 > 3:\n",
    "    print('Siete es mayor que tres')\n",
    "    print('quien lo iba a pensar...')\n",
    "else:\n",
    "    print('Algo falla en las matemáticas...')"
   ]
  },
  {
   "cell_type": "markdown",
   "metadata": {},
   "source": [
    "Como vemos, las dos líneas de `print` se ejecutan porque las dos están \n",
    "al mismo nivel y forman, por tanto, un bloque.\n",
    "\n",
    "**Nota**: En el modo interactivo, eso significa que tendremos que pulsar varias\n",
    "veces la barra de espacios o el tabulador, para cada línea dentro de\n",
    "un bloque. En la práctica, la mayoría de las veces escribiremos código\n",
    "Python usando algún editor para programadores, todos los cuales tiene\n",
    "algún tipo de facilidad de auto-indentado. Otra pega del modo\n",
    "interactivo es que tendremos que indicar con una línea en blanco\n",
    "cuando hayamos acabado de introducir todas las líneas del bloque, ya\n",
    "que el analizador no tiene otra forma de saber si hemos acabado de\n",
    "introducir líneas o no.\n",
    "\n",
    "No es necesario incluir paréntesis en la expresión de la condición, a no ser que\n",
    "sean necesarios para modificar la prioridad de ciertas operaciones, por \n",
    "ejemplo:"
   ]
  },
  {
   "cell_type": "code",
   "execution_count": 79,
   "metadata": {},
   "outputs": [
    {
     "name": "stdout",
     "output_type": "stream",
     "text": [
      "It's OK\n"
     ]
    }
   ],
   "source": [
    "a = 7\n",
    "b = 8\n",
    "c = 9\n",
    "if (a+b)*c == 135:\n",
    "    print(\"It's OK\")"
   ]
  },
  {
   "cell_type": "markdown",
   "metadata": {},
   "source": [
    "Si queremos comprobar una serie de condiciones, y actuar\n",
    "de forma adecuada en cada caso, podemos encadenarlas\n",
    "usando la formula `if [elif ...] else`. `elif`\n",
    "es solo una forma abreviada de `else if`, apropiada\n",
    "para mantener la indentación de código a un nivel razonable.\n",
    "\n",
    "Veamos un ejemplo. Importamos el modulo `random`, que nos\n",
    "permite trabajar con números aleatorios, y usamos su función\n",
    "`randint`, que nos devuelve un número al azar dentro del rango\n",
    "definido por los parámetros que le pasamos:"
   ]
  },
  {
   "cell_type": "code",
   "execution_count": 80,
   "metadata": {},
   "outputs": [
    {
     "name": "stdout",
     "output_type": "stream",
     "text": [
      "0 es cero\n"
     ]
    }
   ],
   "source": [
    "import random\n",
    "\n",
    "n = random.randint(-10, 10)\n",
    "print(n, 'es', end=' ')\n",
    "if n == -10:\n",
    "     print('el límite inferior')\n",
    "elif -9 <= n < 0:\n",
    "     print ('negativo')\n",
    "elif n == 0:\n",
    "     print('cero')\n",
    "elif 0 < n <= 9:\n",
    "     print ('positivo')\n",
    "else:\n",
    "    print('el límite superior')"
   ]
  },
  {
   "cell_type": "markdown",
   "metadata": {},
   "source": [
    "En otros lenguajes se usa una estructura llamada *condicional múltiple*\n",
    ", que suelen utilizar las palabras reservadas `case` o `switch` para estas comprobaciones en serie. Estas estructuras se pueden simular utilizando diccionarios.\n",
    "En Python se prefiere la sintaxis de `if [elif...] [else]`. A nivel de \n",
    "rendimiento, no hay diferencia entre las dos sintaxis, ya que ambas \n",
    "hacen exactamente lo mismo."
   ]
  },
  {
   "cell_type": "markdown",
   "metadata": {},
   "source": [
    "## El bucle `for`\n",
    "\n",
    "La estructura `for` nos permite *repetir un trabajo varias veces*. Su\n",
    "sintaxis es un poco diferente de la que podemos ver en otros lenguajes\n",
    "como Fortran o Pascal. En estos y otros lenguajes, esta construcción\n",
    "nos permite definir un rango de valores enteros, cuyos valores va\n",
    "adoptando sucesivamente una variable a cada vuelta o iteración dentro\n",
    "del bucle, y que a menudo se usan como índice para acceder a alguna\n",
    "estructura de datos.\n",
    "\n",
    "En Python, por el contrario, el bucle `for`, está diseñado para que\n",
    "itere sobre cualesquiera estructuras de datos que sean *iterables*;\n",
    "por ejemplo, cadenas de texto, tuplas, listas o diccionarios. En cada\n",
    "vuelta o iteración obtenemos en una variable, no el índice, sino el\n",
    "propio elemento dentro de la secuencia. Veamos algunos ejemplos:"
   ]
  },
  {
   "cell_type": "code",
   "execution_count": 81,
   "metadata": {},
   "outputs": [
    {
     "name": "stdout",
     "output_type": "stream",
     "text": [
      "T\n",
      "e\n",
      "x\n",
      "t\n",
      "o\n"
     ]
    }
   ],
   "source": [
    "for letra in 'Texto':\n",
    "    print(letra)"
   ]
  },
  {
   "cell_type": "code",
   "execution_count": 82,
   "metadata": {},
   "outputs": [
    {
     "name": "stdout",
     "output_type": "stream",
     "text": [
      "Se 2\n",
      "acerca 6\n",
      "el 2\n",
      "invierno 8\n"
     ]
    }
   ],
   "source": [
    "for word in ['Se', 'acerca', 'el', 'invierno']:\n",
    "    print(word, len(word))"
   ]
  },
  {
   "cell_type": "markdown",
   "metadata": {},
   "source": [
    "Como vemos, el bucle `for` funciona igual con una cadena de texto\n",
    "que con una lista, una tupla, etc... Repite el código en el bloque\n",
    "interno, tantas veces como elementos haya en la secuencia, asignando a\n",
    "una variable el elemento en cuestión. En el caso de iterar sobre un\n",
    "diccionario, la variable contendrá las distintas claves del mismo (en\n",
    "un orden indeterminado):"
   ]
  },
  {
   "cell_type": "code",
   "execution_count": 83,
   "metadata": {},
   "outputs": [
    {
     "name": "stdout",
     "output_type": "stream",
     "text": [
      "El lema de la casa Martell es: Nunca doblegado, Nunca roto\n",
      "El lema de la casa Targaryen es: Fuego y sangre\n",
      "El lema de la casa Arryn es: Tan alto como el honor\n",
      "El lema de la casa Stark es: Se acerca el invierno\n",
      "El lema de la casa Greyjoy es: Nosotros no sembramos\n",
      "El lema de la casa Lannister es: ¡Oye mi rugido!\n",
      "El lema de la casa Baratheon es: Nuestra es la Furia\n"
     ]
    }
   ],
   "source": [
    "casas = {\n",
    "    'Targaryen': 'Fuego y sangre',\n",
    "    'Stark': 'Se acerca el invierno',\n",
    "    'Baratheon': 'Nuestra es la Furia',\n",
    "    'Greyjoy': 'Nosotros no sembramos',\n",
    "    'Lannister': '¡Oye mi rugido!',\n",
    "    'Arryn': 'Tan alto como el honor',\n",
    "    'Martell': 'Nunca doblegado, Nunca roto',\n",
    "    }\n",
    "for clave in casas:\n",
    "    print('El lema de la casa', clave, 'es:', casas[clave])"
   ]
  },
  {
   "cell_type": "markdown",
   "metadata": {},
   "source": [
    "Si fuera necesario modificar la propia secuencia a medida que iteramos, por\n",
    "ejemplo para añadir o borrar elementos, es conveniente iterar sobre\n",
    "una copia (Esto es muy fácil de hacer usando la notación de rodajas\n",
    "o *slices* `[:]`). Si modificamos la lista a medida que iteramos sobre ella,\n",
    "los resultados seguramente no serán los que esperamos. Este error es muy \n",
    "frecuente, modificar la longitud de una estructura de datos a medida que se recorre.\n",
    "\n",
    "Por ejemplo, veamos este intento de borrar de la lista los numeros menores que 6:"
   ]
  },
  {
   "cell_type": "code",
   "execution_count": 1,
   "metadata": {},
   "outputs": [
    {
     "name": "stdout",
     "output_type": "stream",
     "text": [
      "[2, 4, 6, 7, 8, 9, 10]\n"
     ]
    }
   ],
   "source": [
    "numbers = [1, 2, 3, 4, 5, 6, 7, 8 ,9, 10]\n",
    "for i in numbers:\n",
    "    if i < 6 :\n",
    "        numbers.remove(i)\n",
    "print(numbers)"
   ]
  },
  {
   "cell_type": "markdown",
   "metadata": {},
   "source": [
    "Uno esperaría como resultado la lista `[6, 7, 8, 9, 10]`. ¿Qué ha pasado?\n",
    "\n",
    "Pues que la longitud de la lista ha sido modificada a medida que se recorre. Eso significa que, en la primera iteración o vuelta del bucle, cuando `i` vale `1`, y como `1` es\n",
    "menor que `6`, ese `1` es borrado de la lista. En la segunda vuelta cogemos\n",
    "el segundo elemento de la lista, ¡pero el segundo elemento no es ahora el 2, sino el 3!\n",
    "(Como eliminamos el primero, todos los elementos posteriores se han *desplazado* a\n",
    "la posición anterior), así que eliminamos el `3`, mientras el `2` ha escapado de la\n",
    "matanza. Lo mismo pasa en la tercera iteración, donde eliminamos el `5` pasando\n",
    "por alto al `4`, ya que el `5` es en ese momento el tercer elemento de la lista.\n",
    "\n",
    "Quiza se vea mejor gráficamente. Mostraremos el contenido de la lista en cada iteracion, y \n",
    "resaltaremos en negrita el valor de i en cada iteración:\n",
    "\n",
    "|Iteración| Lista                          | Valor de i | Pos |\n",
    "|---------|--------------------------------|------------|-----|\n",
    "| 1       | [**1**, 2, 3, 4, 5, 6...]      | 1          | 0   |\n",
    "| 2       | [2, **3**, 4, 5, 6, 7...]      | 3          | 1   |\n",
    "| 3       | [2, 4, **5**, 6., 7, 8..]      | 5          | 2   |\n",
    "| 4       | [2, 4, 6, **7**, 8...]         | 7          | 3   |\n",
    "| 5       | [2, 4, 6, 7, **8**, 9, 10]     | 8          | 5   |\n",
    "| 6       | [2, 4, 6, 7, 8, **9**, 10]     | 9          | 6   |\n",
    "| 7       | [2, 4, 6, 7, 8, 9, **10**]     | 10         | 7   |"
   ]
  },
  {
   "cell_type": "markdown",
   "metadata": {},
   "source": [
    "A través de la herramienta *Python Tutor* podemos [visualizar la ejecución del código anterior](https://goo.gl/PYR41w)."
   ]
  },
  {
   "cell_type": "markdown",
   "metadata": {},
   "source": [
    "No hay una forma corrrecta de modificar una lista de forma que su longitud varíe, mientras\n",
    "iteramos sobre ella. Si ejecutamos el código anterior pero iterando sobre una copia, ¿funcionaría?"
   ]
  },
  {
   "cell_type": "code",
   "execution_count": 85,
   "metadata": {},
   "outputs": [
    {
     "name": "stdout",
     "output_type": "stream",
     "text": [
      "[6, 7, 8, 9, 10]\n"
     ]
    }
   ],
   "source": [
    "numbers = [1, 2, 3, 4, 5, 6, 7, 8 ,9, 10]\n",
    "for i in numbers[:]:\n",
    "    if i < 6 :\n",
    "        numbers.remove(i)\n",
    "print(numbers)"
   ]
  },
  {
   "cell_type": "markdown",
   "metadata": {},
   "source": [
    "Por cierto, podríamos haber obtenido la lista de los números del 1 al 10 con la función predefinida `range`."
   ]
  },
  {
   "cell_type": "code",
   "execution_count": 86,
   "metadata": {},
   "outputs": [
    {
     "data": {
      "text/plain": [
       "[1, 2, 3, 4, 5, 6, 7, 8, 9, 10]"
      ]
     },
     "execution_count": 86,
     "metadata": {},
     "output_type": "execute_result"
    }
   ],
   "source": [
    "list(range(1, 11))"
   ]
  },
  {
   "cell_type": "markdown",
   "metadata": {},
   "source": [
    "Si tenemos que iterar sobre un rango de números, `range` nos devuelve \n",
    "una secuencia iterable (En python 2.x nos devuelve\n",
    "una lista de números, en python 3.x devuelve una *lista virtual*, que no\n",
    "consume tante memoria como la lista entera. Por ahora, podemos\n",
    "considerar ambas formas equivalentes, ya que ambas son iterables).\n",
    "\n",
    "La función `range` acepta entre uno y tres parámetros. Si solo se\n",
    "especifica uno, devuelve el rango empezando en 0 y acabando justo\n",
    "antes de llegar al valor del parámetro::"
   ]
  },
  {
   "cell_type": "code",
   "execution_count": 87,
   "metadata": {},
   "outputs": [
    {
     "name": "stdout",
     "output_type": "stream",
     "text": [
      "0\n",
      "1\n",
      "2\n",
      "3\n"
     ]
    }
   ],
   "source": [
    "for i in range(4):\n",
    "    print(i)"
   ]
  },
  {
   "cell_type": "markdown",
   "metadata": {},
   "source": [
    "Estos valores, `[0..n-1]` se corresponden exactamente con los índices\n",
    "válidos para una secuencia de `n` valores.\n",
    "\n",
    "Si se le indican dos valores, devolverá el rango comprendido\n",
    "entre el primero y el inmediatamente anterior al segundo:"
   ]
  },
  {
   "cell_type": "code",
   "execution_count": 88,
   "metadata": {},
   "outputs": [
    {
     "name": "stdout",
     "output_type": "stream",
     "text": [
      "2\n",
      "3\n",
      "4\n"
     ]
    }
   ],
   "source": [
    "for i in range(2, 5):\n",
    "    print(i)"
   ]
  },
  {
   "cell_type": "markdown",
   "metadata": {},
   "source": [
    "Si se indica un tercer parámetro, este se usará como incremento, paso o `step`,\n",
    "en vez del valor por defecto, 1:"
   ]
  },
  {
   "cell_type": "code",
   "execution_count": 89,
   "metadata": {},
   "outputs": [
    {
     "name": "stdout",
     "output_type": "stream",
     "text": [
      "600\n",
      "700\n",
      "800\n",
      "900\n",
      "1000\n"
     ]
    }
   ],
   "source": [
    "for i in range(600, 1001, 100): \n",
    "    print(i)"
   ]
  },
  {
   "cell_type": "markdown",
   "metadata": {},
   "source": [
    "Observese que, en todos los casos, el límite superior *nunca se alcanza*.\n",
    "\n",
    "Si tenemos experiencia en otros lenguajes de programación, podemos\n",
    "sentir la tentación de seguir usando índices, y tirar de la función\n",
    "`range` cada vez que hagamos un `for`, quizás para sentirnos más\n",
    "cómodos, quizás por el temor de que en un futuro tengamos necesidad del\n",
    "índice. Es decir, en vez de hacer:"
   ]
  },
  {
   "cell_type": "code",
   "execution_count": 90,
   "metadata": {},
   "outputs": [
    {
     "name": "stdout",
     "output_type": "stream",
     "text": [
      "A\n",
      "B\n",
      "C\n",
      "D\n"
     ]
    }
   ],
   "source": [
    "for letra in 'ABCD':\n",
    "    print(letra)"
   ]
  },
  {
   "cell_type": "markdown",
   "metadata": {},
   "source": [
    "Podríamos hacer:"
   ]
  },
  {
   "cell_type": "code",
   "execution_count": 91,
   "metadata": {},
   "outputs": [
    {
     "name": "stdout",
     "output_type": "stream",
     "text": [
      "A\n",
      "B\n",
      "C\n",
      "D\n"
     ]
    }
   ],
   "source": [
    "word = 'ABCD'\n",
    "for i in range(len(word)):\n",
    "    letra = word[i]\n",
    "    print(letra)"
   ]
  },
  {
   "cell_type": "markdown",
   "metadata": {},
   "source": [
    "Esto *no* es recomendable, por varias razones:\n",
    "\n",
    " - Es **más difícil de leer**\n",
    "\n",
    " - Es **más largo de escribir**\n",
    "\n",
    " - Creamos **variables innecesarias** (`i`)\n",
    "\n",
    " - Es **más lento** (El recorrido del bucle `for` está optimizado en C)\n",
    "\n",
    "¿Qué pasa si, por la razón que sea, necesito esa variable `i`? ¿Es\n",
    "recomendable en ese caso usar la forma anterior? La respuesta\n",
    "sigue siendo no. Existe una función, `enumerate`, que admite\n",
    "como parámetro cualquier secuencia y nos devuelve una serie de duplas (tuplas \n",
    "de dos elementos), con el índice y el elemento de la secuencia:"
   ]
  },
  {
   "cell_type": "code",
   "execution_count": 4,
   "metadata": {},
   "outputs": [
    {
     "name": "stdout",
     "output_type": "stream",
     "text": [
      "0 A\n",
      "1 B\n",
      "2 C\n",
      "3 D\n"
     ]
    }
   ],
   "source": [
    "for i, letra in enumerate('ABCD'):\n",
    "    print(i, letra)"
   ]
  },
  {
   "cell_type": "markdown",
   "metadata": {},
   "source": [
    "## El bucle `while`\n",
    "\n",
    "La sentencia `while` también nos permite ejecutar varias veces\n",
    "un bloque de código, pero en este caso no saldrá del bucle\n",
    "hasta que una determinada condición pasa a ser falsa. O, dicho de otra manera, permanecerá\n",
    "dentro del bucle mientras la condición sea verdadera. Veamos\n",
    "el siguiente ejemplo, que imprime el mayor de los [números factoriales](https://es.wikipedia.org/wiki/Factorial) que sea menor que un millón:"
   ]
  },
  {
   "cell_type": "code",
   "execution_count": 93,
   "metadata": {},
   "outputs": [
    {
     "name": "stdout",
     "output_type": "stream",
     "text": [
      "El mayor factorial menor que 1E6 es: 9! = 362880\n"
     ]
    }
   ],
   "source": [
    "acc = num = 1\n",
    "while acc * (num+1) < 1000000:\n",
    "    num = num + 1\n",
    "    acc = num * acc\n",
    "\n",
    "print('El mayor factorial menor que 1E6 es: ', num, '! = ', acc, sep='')"
   ]
  },
  {
   "cell_type": "markdown",
   "metadata": {},
   "source": [
    "El bucle se detiene cuando llegamos a 10, porque el factorial,\n",
    "$10! = 3.628.800$, es mayor que un millón y, por tanto, la condición del\n",
    "`while` pasa a ser falsa (y hemos encontrado el número que buscábamos).\n",
    "\n",
    "En casos como este, en que no sabemos a priori cuando debemos parar,\n",
    "la sentencia `while` encaja perfectamente. Podemos usar un bucle\n",
    "`while` para iterar cuando sepamos de antemano la cantidad de\n",
    "vueltas(iteraciones) que tenemos que dar, pero parece más natural en ese caso usar\n",
    "el bucle `for`.\n",
    "\n",
    "El error más común con un bucle de este tipo es olvidarnos de\n",
    "actualizar, dentro del código del bucle, la variable que es testeada en\n",
    "la condición `while`, lo que nos lleva a un bucle sin fin."
   ]
  },
  {
   "cell_type": "markdown",
   "metadata": {},
   "source": [
    "## `break`, `continue` y `else` en bucles\n",
    "\n",
    "La sentencia `break` fuerza la salida del bucle `for` o `while` en\n",
    "la que se encuentre (Si hay varios bucles anidados, solo saldrá del más\n",
    "interno). Esto puede ser muy útil para optimizar nuestro código. Por\n",
    "ejemplo, si estamos buscando dentro de una lista de números uno que sea\n",
    "múltiplo de 7, y simplemente nos interesa encontrar uno, el primero que\n",
    "encuentre, no tiene sentido seguir recorriendo el bucle hasta el final;\n",
    "podríamos hacer entonces:"
   ]
  },
  {
   "cell_type": "code",
   "execution_count": 94,
   "metadata": {},
   "outputs": [
    {
     "name": "stdout",
     "output_type": "stream",
     "text": [
      "98 es múltiplo de 7\n"
     ]
    }
   ],
   "source": [
    "numeros = [15, 53, 98, 36, 48, 52, 27, 77, 4, 29, 94, 13, 36]\n",
    "for n in numeros:\n",
    "     if n % 7 == 0:\n",
    "         print(n, 'es múltiplo de 7')\n",
    "         break"
   ]
  },
  {
   "cell_type": "markdown",
   "metadata": {},
   "source": [
    "El octavo término, por ejemplo, el 77, también es múltiplo de 7, pero no \n",
    "necesitamos llegar hasta ahí, ya tenemos un múltiplo de 7, que es lo único\n",
    "que necesitabamos."
   ]
  },
  {
   "cell_type": "markdown",
   "metadata": {},
   "source": [
    "Los bucles en Python (tanto `for` como `while`) tienen una\n",
    "característica relativamente poco conocida, y es que dispone de una\n",
    "clausula `else`: El bloque de código especificado en el `else`\n",
    "solo se ejecuta si se cumplen estas dos condiciones:\n",
    "\n",
    "- el bucle **ha llegado hasta el final**\n",
    "\n",
    "- y **no se ha salido de él mediante una clausula `break`**.\n",
    "\n",
    "En el caso de `for`, la cláusula `else`, si se ha especificado, solo\n",
    "se ejecutará si se han agotado todos los elementos de la secuencia y no\n",
    "se ha ejecutado ningún `break`. Por ejemplo, el código anterior no\n",
    "muestra ningún mensaje si no hubiera ningún número múltiplo de siete en\n",
    "la lista. Podemos arregarlo así:"
   ]
  },
  {
   "cell_type": "code",
   "execution_count": 95,
   "metadata": {},
   "outputs": [
    {
     "name": "stdout",
     "output_type": "stream",
     "text": [
      "No hay ningún múltiplo de 7 en la lista\n"
     ]
    }
   ],
   "source": [
    "numeros = [87, 39, 85, 72, 41, 95, 93, 65, 26, 11, 32, 17]\n",
    "for n in numeros:\n",
    "    if n % 7 == 0:\n",
    "        print(n, 'es múltiplo de 7')\n",
    "        break\n",
    "else:\n",
    "    print ('No hay ningún múltiplo de 7 en la lista')"
   ]
  },
  {
   "cell_type": "markdown",
   "metadata": {},
   "source": [
    "## Ejercicio\n",
    "\n",
    "> Usando la cláusula `else`, o la cláusula `break`, modificar\n",
    "> el programa de cálculo de factoriales mostrado anteriormente\n",
    "> para que muestre el *primer* factorial mayor que un millón"
   ]
  },
  {
   "cell_type": "markdown",
   "metadata": {
    "collapsed": true
   },
   "source": [
    "## Funciones\n",
    "\n",
    "Una función no es más que un fragmento de código que queremos\n",
    "reutilizar. Para ello le damos un nombre que nos sirva para\n",
    "identificarla. También definimos unos nombres para las variables que\n",
    "servirán para pasar información a la función, si es que se le pasa alguna.\n",
    "Estas variables se llaman **parámetros** de la función.\n",
    "\n",
    "Veamos con un ejemplo, una función que nos da el perímetro de una\n",
    "circuferencia, pasándole el radio de la misma:"
   ]
  },
  {
   "cell_type": "code",
   "execution_count": 2,
   "metadata": {
    "collapsed": true
   },
   "outputs": [],
   "source": [
    "import math\n",
    "\n",
    "def perimetro(r):\n",
    "    \"\"\"Devuelve el perímetro de una circunferencia de radio r.\n",
    "    \"\"\"\n",
    "    return 2 * math.pi * r"
   ]
  },
  {
   "cell_type": "markdown",
   "metadata": {
    "collapsed": true
   },
   "source": [
    "la palabra reservada `def` nos permite definir funciones. Después del\n",
    "`def` viene el nombre que le queremos dar a la función y luego, entre\n",
    "paréntesis, el parámetro o parámetros de entrada de la función, separados\n",
    "por comas. Si no hubiera ningún paŕametro, aún así hemos de incluir los\n",
    "paréntesis. Finalmente, viene el signo de dos puntos. Todo el código\n",
    "que aparezca a continuación, indentado a un nivel mayor que la palabra `def`\n",
    ", forma parte del cuerpo o bloque de la función. Ahora podemos llamar o invocar a\n",
    "esta función desde cualquier parte de nuestro programa, simplemente usando\n",
    "su nombre seguido de los parámetros, entre paréntesis. Por ejemplo, el\n",
    "siguiente código imprime el resultado de\n",
    "calcular el perímetro de una circunferencia de radio 6:"
   ]
  },
  {
   "cell_type": "code",
   "execution_count": 3,
   "metadata": {},
   "outputs": [
    {
     "name": "stdout",
     "output_type": "stream",
     "text": [
      "El perímetro de una circunferencia de radio 6 es: 37.69911184307752\n"
     ]
    }
   ],
   "source": [
    "radio = 6\n",
    "print('El perímetro de una circunferencia de radio', radio, 'es:', perimetro(radio))"
   ]
  },
  {
   "cell_type": "markdown",
   "metadata": {
    "collapsed": true
   },
   "source": [
    "**Nota**: **Paso por referencia o por valor**\n",
    "\n",
    "> Para el que esté interesado en las clasificaciones académicas, el\n",
    "> paso de parámetros en Python no es ni por referencia, ni por\n",
    "> valor. Para los que no, ignoren por favor esta nota con toda\n",
    "> tranquilidad.\n",
    "> \n",
    "> En Python, no podemos usar los términos *paso por valor*\n",
    "> ni *paso por referencia* con el significado que tienen\n",
    "> habitualmente.\n",
    "> \n",
    "> En concreto, no se puede hablar de *paso por valor*, porque el\n",
    "> código de la función puede, en determinados casos, modificar el\n",
    "> valor de la variable que ve el código llamante.\n",
    "> \n",
    "> Tampoco se le puede hablar de *paso por referencia*, porque no se\n",
    "> le da acceso a las variables del llamador, sino solo a\n",
    "> determinados objetos compartidos entre el código llamador y el\n",
    "> código llamado. Pero el código llamado no tienen acceso a los\n",
    "> nombres definidos en el espacio de nombres del llamador.\n",
    "> \n",
    "> Este nuevo sistema se le conoce por varios nombres: Por objetos,\n",
    "> compartido, o por referencia de objetos. Para quien esté\n",
    "> interesado en los detalles, el siguiente enlace es un buen\n",
    "> principio: [Call by Object](http://effbot.org/zone/call-by-object.htm).\n",
    "\n",
    "La primera línea dentro de la definición de la función puede\n",
    "ser, opcionalmente, una cadena de texto. Este texto\n",
    "no tiene ningún efecto sobre el código, por lo que se puede\n",
    "considerar como un comentario, pero internamente ese\n",
    "texto se convierte en la documentación interna de la función.\n",
    "Es esta documentación interna, llamada **`docstring`**, la que\n",
    "muestra la función `help()`, ya que puede ser accedida en\n",
    "tiempo de ejecución. Es muy recomendable incluir este\n",
    "tipo de documentación, especificando al menos los parámetros\n",
    "que acepta y el resultado que devuelve.\n",
    "\n",
    "La sentencia `return` permite especificar el valor o valores\n",
    "que devuelve la función. Si no se especifica ningún valor de retorno,\n",
    "aun así la función retornará un valor, el aburrido `None`.\n",
    "\n",
    "El paso de parámetros también es interesante, y ofrece posibilidades\n",
    "en Python que no todos los lenguajes soportan.\n",
    "\n",
    "La forma habitual de asignación de parámetros es por posición, es decir,\n",
    "cuando llamemos a una funcion definida con varios parámetros, el\n",
    "primer dato que pongamos tras los paréntesis ocupará el lugar del\n",
    "primer parámetro, el segundo valor ocupará el segundo parámetro y así\n",
    "sucesivamente. En estos casos, hay que pasar tantos valores como\n",
    "parámetros se hayan definido en la función.\n",
    "\n",
    "Python soporta también el uso de **parámetros por defecto**, el **paso de parámetros por nombre** y el **paso de argumentos en número variable**."
   ]
  },
  {
   "cell_type": "markdown",
   "metadata": {},
   "source": [
    "### Parámetros con valores por defecto\n",
    "\n",
    "Lo más habitual es especificar un valor por defecto a uno o varios\n",
    "de los parámetros. De este forma, la función puede ser llamada\n",
    "con menos parámetros de los que realmente soporta.\n",
    "\n",
    "Por ejemplo, la siguiente función devuelve el texto que se le\n",
    "pasa, resaltándolo con una línea antes y otra después, compuesta de\n",
    "tantos caracteres como mida el texto, usando el carácter  definido\n",
    "como segundo parámetro. Podemos no especificar el caracter, con lo que\n",
    "por defecto se usará un guión:"
   ]
  },
  {
   "cell_type": "code",
   "execution_count": 3,
   "metadata": {},
   "outputs": [
    {
     "data": {
      "text/plain": [
       "'hola¡hola¡hola¡hola¡hola¡hola¡hola¡hola¡'"
      ]
     },
     "execution_count": 3,
     "metadata": {},
     "output_type": "execute_result"
    }
   ],
   "source": []
  },
  {
   "cell_type": "code",
   "execution_count": 4,
   "metadata": {
    "collapsed": true
   },
   "outputs": [],
   "source": [
    "def resaltar(texto):\n",
    "    mark_char='-'\n",
    "    size = len(texto)\n",
    "    print(mark_char * size)\n",
    "    print(texto)\n",
    "    print(mark_char * size)"
   ]
  },
  {
   "cell_type": "markdown",
   "metadata": {},
   "source": [
    "Que produce la siguiente salida, si se llama sin parámetros:"
   ]
  },
  {
   "cell_type": "code",
   "execution_count": 5,
   "metadata": {},
   "outputs": [
    {
     "name": "stdout",
     "output_type": "stream",
     "text": [
      "----------------------------\n",
      "Informe sobre probabilidad A\n",
      "----------------------------\n"
     ]
    }
   ],
   "source": [
    "resaltar('Informe sobre probabilidad A')"
   ]
  },
  {
   "cell_type": "markdown",
   "metadata": {},
   "source": [
    "O la siguiente salida, si indicamos que use el caracter `=`:"
   ]
  },
  {
   "cell_type": "code",
   "execution_count": 6,
   "metadata": {},
   "outputs": [
    {
     "name": "stdout",
     "output_type": "stream",
     "text": [
      "============================\n",
      "Informe sobre probabilidad A\n",
      "============================\n"
     ]
    }
   ],
   "source": [
    "resaltar('Informe sobre probabilidad A', '=')"
   ]
  },
  {
   "cell_type": "markdown",
   "metadata": {},
   "source": [
    "Los valores por defecto **se evaluan en el momento y en el ámbito\n",
    "en que se realiza la definición de la función**. Por eso, el siguiente\n",
    "código:"
   ]
  },
  {
   "cell_type": "code",
   "execution_count": 10,
   "metadata": {},
   "outputs": [
    {
     "name": "stdout",
     "output_type": "stream",
     "text": [
      "5\n"
     ]
    }
   ],
   "source": [
    "i = 5\n",
    "def f(arg=i):\n",
    "    print(arg)\n",
    "i = 6\n",
    "f()"
   ]
  },
  {
   "cell_type": "markdown",
   "metadata": {},
   "source": [
    "Imprime 5.\n",
    "\n",
    "La evaluación del valor por defecto, por tanto, solo se hace una vez.\n",
    "\n",
    "Si el valor por defecto es inmutable, esto no tiene mayor importancia, pero si\n",
    "es mutable, como una lista, un diccionario o, como veremos más adelante,\n",
    "una instancia de la mayoría de las clases, puede que no se comporte como\n",
    "esperamos. Por ejemplo, la siguiente función acumula los parámetros\n",
    "con los que ha sido llamada, porque la lista `l` se crea durante la\n",
    "definición de la función y no en cada llamada:"
   ]
  },
  {
   "cell_type": "code",
   "execution_count": 11,
   "metadata": {
    "collapsed": true
   },
   "outputs": [],
   "source": [
    "def f(a, l=[]):\n",
    "    l.append(a)\n",
    "    return l"
   ]
  },
  {
   "cell_type": "markdown",
   "metadata": {},
   "source": [
    "La primera llamada a la funcion va aparentemente bien:"
   ]
  },
  {
   "cell_type": "code",
   "execution_count": 12,
   "metadata": {},
   "outputs": [
    {
     "name": "stdout",
     "output_type": "stream",
     "text": [
      "[1]\n"
     ]
    }
   ],
   "source": [
    "print(f(1))"
   ]
  },
  {
   "cell_type": "markdown",
   "metadata": {},
   "source": [
    "Pero al llamar a la función por segunda o tercera vez..."
   ]
  },
  {
   "cell_type": "code",
   "execution_count": 13,
   "metadata": {},
   "outputs": [
    {
     "name": "stdout",
     "output_type": "stream",
     "text": [
      "[1, 2]\n",
      "[1, 2, 3]\n"
     ]
    }
   ],
   "source": [
    "print(f(2))\n",
    "print(f(3))"
   ]
  },
  {
   "cell_type": "markdown",
   "metadata": {},
   "source": [
    "Si queremos evitar este comportamiento, la forma correcta es:"
   ]
  },
  {
   "cell_type": "code",
   "execution_count": 15,
   "metadata": {},
   "outputs": [
    {
     "name": "stdout",
     "output_type": "stream",
     "text": [
      "[1]\n",
      "[2]\n",
      "[3]\n",
      "[1, 2, 3, 4]\n"
     ]
    }
   ],
   "source": [
    "b = 45\n",
    "def f(a, l=none):\n",
    "    if l is None:\n",
    "        l = []\n",
    "    l.append(a)\n",
    "    return l\n",
    "\n",
    "print(f(1))\n",
    "print(f(2))\n",
    "print(f(3))\n",
    "print(f(4, [1,2,3]))"
   ]
  },
  {
   "cell_type": "markdown",
   "metadata": {},
   "source": [
    "Es muy cómodo poder añadir parámetros con valores por defecto a una\n",
    "función ya existente y en uso, ya que nos permite ampliar las\n",
    "capacidades de la función sin romper el código existente. En\n",
    "nuestro ejemplo, la función `resaltar` podría haberse definido \n",
    "inicialmente con un único parámetro, el texto, solo para darnos \n",
    "cuenta, después de usarlo en multitud de sitios, que necesitamos\n",
    "poder especificar un carácter de resaltado diferente en un\n",
    "determinado caso.\n",
    "\n",
    "Si no dispusieramos de parámetros por defecto, nuestas opciones\n",
    "pasarían por, o bien definir una nueva funcion, `resaltar2`, con lo\n",
    "que ello implica (código redundante, duplicación de funcionalidad,\n",
    "etc...) o bien localizar en todo el código las llamadas hechas a\n",
    "la función y reescribirlas para incluir los dos parámetros."
   ]
  },
  {
   "cell_type": "markdown",
   "metadata": {},
   "source": [
    "### Parámetros por nombre\n",
    "\n",
    "Podemos especificar los parámetros de una función por su nombre, en\n",
    "vez  de por su posición. Supongamos que necesitamos escribir una función que\n",
    "calcule el área de un triángulo. ¿que parámetros necesita? Sabiendo\n",
    "que el área de un triángulo puede calcularse con la fórmula *base* por\n",
    "*altura* partido por dos, parece lógico suponer que necesitaremos dos\n",
    "parámetros, la base y la altura del triángulo. La función podría ser algo\n",
    "así:"
   ]
  },
  {
   "cell_type": "code",
   "execution_count": 16,
   "metadata": {
    "collapsed": true
   },
   "outputs": [],
   "source": [
    "def area_triangulo(base, altura):\n",
    "    return (base * altura) / 2.0"
   ]
  },
  {
   "cell_type": "markdown",
   "metadata": {},
   "source": [
    "Esta función puede invocarse de cualquiera de estas diferentes maneras:"
   ]
  },
  {
   "cell_type": "code",
   "execution_count": 18,
   "metadata": {},
   "outputs": [
    {
     "name": "stdout",
     "output_type": "stream",
     "text": [
      "Sin usar nombres 6.0\n",
      "Usando altura 6.0\n",
      "Usando base y altura 6.0\n",
      "Podemos incluso cambiar el orden 6.0\n"
     ]
    }
   ],
   "source": [
    "print('Sin usar nombres', area_triangulo(3, 4))\n",
    "print('Usando altura', area_triangulo(3, altura=4))\n",
    "print('Usando base y altura', area_triangulo(base=3, altura=4))\n",
    "print('Podemos incluso cambiar el orden', area_triangulo(altura=4, base=3))"
   ]
  },
  {
   "cell_type": "markdown",
   "metadata": {},
   "source": [
    "Eso si, si se mezclan paso de parámetros por posición con paso de parámetros\n",
    "por nombre, **los parámetros por posición siempre deben ir primero**:\n",
    "\n",
    "Esto es aceptable:"
   ]
  },
  {
   "cell_type": "code",
   "execution_count": 22,
   "metadata": {},
   "outputs": [
    {
     "name": "stdout",
     "output_type": "stream",
     "text": [
      "6.0\n"
     ]
    }
   ],
   "source": [
    "print(area_triangulo(3, altura=4))"
   ]
  },
  {
   "cell_type": "markdown",
   "metadata": {},
   "source": [
    "Pero esto da un error:"
   ]
  },
  {
   "cell_type": "code",
   "execution_count": 21,
   "metadata": {},
   "outputs": [
    {
     "ename": "SyntaxError",
     "evalue": "positional argument follows keyword argument (<ipython-input-21-6725d1548989>, line 1)",
     "output_type": "error",
     "traceback": [
      "\u001b[0;36m  File \u001b[0;32m\"<ipython-input-21-6725d1548989>\"\u001b[0;36m, line \u001b[0;32m1\u001b[0m\n\u001b[0;31m    print(area_triangulo(altura=4, 3))  # Error\u001b[0m\n\u001b[0m                                  ^\u001b[0m\n\u001b[0;31mSyntaxError\u001b[0m\u001b[0;31m:\u001b[0m positional argument follows keyword argument\n"
     ]
    }
   ],
   "source": [
    "print(area_triangulo(altura=4, 3))  # Error"
   ]
  },
  {
   "cell_type": "markdown",
   "metadata": {},
   "source": [
    "El poder especificar los parámetros por su nombre, combinando con los\n",
    "valores por defecto, nos permite simplificar mucho la lectura del\n",
    "código, especialmente con funciones con multitud de parámetros, de los\n",
    "cuales normalmente el usuario está interesado solo en una pequeña\n",
    "parte.\n",
    "\n",
    "Volviendo a nuestra función de cálculo del área de un triángulo,\n",
    "resulta que hay otras formas de calcular el área; por ejemplo, si\n",
    "conocemos las longitudes de los tres lados del triángulo: $a$, $b$ y $c$,\n",
    "podemos usar la Formula de Herón:\n",
    "\n",
    "> En un triángulo de lados $a$, $b$, $c$, y semiperímetro $s=\\frac{a+b+c}{2}$,\n",
    "> su área es igual a la raíz cuadrada de $\\sqrt{s(s-a)(s-b)(s-c)}$.\n",
    "\n",
    "Podemos modificar la función para que acepte todos estos parámetros,\n",
    "asignando valores predeterminados:"
   ]
  },
  {
   "cell_type": "code",
   "execution_count": 4,
   "metadata": {},
   "outputs": [
    {
     "name": "stdout",
     "output_type": "stream",
     "text": [
      "Especificando base y altura: 6.0\n",
      "Especificando longitudes de los lados: 6.0\n"
     ]
    }
   ],
   "source": [
    "def area_triangulo(base=0, altura=0, a=0, b=0, c=0):\n",
    "    if base and altura:\n",
    "        return (base * altura) / 2.0\n",
    "    elif a and b and c:\n",
    "        s = (a + b + c) / 2\n",
    "        return math.sqrt(s*(s-a)*(s-b)*(s-c))\n",
    "    else:\n",
    "        raise ValueError('Hay que especificar base y altura, o los lados a,b,c')\n",
    "\n",
    "print('Especificando base y altura:', area_triangulo(base=3, altura=4))\n",
    "print('Especificando longitudes de los lados:', area_triangulo(a=3, b=4, c=5))"
   ]
  },
  {
   "cell_type": "markdown",
   "metadata": {},
   "source": [
    "En el código hemos realizado una comprobación para que muestre un error en caso de que\n",
    "no se hayan especificado los suficientes parámetros para realizar el cálculo. Podemos\n",
    "producir (o elevar) nuestros propios errores con la palabra reservada **`raise`**. Veremos\n",
    "con más detalle el tratamiento de errores o excepciones en otra sección:"
   ]
  },
  {
   "cell_type": "code",
   "execution_count": 27,
   "metadata": {},
   "outputs": [
    {
     "ename": "ValueError",
     "evalue": "Hay que especificar base y altura, o los lados a,b,c",
     "output_type": "error",
     "traceback": [
      "\u001b[0;31m---------------------------------------------------------------------------\u001b[0m",
      "\u001b[0;31mValueError\u001b[0m                                Traceback (most recent call last)",
      "\u001b[0;32m<ipython-input-27-b16e91610d0a>\u001b[0m in \u001b[0;36m<module>\u001b[0;34m()\u001b[0m\n\u001b[0;32m----> 1\u001b[0;31m \u001b[0mprint\u001b[0m\u001b[0;34m(\u001b[0m\u001b[0marea_triangulo\u001b[0m\u001b[0;34m(\u001b[0m\u001b[0;34m)\u001b[0m\u001b[0;34m)\u001b[0m\u001b[0;34m\u001b[0m\u001b[0m\n\u001b[0m",
      "\u001b[0;32m<ipython-input-25-422f7774583c>\u001b[0m in \u001b[0;36marea_triangulo\u001b[0;34m(base, altura, a, b, c)\u001b[0m\n\u001b[1;32m      6\u001b[0m         \u001b[0;32mreturn\u001b[0m \u001b[0mmath\u001b[0m\u001b[0;34m.\u001b[0m\u001b[0msqrt\u001b[0m\u001b[0;34m(\u001b[0m\u001b[0ms\u001b[0m\u001b[0;34m*\u001b[0m\u001b[0;34m(\u001b[0m\u001b[0ms\u001b[0m\u001b[0;34m-\u001b[0m\u001b[0ma\u001b[0m\u001b[0;34m)\u001b[0m\u001b[0;34m*\u001b[0m\u001b[0;34m(\u001b[0m\u001b[0ms\u001b[0m\u001b[0;34m-\u001b[0m\u001b[0mb\u001b[0m\u001b[0;34m)\u001b[0m\u001b[0;34m*\u001b[0m\u001b[0;34m(\u001b[0m\u001b[0ms\u001b[0m\u001b[0;34m-\u001b[0m\u001b[0mc\u001b[0m\u001b[0;34m)\u001b[0m\u001b[0;34m)\u001b[0m\u001b[0;34m\u001b[0m\u001b[0m\n\u001b[1;32m      7\u001b[0m     \u001b[0;32melse\u001b[0m\u001b[0;34m:\u001b[0m\u001b[0;34m\u001b[0m\u001b[0m\n\u001b[0;32m----> 8\u001b[0;31m         \u001b[0;32mraise\u001b[0m \u001b[0mValueError\u001b[0m\u001b[0;34m(\u001b[0m\u001b[0;34m'Hay que especificar base y altura, o los lados a,b,c'\u001b[0m\u001b[0;34m)\u001b[0m\u001b[0;34m\u001b[0m\u001b[0m\n\u001b[0m\u001b[1;32m      9\u001b[0m \u001b[0;34m\u001b[0m\u001b[0m\n\u001b[1;32m     10\u001b[0m \u001b[0mprint\u001b[0m\u001b[0;34m(\u001b[0m\u001b[0;34m'Epecificando base y altura:'\u001b[0m\u001b[0;34m,\u001b[0m \u001b[0marea_triangulo\u001b[0m\u001b[0;34m(\u001b[0m\u001b[0mbase\u001b[0m\u001b[0;34m=\u001b[0m\u001b[0;36m3\u001b[0m\u001b[0;34m,\u001b[0m \u001b[0maltura\u001b[0m\u001b[0;34m=\u001b[0m\u001b[0;36m4\u001b[0m\u001b[0;34m)\u001b[0m\u001b[0;34m)\u001b[0m\u001b[0;34m\u001b[0m\u001b[0m\n",
      "\u001b[0;31mValueError\u001b[0m: Hay que especificar base y altura, o los lados a,b,c"
     ]
    }
   ],
   "source": [
    "print(area_triangulo())"
   ]
  },
  {
   "cell_type": "markdown",
   "metadata": {},
   "source": [
    "### Número de parámetros arbitrarios\n",
    "\n",
    "Por último, pero no menos importante, podemos especificar funciones\n",
    "que admitan cualquier número de parámetros, ya sea por posición o por\n",
    "nombre. Para ello se usan unos prefijos especiales en los parámetros a\n",
    "la hora de definir la función, `*` para obtener una tupla con todos\n",
    "los parámetros pasados por posición y `**`  para obtener un\n",
    "diccionario con todos los parámetros pasados por nombre.\n",
    "\n",
    "Por ejemplo, la siguiente función admite un parámetro inicial\n",
    "obligatorio y a continuación el número de argumentos que quiera; todos\n",
    "esos argumentos serán accesibles para el código de la función mediante\n",
    "la tupla `args`:"
   ]
  },
  {
   "cell_type": "code",
   "execution_count": 32,
   "metadata": {},
   "outputs": [
    {
     "name": "stdout",
     "output_type": "stream",
     "text": [
      "10\n",
      "2\n",
      "0\n"
     ]
    }
   ],
   "source": [
    "def cuenta_ocurrencias(txt, *args):\n",
    "    result = 0\n",
    "    for palabra in args:\n",
    "        result += txt.count(palabra)\n",
    "    return result\n",
    "\n",
    "texto = \"\"\"\n",
    "Muchos años después, frente al pelotón de fusilamiento,\n",
    "el coronel Aureliano Buendía había de recordar aquella tarde remota\n",
    "en que su padre le llevó a conocer el hielo.\n",
    "\"\"\"\n",
    "\n",
    "print(cuenta_ocurrencias(texto, 'coronel', 'el', 'tarde', 'fusilamiento'))\n",
    "print(cuenta_ocurrencias(texto, 'remota', 'hielo'))\n",
    "print(cuenta_ocurrencias(texto))"
   ]
  },
  {
   "cell_type": "markdown",
   "metadata": {},
   "source": [
    "De igual forma, usando la sintaxis especial `**`, podemos\n",
    "escribir una función que aceptará cualquier número de\n",
    "parámetros especificados por nombre. Los nombres y valores\n",
    "de los parámetros serán accesibles para el código de la función\n",
    "mediante la variable indicada, llamada normalmente `kwargs` (contracción de *keyword arguments*).\n",
    "\n",
    "El siguiente ejemplo imprime los nombres y valores de los\n",
    "parámetros que se le pasen:"
   ]
  },
  {
   "cell_type": "code",
   "execution_count": 5,
   "metadata": {},
   "outputs": [
    {
     "name": "stdout",
     "output_type": "stream",
     "text": [
      "c : 3\n",
      "otro : 123\n",
      "a : 1\n",
      "b : 2\n"
     ]
    }
   ],
   "source": [
    "def dump(**kwargs):\n",
    "    for name in kwargs:\n",
    "        print(name, ':', kwargs[name])\n",
    "\n",
    "dump(a=1, b=2, c=3, otro=123)"
   ]
  },
  {
   "cell_type": "markdown",
   "metadata": {},
   "source": [
    "La función predefinida ``dict`` usa este \"truco\" para permitirnos otra forma de crear diccionarios:"
   ]
  },
  {
   "cell_type": "code",
   "execution_count": 34,
   "metadata": {},
   "outputs": [
    {
     "name": "stdout",
     "output_type": "stream",
     "text": [
      "{'surname': 'Wayne', 'name': 'Bruce', 'city': 'Gotham', 'alter_ego': 'Batman'}\n"
     ]
    }
   ],
   "source": [
    "data = dict(name='Bruce', surname='Wayne', alter_ego='Batman', city='Gotham')\n",
    "print(data)"
   ]
  },
  {
   "cell_type": "markdown",
   "metadata": {},
   "source": [
    "Podemos especificar una función que acepte un número arbitrario\n",
    "de parámetros por posición, seguidos por un número arbitrario\n",
    "de parámetros por nombre -siempre en este orden- de la siguiente\n",
    "manera:"
   ]
  },
  {
   "cell_type": "code",
   "execution_count": 31,
   "metadata": {
    "collapsed": true
   },
   "outputs": [],
   "source": [
    "def f(*args, **kwargs):\n",
    "    ..."
   ]
  },
  {
   "cell_type": "markdown",
   "metadata": {},
   "source": [
    "### Listas, tuplas o diccionarios como parámetros\n",
    "\n",
    "Puede que tengamos el caso contrario, una función que acepta `n`\n",
    "parámetros, y nosotros tenemos esos parámetros en una lista o tupla.\n",
    "Por ejemplo, la función `range` espera dos parámetros, de inicio y\n",
    "final. Si tenemos esos parámetros en una lista, en vez de\n",
    "desempaquetarlos a mano, podemos usar la sintaxis `*` para pasar la\n",
    "tupla directamente::"
   ]
  },
  {
   "cell_type": "code",
   "execution_count": 39,
   "metadata": {
    "collapsed": true
   },
   "outputs": [],
   "source": [
    "a = range(3, 6)             # Llamada normal\n",
    "\n",
    "args = [3, 6]\n",
    "b = range(*args)            # Llamada con parámetros empaquetados\n",
    "\n",
    "assert a == b"
   ]
  },
  {
   "cell_type": "markdown",
   "metadata": {},
   "source": [
    "De la misma manera, podemos desempaquetar un diccionario para que sea\n",
    "aceptable como una serie de parámetros por nombre de una función usando `**`:"
   ]
  },
  {
   "cell_type": "code",
   "execution_count": 40,
   "metadata": {},
   "outputs": [
    {
     "name": "stdout",
     "output_type": "stream",
     "text": [
      "6.0\n"
     ]
    }
   ],
   "source": [
    "datos = {'base':3, 'altura': 4}\n",
    "print(area_triangulo(**datos))"
   ]
  },
  {
   "cell_type": "markdown",
   "metadata": {},
   "source": [
    "### Funciones Lambda\n",
    "\n",
    "Dentro del soporte para programación funcional de Python, se ha\n",
    "añadido la capacidad de crear pequeñas **funciones anónimas**, mediante la\n",
    "palabra reservada `lambda`. Por ejemplo, ésta es la definición de\n",
    "una función que suma los dos parámetros que se le pasan: `lambda\n",
    "(x,y): x+y`.\n",
    "\n",
    "No hace falta especificar la sentencia `return`, ya que\n",
    "sintácticamente las funciones lambda están limitadas a una única\n",
    "expresión, que será la resultante. Las funciones definidas con `lambda`\n",
    "pueden ser usadas de igual manera que cualquier otra función; son solo\n",
    "azucar sintáctico para una definición de función normal. Las\n",
    "funciones `lambda` pueden referenciar variables en el ámbito en que se\n",
    "definan, por ejemplo:"
   ]
  },
  {
   "cell_type": "code",
   "execution_count": 10,
   "metadata": {},
   "outputs": [
    {
     "name": "stdout",
     "output_type": "stream",
     "text": [
      "49 30\n"
     ]
    }
   ],
   "source": [
    "n = 42\n",
    "f = lambda x: x+n\n",
    "print(f(7), f(-12))"
   ]
  },
  {
   "cell_type": "code",
   "execution_count": 15,
   "metadata": {},
   "outputs": [
    {
     "name": "stdout",
     "output_type": "stream",
     "text": [
      "43\n",
      "44\n",
      "45\n",
      "46\n"
     ]
    }
   ],
   "source": [
    "for i in map(lambda x:x+42, [1,2,3,4]): print(i)"
   ]
  },
  {
   "cell_type": "code",
   "execution_count": 17,
   "metadata": {},
   "outputs": [
    {
     "data": {
      "text/plain": [
       "[0, 1, 4, 9, 16, 25, 36, 49, 64, 81, 100, 121]"
      ]
     },
     "execution_count": 17,
     "metadata": {},
     "output_type": "execute_result"
    }
   ],
   "source": [
    "def mapa(f, lista):\n",
    "    return [f(x) for x in lista]\n",
    "\n",
    "mapa(lambda x:x**2, range(12))"
   ]
  },
  {
   "cell_type": "code",
   "execution_count": 18,
   "metadata": {},
   "outputs": [
    {
     "data": {
      "text/plain": [
       "43"
      ]
     },
     "execution_count": 18,
     "metadata": {},
     "output_type": "execute_result"
    }
   ],
   "source": [
    "def sumador(x):\n",
    "    \n",
    "    def addx(num): \n",
    "        return num + x\n",
    "    \n",
    "    return addx\n",
    "\n",
    "\n",
    "suma42 = sumador(42)\n",
    "suma42(1)"
   ]
  },
  {
   "cell_type": "code",
   "execution_count": 27,
   "metadata": {},
   "outputs": [
    {
     "name": "stdout",
     "output_type": "stream",
     "text": [
      "Salva 4 a base de datos\n"
     ]
    }
   ],
   "source": [
    "def f(x): return x+1\n",
    "def g(x): return x+2\n",
    "def h(x): return x+3\n",
    "def i(x): return x+4\n",
    "def j(x): return x+5\n",
    "\n",
    "def save_fs(x): print ('Salva', x, 'a fichero')\n",
    "def save_db(x): print ('Salva', x, 'a base de datos')    \n",
    "def save_void(x): print ('Salva', x, 'nulo')\n",
    "\n",
    "def compose(f, g):\n",
    "    def aux(x):\n",
    "        return f(g(x))\n",
    "    return aux\n",
    "\n",
    "d = {}\n",
    "for f1 in (f, g, h ,i, j):\n",
    "    for f2 in (save_fs, save_db, save_void):\n",
    "        name = f1.__name__ + '_' + f2.__name__\n",
    "        d[name] = compose(f2, f1)\n",
    "\n",
    "d['f_save_db'](3)"
   ]
  },
  {
   "cell_type": "code",
   "execution_count": 41,
   "metadata": {},
   "outputs": [
    {
     "data": {
      "text/plain": [
       "6"
      ]
     },
     "execution_count": 41,
     "metadata": {},
     "output_type": "execute_result"
    }
   ],
   "source": [
    "import time\n",
    "\n",
    "def timeit(f):\n",
    "    \n",
    "    def aux(*args):\n",
    "        start = time.time()\n",
    "        result = f(*args)\n",
    "        delta = time.time() - start\n",
    "        print(delta)\n",
    "        return result\n",
    "    \n",
    "    return aux\n",
    "\n",
    "@timeit()\n",
    "def suma(db, a, b):\n",
    "    return a+b\n",
    "\n",
    "\n",
    "suma(2, 3)\n"
   ]
  },
  {
   "cell_type": "code",
   "execution_count": null,
   "metadata": {},
   "outputs": [],
   "source": []
  },
  {
   "cell_type": "code",
   "execution_count": null,
   "metadata": {},
   "outputs": [],
   "source": []
  }
 ],
 "metadata": {
  "kernelspec": {
   "display_name": "Python 3",
   "language": "python",
   "name": "python3"
  },
  "language_info": {
   "codemirror_mode": {
    "name": "ipython",
    "version": 3
   },
   "file_extension": ".py",
   "mimetype": "text/x-python",
   "name": "python",
   "nbconvert_exporter": "python",
   "pygments_lexer": "ipython3",
   "version": "3.5.2"
  }
 },
 "nbformat": 4,
 "nbformat_minor": 2
}
