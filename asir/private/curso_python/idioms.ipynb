{
 "cells": [
  {
   "cell_type": "markdown",
   "metadata": {},
   "source": [
    "# Idioms en Python\n",
    "\n",
    "Los palabra inglesa *idioms* (frases idiomáticas en español) se refiere a las frases hechas de un determinado lenguaje, que normalmente son bastante confusas para los foraneos, pues el significado de toda la expresión no suele tener nada que ver con los significados individuales de cada una de las palabras.\n",
    "\n",
    "En programación, se habla de _idioms_ para refereirse a expresiones o\n",
    "construcciones comunes en un determinado lenguaje de programación. Hablanddo\n",
    "en general, serían la expresión de alguna tarea sencilla, algoritmo o estructura\n",
    "de datos que, sin ser una parte integrante del lenguaje de programación\n",
    "en si,es de uso habitual o, alternativamente, el uso de una característica\n",
    "notable o inusual que está intergada en el lenguaje. El termino a veces es\n",
    "utilizado en un sentido más amplio para referirse a algoritmos complejos\n",
    "o patrones de diseño.\n",
    "\n",
    "Conocer los _idioms_ asociados a un determinado lenguaje y saber cuando y\n",
    "como usarlos es una parte importante en el proceso de aprendizaje y ayuda a\n",
    "sentirse más cómodo con el mismo.\n",
    "\n"
   ]
  },
  {
   "cell_type": "markdown",
   "metadata": {},
   "source": [
    "## Generadores y corutinas\n",
    "\n",
    "[TODO]"
   ]
  },
  {
   "cell_type": "markdown",
   "metadata": {},
   "source": [
    "## Programación funcional\n",
    "\n",
    "La programación funcional parte de la premisa de que las funciones son\n",
    "solo otro tipo de variables; por tanto, todo lo que podemos hacer con\n",
    "una variable, lo debemos poder hacer con una función. Podemos pasar\n",
    "funciones como parámetros de otros funciones, las funciones nos pueden\n",
    "retornar otras funciones, las funciones se pueden almacenar en un\n",
    "diccionario, etc...\n",
    "\n",
    "Esto se expresa normalmente con la frase: \"Las funciones son\n",
    "objetos de primera clase\".\n",
    "\n",
    "Los primeros ejemplos de programación funcional estaban en python\n",
    "desde la versión 1.0; se trata de las expresiones `lambda`, que ya\n",
    "vimos, y las funciones: `filter()`, `map()` y `reduce()`.\n",
    "\n",
    "la función `filter` acepta como primer parámetro una función, y como\n",
    "segundo parámetro una secuencia. El resultado en otra secuencia en la\n",
    "que se estan sólo aquellos valores de la secuencia original para los\n",
    "que el resultado de aplicarles la función es `True`\n",
    "\n",
    "**Note** Cambios en Python 2.7 / Python 3.x\n",
    "\n",
    "> En Python 2.7, si la secuencia es una string o una tupla, el\n",
    "> resultado es del mismo tipo, si es una lista o alguna otra cosa, el\n",
    "> resultado será una lista. En Python 3.0 siempre se devuelve un\n",
    "> iterador; si se necesita una lista siempre se puede hacer\n",
    "> `list(map(...))`.\n",
    "\n",
    "Por ejemplo, la lista de los primeros 200 números que son divisibles por\n",
    "5 y por 7:"
   ]
  },
  {
   "cell_type": "code",
   "execution_count": 18,
   "metadata": {},
   "outputs": [
    {
     "name": "stdout",
     "output_type": "stream",
     "text": [
      "35\n",
      "70\n",
      "105\n",
      "140\n",
      "175\n"
     ]
    }
   ],
   "source": [
    "def es_divisible_por_5_y_7(x):\n",
    "    return x % 5 == 0 and x % 7 == 0\n",
    "\n",
    "for i in filter(es_divisible_por_5_y_7, range(1, 201)):\n",
    "    print(i)"
   ]
  },
  {
   "cell_type": "markdown",
   "metadata": {},
   "source": [
    "la función `map` tambien acepta como primer parámetro una función, y\n",
    "como segundo, una secuencia. El resultado es otra secuencia, compuesta\n",
    "por los resultados de llamar a la función pasada en cada uno de los\n",
    "elementos de la secuencia original. Por ejemplo, para imprimir la\n",
    "lista de los cubos de los 10 primeros números:"
   ]
  },
  {
   "cell_type": "code",
   "execution_count": 19,
   "metadata": {},
   "outputs": [
    {
     "data": {
      "text/plain": [
       "[1, 8, 27, 64, 125, 216, 343, 512, 729, 1000]"
      ]
     },
     "execution_count": 19,
     "metadata": {},
     "output_type": "execute_result"
    }
   ],
   "source": [
    "def cube(x):\n",
    "    return x*x*x\n",
    "\n",
    "list(map(cube, range(1, 11)))"
   ]
  },
  {
   "cell_type": "markdown",
   "metadata": {},
   "source": [
    "Podemos pasar más de una secuencia; en ese caso, la función pasada\n",
    "como parámetro debe aceptar tantos parámetros como secuencias haya, y\n",
    "es invocada con los parámetros que correspondan de cada una de las\n",
    "secuencias (O con el valor `None`, si  una de las secuencias es más\n",
    "corta que las otras). Por ejemplo, calculemos una lista con las medias\n",
    "de los datos de otras dos listas:"
   ]
  },
  {
   "cell_type": "code",
   "execution_count": 20,
   "metadata": {},
   "outputs": [
    {
     "data": {
      "text/plain": [
       "[66.0, 40.0, 505.0, 38.5, 8.0, 31.0]"
      ]
     },
     "execution_count": 20,
     "metadata": {},
     "output_type": "execute_result"
    }
   ],
   "source": [
    "l1 = [123, 45, 923, 2, -23, 55]\n",
    "l2 = [9, 35, 87, 75, 39, 7]\n",
    "\n",
    "def media(a, b):\n",
    "    return (a + b) / 2\n",
    "    \n",
    "list(map(media, l1, l2))"
   ]
  },
  {
   "cell_type": "markdown",
   "metadata": {},
   "source": [
    "la función `reduce`, para no variar, acepta una función y una\n",
    "secuencia, pero al contrario que las  anteriores, devuelve un único\n",
    "valor. Ese valor se  calcula de la siguiente manera: en primer lugar,\n",
    "la función  que se pasa como primer parámetro tiene que aceptar dos\n",
    "valores, y retornar uno. Se calcula el resultado de aplicar la función\n",
    "a los dos primeros valores de la secuencia. A continuación, se aplica\n",
    "de nuevo la función, esta vez usando como parámetros el resultado\n",
    "calculado antes y al tercer elemento de la secuencia. Se prosigue así\n",
    "hasta agotar los valores de la secuencia original.\n",
    "\n",
    "por ejemplo, para sumar los números del 1 al 10, podriamos (pero no deberíamos, vease la nota a continuación) hacer:"
   ]
  },
  {
   "cell_type": "code",
   "execution_count": 21,
   "metadata": {},
   "outputs": [
    {
     "data": {
      "text/plain": [
       "55"
      ]
     },
     "execution_count": 21,
     "metadata": {},
     "output_type": "execute_result"
    }
   ],
   "source": [
    "from functools import reduce\n",
    "\n",
    "def suma(x,y):\n",
    "    return x+y\n",
    "\n",
    "reduce(suma, range(1, 11))"
   ]
  },
  {
   "cell_type": "markdown",
   "metadata": {},
   "source": [
    "**nota**: la función `sum`\n",
    "\n",
    "> No se debe usar este modo de realizar sumas, porque esta\n",
    "> es una necesidad tan común que ya existe una función\n",
    "> incorporada para ello: `sum(sequence)`, que funciona\n",
    "> exactamente  igual, pero más rápido al estár\n",
    "> implementada en C.\n",
    "\n",
    "Si solo hay un elemento en la lista, se devuelve ese elemento. Si la\n",
    "lista esta vacia, sin embargo, se considera un error y se eleva una\n",
    "excepción de tipo `TypeError`.\n",
    "\n",
    ".. note::  Cambios en Python 2.7 / Python 3.x\n",
    "\n",
    "    En Python 3.x `reduce` ya no es una función incorporada\n",
    "    por defecto, si se quiere utilizar, hay que importarla del\n",
    "    módulo `functools`.\n",
    "\n",
    "Se puede indicar también un tercer parámetro, que sería el  valor\n",
    "inicial. En ese caso, la función se empieza aplicando como parámetros\n",
    "el valor inicial y el primer elemento, luego con el resultado\n",
    "previo y el segundo elemento, etc..."
   ]
  },
  {
   "cell_type": "markdown",
   "metadata": {},
   "source": [
    "### El módulo itertools\n",
    "\n",
    "Este módulo implementa una serie de iteradores que se pueden usar como\n",
    "elementos básicos, inspirados por distintas construcciones que podemos\n",
    "encontrar en otros lenguajes como APL, Haskell o SML. Estas utilidades\n",
    "cuentan con la ventaja de ser estándar, eficientes y rápidas, al estar\n",
    "implementadas a bajo nivel. Con estas utilidades se puede formar una\n",
    "especie de *algebra de iteradores* que permite construir herramientas\n",
    "más especializadas de forma suscinta y eficiente.\n",
    "\n",
    "Algunas de las funciones de este módulo son:\n",
    "\n",
    "- count(start, [step])\n",
    "\n",
    "        Iterador infinito. Devuelve la cuenta, empezando por\n",
    "        `start` e incrementados por el valor opcional `step` (\n",
    "        por omisión, 1):\n",
    "\n",
    "            >>> for i in itertools.count(10, -1):\n",
    "            ...     print(i)\n",
    "            ...     if i == 0: break;\n",
    "            ...\n",
    "            10\n",
    "            9\n",
    "            8\n",
    "            7\n",
    "            6\n",
    "            5\n",
    "            4\n",
    "            3\n",
    "            2\n",
    "            1\n",
    "            0\n",
    "\n",
    "- cycle(s)\n",
    "\n",
    "        Iterador infinito. Empieza devolviendo los elementos de\n",
    "        la secuencia `s`, y cuando termina, vuelve a empezar:\n",
    "\n",
    "            >>> color = itertools.cycle(['red', 'green', 'blue'])\n",
    "            >>> for i in range(7):\n",
    "            ...     print(color.next())\n",
    "            ...\n",
    "            red\n",
    "            green\n",
    "            blue\n",
    "            red\n",
    "            green\n",
    "            blue\n",
    "            red\n",
    "            >>>\n",
    "\n",
    "- chain(s1, s2, ... ,sn)\n",
    "\n",
    "        Encadena una secuencia detrás de otra:\n",
    "\n",
    "            >>> l = [c for c in itertools.chain('ABC', 'DEF')]\n",
    "            >>> l\n",
    "            ['A', 'B', 'C', 'D', 'E', 'F']\n",
    "            >>>\n",
    "\n",
    "- groupby(s, f)\n",
    "\n",
    "        Agrupa los elementos de una secuencia `s`, por el\n",
    "        procedimiento de aplicar la función `f` a cada elemento,\n",
    "        asignado al mismo grupo a aquellos elementos que devuelven el\n",
    "        mismo resultado. El resultado es un iterador que retorna\n",
    "        duplas (tuplas de dos elementos) formadas por el resultado de\n",
    "        la función y un iterador de todos los elementos\n",
    "        correspondientes a ese resultado:\n",
    "\n",
    "            >>> l = ['Donatello', 'Leonardo', 'Michelangelo', 'Raphael']\n",
    "            >>> f = lambda x: x[-1]\n",
    "            >>> for (letra, s) in itertools.groupby(l, f):\n",
    "            ...     print(letra)\n",
    "            ...     for i in s: print(' -', i)\n",
    "            ...\n",
    "            o\n",
    "             - Donatello\n",
    "             - Leonardo\n",
    "             - Michelangelo\n",
    "            l\n",
    "             - Raphael\n",
    "            >>>\n",
    "\n",
    "    product(p, q, ...)\n",
    "\n",
    "        Devuelve el proucto cartesiano de las secuencias que se la pasen\n",
    "        como parámetros. Es equivalente a varios bucles for anidados; por\n",
    "        ejemplo:\n",
    "\n",
    "            product(A, B)\n",
    "\n",
    "        devuelve el mismo resultado que:\n",
    "\n",
    "            ((x,y) for x in A for y in B)\n",
    "\n",
    "        Ejemplo de uso:\n",
    "\n",
    "            >>> for (letra, numero) in itertools.product('AB', [1,2]):\n",
    "            ...     print(letra, numero)\n",
    "            ...\n",
    "            A 1\n",
    "            A 2\n",
    "            B 1\n",
    "            B 2\n",
    "            >>>\n",
    "\n",
    "    combinations(s, n)\n",
    "\n",
    "        Devuelve todas las combinaciones de longitud `n` que se\n",
    "        pueden obtener a partir de los elementos de `s`. Los\n",
    "        elementos serán considerados únicos en base a su posición, no\n",
    "        por su valor, así que si cada elemento es único, no habra\n",
    "        repeticiones dentro de cada combinación. El número de\n",
    "        combinaciones retornadas sera de `n! / r! / (n-r)!`, donde\n",
    "        `r ∈ [0, 1, ..., n]`. Si `r` es mayor que `n`, no se\n",
    "        devuelve ningún valor.\n",
    "\n",
    "        >>> for i in itertools.combinations('ABCD', 1): print(''.join(i))\n",
    "        ...\n",
    "        A\n",
    "        B\n",
    "        C\n",
    "        D\n",
    "        >>> for i in itertools.combinations('ABCD', 2): print(''.join(i))\n",
    "        ...\n",
    "        AB\n",
    "        AC\n",
    "        AD\n",
    "        BC\n",
    "        BD\n",
    "        CD\n",
    "        >>> for i in itertools.combinations('ABCD', 3): print(''.join(i))\n",
    "        ...\n",
    "        ABC\n",
    "        ABD\n",
    "        ACD\n",
    "        BCD\n",
    "        >>> for i in itertools.combinations('ABCD', 4): print(''.join(i))\n",
    "        ABCD\n",
    "        >>>"
   ]
  },
  {
   "cell_type": "markdown",
   "metadata": {},
   "source": [
    "## Comprehension\n",
    "\n",
    "La técnica de comprehension, que se puede aplicar en Python a\n",
    "listas, son una forma sencilla de filtrar o transformar \n",
    "determinadas estructuras de datos, normalmente listas, secuencias\n",
    ", conjuntos o diccionarios. Veremos cada una de estas en las\n",
    "siguientes secciones. \n",
    "\n",
    "Lo importante sobre estas técnicas es tener en cuenta que no\n",
    "resuelven ningún problema nuevo, solo son una forma más concisa\n",
    "y elegante de resolver un problema ya conocido. Son, por tanto,\n",
    "poco más que azucar sintáctico.\n",
    "\n",
    "Lo veremos con más detalle con los ejemplos de cada tipo de compresion."
   ]
  },
  {
   "cell_type": "markdown",
   "metadata": {},
   "source": [
    "### Comprensión de listas (_List comprehension_)\n",
    "\n",
    "La compresión de listas fue la primera de estas técnicas\n",
    "incorporadas a Python. Es un sistema que nos permite crear\n",
    "una lista de forma muy sencilla a partir, por ejemplo, otra lista.\n",
    "\n",
    "El uso más habitual es crear una lista en la que los elementos son\n",
    "transformaciones de los elementos de otra, o una lista que es un subconjunto\n",
    "de otra, formada por los elementos que satisfacen una determinada\n",
    "condición, o ambas cosas a la vez. Es mejor verlo con un ejemplo: supongamos\n",
    "que tenemos la lista de los numeros del 1 al 10, y queremos obtener\n",
    "otra lista con los cuadrados de cada números es decir, queremos, partiendo\n",
    "de esta lista:\n",
    "\n",
    "    [1, 2, 3, 4, 5, 6, 7, 8, 9, 10]\n",
    "\n",
    "Obtener esta otra:\n",
    "\n",
    "    [1, 4, 9, 16, 25, 36, 49, 64, 81, 100]\n",
    "\n",
    "La forma tradicional sería:"
   ]
  },
  {
   "cell_type": "code",
   "execution_count": 22,
   "metadata": {},
   "outputs": [],
   "source": [
    "numeros = [1, 2, 3, 4, 5, 6, 7, 8, 9, 10]\n",
    "\n",
    "cuadrados = []\n",
    "for n in numeros:\n",
    "    cuadrados.append(n**2)\n",
    "\n",
    "assert cuadrados == [1, 4, 9, 16, 25, 36, 49, 64, 81, 100]"
   ]
  },
  {
   "cell_type": "markdown",
   "metadata": {},
   "source": [
    "Usando comprension de listas, podemos obtener el mismo resultado \n",
    "así:"
   ]
  },
  {
   "cell_type": "code",
   "execution_count": 23,
   "metadata": {},
   "outputs": [],
   "source": [
    "numeros = [1, 2, 3, 4, 5, 6, 7, 8, 9, 10]\n",
    "\n",
    "cuadrados = [n**2 for n in numeros]\n",
    "\n",
    "assert cuadrados == [1, 4, 9, 16, 25, 36, 49, 64, 81, 100]"
   ]
  },
  {
   "cell_type": "markdown",
   "metadata": {},
   "source": [
    "Vemos que con menos código obtenemos el mismo resultado, más\n",
    "expresivo y más rápido en ejecución (las comprensiones\n",
    "se ejecutan internamente en C).\n",
    "\n",
    "Si quisieramos solo los cuadrados de los números impares, podriamos\n",
    "hacer:"
   ]
  },
  {
   "cell_type": "code",
   "execution_count": 24,
   "metadata": {},
   "outputs": [],
   "source": [
    "numeros = [1, 2, 3, 4, 5, 6, 7, 8, 9, 10]\n",
    "cuadrados = [n**2 for n in numeros if n % 2 != 0]\n",
    "assert cuadrados == [1, 9, 25, 49, 81]"
   ]
  },
  {
   "cell_type": "markdown",
   "metadata": {},
   "source": [
    "En general, la sintáxis de una comprensión de lista es de\n",
    "la siguiente manera: \n",
    "\n",
    "    [<Expresion> for <variable> in <secuencia> if <condición>]\n",
    "\n",
    "Donde la parte del condicional, el if y la condición, son\n",
    "opcionales, y la expresion normalmente se calcula en función\n",
    "de la variable. La secuencia puede ser una lista, pero hablando\n",
    "con propiedad puede ser cualquier cosa que sea una secuencia,\n",
    "como un conjunto, un diccionario, un generador, etc...\n",
    "\n",
    "**Ejercicio**: A partir de la siguiente lista de tuplas, donde\n",
    "cada tupla está compuesta por  el nombre de un personaje\n",
    "y la casa a la que pertenece, obtener una nueva lista donde\n",
    "esten solo los nombres en mayúsculas de los personajes de la \n",
    "case *Stark*:"
   ]
  },
  {
   "cell_type": "code",
   "execution_count": 25,
   "metadata": {},
   "outputs": [],
   "source": [
    "personajes = [\n",
    "    ('Jon Nieve', 'Stark'),\n",
    "    ('Tyrion Lannister', 'Lannister'),\n",
    "    ('Petyr Baelish', 'Arryn'),\n",
    "    ('Arys Oakheart', 'Oakheart'),\n",
    "    ('Jaime Lannister', 'Lannister'),\n",
    "    ('Cersei Lannister', 'Lannister'),\n",
    "    ('Eddard Stark', 'Stark'),\n",
    "    ('Casper Wylde', 'Baratheon'),\n",
    "    ]\n"
   ]
  },
  {
   "cell_type": "markdown",
   "metadata": {},
   "source": [
    "### Expresiones generadoras\n",
    "\n",
    "También tenemos una construcción muy similar, una **expresión\n",
    "generadora** (Disponible desde Python 2.4), que en vez de devolvernos\n",
    "una lista, nos permite obtener un generador. La sintaxis es idéntica a\n",
    "una comprensión de lista, pero sustituyendo los corchetes por\n",
    "paréntesis. Atendiendo al rendimiento, la diferencia puede ser muy\n",
    "importante, ya que con la lista obtenemos todos los elementos ya\n",
    "generados (y, por tanto, consumiendo memoria) mientras que un\n",
    "generador nos irá dando los valores de uno en uno (Lo que en\n",
    "informática se conoce como **evaluación perezosa** (_lazy evaluation_):"
   ]
  },
  {
   "cell_type": "code",
   "execution_count": 26,
   "metadata": {},
   "outputs": [
    {
     "name": "stdout",
     "output_type": "stream",
     "text": [
      "0\n",
      "1\n",
      "4\n",
      "9\n",
      "16\n",
      "25\n",
      "36\n",
      "49\n",
      "64\n",
      "81\n",
      "100\n"
     ]
    }
   ],
   "source": [
    "s = [x**2 for x in range(11)]\n",
    "assert s ==  [0, 1, 4, 9, 16, 25, 36, 49, 64, 81, 100]\n",
    "\n",
    "s = (x**2 for x in range(11))\n",
    "s # es un generador\n",
    "for i in s:\n",
    "    print(i)"
   ]
  },
  {
   "cell_type": "markdown",
   "metadata": {},
   "source": [
    "### Comprensión de diccionarios\n",
    "\n",
    "También tenemos a nuestra disposición (Desde python 2.7) la\n",
    "comprensión de diccionarios, es decir, poder crear diccionarios a\n",
    "partir de otras fuentes de datos. La sintaxis es similar,\n",
    "cambiando los corchetes/paréntesis por llaves`{` y `}`, y la expresión tienen\n",
    "que tener la forma `clave: valor`:"
   ]
  },
  {
   "cell_type": "code",
   "execution_count": 27,
   "metadata": {},
   "outputs": [
    {
     "data": {
      "text/plain": [
       "{1: 1, 3: 9, 5: 25, 7: 49, 9: 81}"
      ]
     },
     "execution_count": 27,
     "metadata": {},
     "output_type": "execute_result"
    }
   ],
   "source": [
    "{x: x**2 for x in range(1, 11, 2)}"
   ]
  },
  {
   "cell_type": "code",
   "execution_count": 28,
   "metadata": {},
   "outputs": [
    {
     "data": {
      "text/plain": [
       "{'A': 65, 'B': 66, 'C': 67, 'D': 68, 'E': 69}"
      ]
     },
     "execution_count": 28,
     "metadata": {},
     "output_type": "execute_result"
    }
   ],
   "source": [
    "{chr(i): i for i in range(65, 70)}"
   ]
  },
  {
   "cell_type": "markdown",
   "metadata": {},
   "source": [
    "### Comprensión de conjuntos\n",
    "\n",
    "Por último, también es posible definir un conjunto a partir de otros\n",
    "valores. La única forma de distinguir esta sintaxis de la usada para\n",
    "diccionarios es que la expresión no va en la forma <clave>:<valor>.\n",
    "Podemos crear un conjunto usando la forma más sencilla: una serie de\n",
    "valores separados por comas:"
   ]
  },
  {
   "cell_type": "code",
   "execution_count": 29,
   "metadata": {},
   "outputs": [
    {
     "data": {
      "text/plain": [
       "{'b', 'c', 'd', 'r'}"
      ]
     },
     "execution_count": 29,
     "metadata": {},
     "output_type": "execute_result"
    }
   ],
   "source": [
    "a = {x for x in 'abracadabra' if x not in 'aeiou'}\n",
    "a"
   ]
  },
  {
   "cell_type": "markdown",
   "metadata": {},
   "source": [
    "## Gestores de contexto: La estructura de control with\n",
    "\n",
    "La sentencia `with` nos permite \"envolver\" un bloque de código con\n",
    "operaciones a ejecutar antes y después del mismo. A menudo las\n",
    "operaciones tienen una cierta simetria; por ejemplo, la operación de\n",
    "abrir un archivo implica que en algún lado tiene que haber una\n",
    "operación de cierre. En lenguajes que operan directamente con la\n",
    "memoria, como C o C++, la petición para reservar un trozo de memoria\n",
    "(`malloc`) tiene su reflejo en la operación de liberado de la misma\n",
    "(`free`). Un error común en programación es olvidar esta simetría:\n",
    "abrir un fichero pero no cerrarlo, o reservar una parte de la memoria\n",
    "pero no liberarla_, por ejemplo. Hemos visto que podemos resolver\n",
    "estos problemas con una clausula `try/finally`, pero la sentencia\n",
    "`with` (Disponible desde Python 2.5) es más potenta y permite\n",
    "**encapsular** este mecanismo.\n",
    "\n",
    "Por ejemplo, los objetos de tipo fichero pueden trabajar con `with`,\n",
    "de forma que en vez de hacer esto:"
   ]
  },
  {
   "cell_type": "code",
   "execution_count": 32,
   "metadata": {},
   "outputs": [
    {
     "name": "stdout",
     "output_type": "stream",
     "text": [
      "nº de líneas: 840\n"
     ]
    }
   ],
   "source": [
    "try:\n",
    "    f = open('idioms.ipynb', 'r')\n",
    "    # proceso el fichero\n",
    "    n = len(f.readlines())\n",
    "    print('nº de líneas: {}'.format(n))\n",
    "finally:\n",
    "    f.close()"
   ]
  },
  {
   "cell_type": "markdown",
   "metadata": {},
   "source": [
    "Podemos hacer:"
   ]
  },
  {
   "cell_type": "code",
   "execution_count": null,
   "metadata": {},
   "outputs": [],
   "source": [
    "with open('fichero.datos', 'r') as f:\n",
    "    # proceso el fichero\n",
    "    n = len(f.readlines())"
   ]
  },
  {
   "cell_type": "markdown",
   "metadata": {},
   "source": [
    "Y en ambos casos está garantizado el cierre del fichero, se hayan\n",
    "producido o no errores durante el proceso.\n",
    "\n",
    "Para conseguir esto, la sentencia `with` utiliza internamente lo que\n",
    "se denomina un **gestor de contexto** (_context manager_). Un gestor\n",
    "de contexto es un objeto que sabe lo que hay que hacer antes y lo que\n",
    "hay que hacer después de usar otro objeto. La clase `file`, en el\n",
    "ejemplo anterior, es capaz de suministrar un generador de contexto que\n",
    "sabe que, cuando termine, el fichero debe cerrarse; por eso en el\n",
    "segundo ejemplo no hay necesidad de poner un `close` explícito (Con\n",
    "lo que tampoco podemos olvidarnos de ponerlo).\n",
    "\n",
    "El mecanismo interno de `with` es más o menos así:\n",
    "\n",
    "- La expresión que viene después del `with` es evaluada y se\n",
    "   obtiene de ella un gestor de contexto\n",
    "\n",
    "- Se **carga** el método `__exit__()` del gestor de contexto\n",
    "\n",
    "- Se llama al método `__enter__()` del gestor de contexto\n",
    "\n",
    "- Si se ha incluido un destino en la sentencia (con la\n",
    "   palabra reservada `as`), se le asigna el valor retornado\n",
    "   por el método `__enter__`\n",
    "\n",
    "- Se ejecuta el bloque de sentencias dentro del `with`.\n",
    "\n",
    "- Se ejecuta el método `__exit__()`. El método acepta tres\n",
    "    argumentos: Si se ha producido una excepción, se le pasan\n",
    "    el tipo, valor y traza de ejecución de la misma. Si no se han\n",
    "    producido errores, los tres parámetros se pasan cono `None`. Si ha\n",
    "    habido una excepción  y `__exit__()` returna `False`, la excepción\n",
    "    se elevará de nuevo; si, por el contrario, retorna `True`, la\n",
    "    excepción es suprimida. Si no ha habido ningún error, el resultado de\n",
    "    `__exit__()` es indiferente.\n",
    "\n",
    "Se pueden usar varias expresiones dentro del `with`, en ese caso,\n",
    "se considera como si estuvieran anidadas:"
   ]
  },
  {
   "cell_type": "code",
   "execution_count": null,
   "metadata": {
    "scrolled": true
   },
   "outputs": [],
   "source": [
    "with A() as a, B() as b:\n",
    "    # codigo\n",
    "    ..."
   ]
  },
  {
   "cell_type": "markdown",
   "metadata": {},
   "source": [
    "equivale a:"
   ]
  },
  {
   "cell_type": "code",
   "execution_count": null,
   "metadata": {},
   "outputs": [],
   "source": [
    "with A() as a:\n",
    "    with B() as b:\n",
    "        # codigo\n",
    "        ..."
   ]
  }
 ],
 "metadata": {
  "kernelspec": {
   "display_name": "Python 3",
   "language": "python",
   "name": "python3"
  },
  "language_info": {
   "codemirror_mode": {
    "name": "ipython",
    "version": 3
   },
   "file_extension": ".py",
   "mimetype": "text/x-python",
   "name": "python",
   "nbconvert_exporter": "python",
   "pygments_lexer": "ipython3",
   "version": "3.5.2"
  }
 },
 "nbformat": 4,
 "nbformat_minor": 2
}
